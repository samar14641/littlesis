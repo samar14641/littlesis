{
 "cells": [
  {
   "cell_type": "code",
   "execution_count": 1,
   "metadata": {},
   "outputs": [],
   "source": [
    "import ast\n",
    "import networkx as nx\n",
    "import numpy as np\n",
    "import os\n",
    "import pandas as pd\n",
    "import pickle"
   ]
  },
  {
   "cell_type": "code",
   "execution_count": 2,
   "metadata": {},
   "outputs": [
    {
     "data": {
      "text/plain": [
       "(284500, 13)"
      ]
     },
     "execution_count": 2,
     "metadata": {},
     "output_type": "execute_result"
    }
   ],
   "source": [
    "ents = pd.read_pickle(os.getcwd() + '/Pickle/all_entities.pkl')\n",
    "ents.shape"
   ]
  },
  {
   "cell_type": "code",
   "execution_count": 3,
   "metadata": {},
   "outputs": [
    {
     "data": {
      "text/plain": [
       "(1230815, 15)"
      ]
     },
     "execution_count": 3,
     "metadata": {},
     "output_type": "execute_result"
    }
   ],
   "source": [
    "rels = pd.read_pickle(os.getcwd() + '/Pickle/all_rels.pkl')\n",
    "rels.shape"
   ]
  },
  {
   "cell_type": "code",
   "execution_count": 4,
   "metadata": {},
   "outputs": [
    {
     "data": {
      "text/plain": [
       "(7454, 18)"
      ]
     },
     "execution_count": 4,
     "metadata": {},
     "output_type": "execute_result"
    }
   ],
   "source": [
    "filtered_data = pd.read_pickle(os.getcwd() + '/Pickle/filtered_org_match.pkl')\n",
    "filtered_data.shape"
   ]
  },
  {
   "cell_type": "code",
   "execution_count": 4,
   "metadata": {},
   "outputs": [
    {
     "data": {
      "text/plain": [
       "(118659, 2)"
      ]
     },
     "execution_count": 4,
     "metadata": {},
     "output_type": "execute_result"
    }
   ],
   "source": [
    "matched_names_res = {}\n",
    "\n",
    "with open(os.getcwd() + '/Pickle/matched_names.pickle', 'rb') as pkl:\n",
    "    matched_names_res = pickle.load(pkl)\n",
    "    \n",
    "matched_name_df = pd.DataFrame(list(matched_names_res.items())).rename(columns = {0: 'ls_id', 1: 'bp_id'})  # create df of matched name IDs\n",
    "matched_name_df.shape"
   ]
  },
  {
   "cell_type": "code",
   "execution_count": 5,
   "metadata": {},
   "outputs": [
    {
     "data": {
      "text/html": [
       "<div>\n",
       "<style scoped>\n",
       "    .dataframe tbody tr th:only-of-type {\n",
       "        vertical-align: middle;\n",
       "    }\n",
       "\n",
       "    .dataframe tbody tr th {\n",
       "        vertical-align: top;\n",
       "    }\n",
       "\n",
       "    .dataframe thead th {\n",
       "        text-align: right;\n",
       "    }\n",
       "</style>\n",
       "<table border=\"1\" class=\"dataframe\">\n",
       "  <thead>\n",
       "    <tr style=\"text-align: right;\">\n",
       "      <th></th>\n",
       "      <th>ls_id</th>\n",
       "      <th>bp_id</th>\n",
       "    </tr>\n",
       "  </thead>\n",
       "  <tbody>\n",
       "    <tr>\n",
       "      <th>0</th>\n",
       "      <td>262146</td>\n",
       "      <td>998678</td>\n",
       "    </tr>\n",
       "    <tr>\n",
       "      <th>1</th>\n",
       "      <td>262147</td>\n",
       "      <td>636330</td>\n",
       "    </tr>\n",
       "    <tr>\n",
       "      <th>2</th>\n",
       "      <td>262150</td>\n",
       "      <td>934460</td>\n",
       "    </tr>\n",
       "    <tr>\n",
       "      <th>2</th>\n",
       "      <td>262150</td>\n",
       "      <td>3191192</td>\n",
       "    </tr>\n",
       "    <tr>\n",
       "      <th>3</th>\n",
       "      <td>262154</td>\n",
       "      <td>638094</td>\n",
       "    </tr>\n",
       "  </tbody>\n",
       "</table>\n",
       "</div>"
      ],
      "text/plain": [
       "    ls_id    bp_id\n",
       "0  262146   998678\n",
       "1  262147   636330\n",
       "2  262150   934460\n",
       "2  262150  3191192\n",
       "3  262154   638094"
      ]
     },
     "execution_count": 5,
     "metadata": {},
     "output_type": "execute_result"
    }
   ],
   "source": [
    "matched_name_df_exploded = matched_name_df.explode('bp_id')\n",
    "matched_name_df_exploded.head()"
   ]
  },
  {
   "cell_type": "code",
   "execution_count": 6,
   "metadata": {},
   "outputs": [
    {
     "data": {
      "text/plain": [
       "4054832"
      ]
     },
     "execution_count": 6,
     "metadata": {},
     "output_type": "execute_result"
    }
   ],
   "source": [
    "bipartite_all = nx.read_gpickle(os.getcwd() + '/Pickle/bipartite-all010420.pickle')\n",
    "bipartite_all.number_of_nodes()"
   ]
  },
  {
   "cell_type": "code",
   "execution_count": 8,
   "metadata": {},
   "outputs": [
    {
     "data": {
      "text/html": [
       "<div>\n",
       "<style scoped>\n",
       "    .dataframe tbody tr th:only-of-type {\n",
       "        vertical-align: middle;\n",
       "    }\n",
       "\n",
       "    .dataframe tbody tr th {\n",
       "        vertical-align: top;\n",
       "    }\n",
       "\n",
       "    .dataframe thead th {\n",
       "        text-align: right;\n",
       "    }\n",
       "</style>\n",
       "<table border=\"1\" class=\"dataframe\">\n",
       "  <thead>\n",
       "    <tr style=\"text-align: right;\">\n",
       "      <th></th>\n",
       "      <th>ls_id</th>\n",
       "      <th>bp_id</th>\n",
       "      <th>ls_rels</th>\n",
       "      <th>bp_rels</th>\n",
       "    </tr>\n",
       "  </thead>\n",
       "  <tbody>\n",
       "    <tr>\n",
       "      <th>1236</th>\n",
       "      <td>14713</td>\n",
       "      <td>6822486</td>\n",
       "      <td>711</td>\n",
       "      <td>9</td>\n",
       "    </tr>\n",
       "    <tr>\n",
       "      <th>1252</th>\n",
       "      <td>14730</td>\n",
       "      <td>6830462</td>\n",
       "      <td>931</td>\n",
       "      <td>7</td>\n",
       "    </tr>\n",
       "    <tr>\n",
       "      <th>1284</th>\n",
       "      <td>14922</td>\n",
       "      <td>8904282</td>\n",
       "      <td>18</td>\n",
       "      <td>5</td>\n",
       "    </tr>\n",
       "    <tr>\n",
       "      <th>1285</th>\n",
       "      <td>14924</td>\n",
       "      <td>7871420</td>\n",
       "      <td>406</td>\n",
       "      <td>18</td>\n",
       "    </tr>\n",
       "    <tr>\n",
       "      <th>1286</th>\n",
       "      <td>14925</td>\n",
       "      <td>7513160</td>\n",
       "      <td>147</td>\n",
       "      <td>34</td>\n",
       "    </tr>\n",
       "  </tbody>\n",
       "</table>\n",
       "</div>"
      ],
      "text/plain": [
       "      ls_id    bp_id  ls_rels  bp_rels\n",
       "1236  14713  6822486      711        9\n",
       "1252  14730  6830462      931        7\n",
       "1284  14922  8904282       18        5\n",
       "1285  14924  7871420      406       18\n",
       "1286  14925  7513160      147       34"
      ]
     },
     "execution_count": 8,
     "metadata": {},
     "output_type": "execute_result"
    }
   ],
   "source": [
    "filtered_data.head()[['ls_id', 'bp_id', 'ls_rels', 'bp_rels']]"
   ]
  },
  {
   "cell_type": "markdown",
   "metadata": {},
   "source": [
    "#### Forward Matching\n",
    "\n",
    "i.e. Adding to LittleSis"
   ]
  },
  {
   "cell_type": "code",
   "execution_count": 9,
   "metadata": {},
   "outputs": [],
   "source": [
    "# x is the current org\n",
    "def forwardMatch(x_ls_id):\n",
    "    x_bp_id = filtered_data[filtered_data['ls_id'] == x_ls_id]['bp_id'].iloc[0]  # get corresponding bp_id\n",
    "    \n",
    "    # get 'person' relationships for x from LittleSis\n",
    "    x_ls_rels = rels[rels['entity1_id'].isin([x_ls_id]) | rels['entity2_id'].isin([x_ls_id])]  # all LittleSis relations for x\n",
    "    related_to_x_ls_id = x_ls_rels[x_ls_rels['entity1_id'] != x_ls_id]['entity1_id'].append(x_ls_rels[x_ls_rels['entity2_id'] != x_ls_id]['entity2_id']).unique()  # LittleSis IDs for all ents related to x\n",
    "    related_to_x_ls = ents[ents['id'].isin(related_to_x_ls_id)]\n",
    "    related_to_x_ls_names = related_to_x_ls[related_to_x_ls['primary_ext'] == 'Person'][['id', 'name']].rename(columns = {'id': 'ls_id'})\n",
    "    related_to_x_ls_names.reset_index(drop = True, inplace = True)\n",
    "    \n",
    "    if related_to_x_ls_names.shape[0] == 0:  # if true return none else continue\n",
    "        return None\n",
    "    \n",
    "    # get 'person' relationships for x from bipartite-all\n",
    "    related_to_x_bp = {}\n",
    "    \n",
    "    for i in bipartite_all[x_bp_id]:\n",
    "        related_to_x_bp[i] = bipartite_all.nodes[i]['name']\n",
    "        \n",
    "    related_to_x_bp_names = pd.DataFrame(list(related_to_x_bp.items())).rename(columns = {0: 'bp_id', 1: 'name'})\n",
    "    \n",
    "    all_x_matches = matched_name_df[matched_name_df['ls_id'].isin(related_to_x_ls_names['ls_id'])]\n",
    "    all_x_matches_exploded = all_x_matches.explode('bp_id')\n",
    "    \n",
    "    final = all_x_matches_exploded[all_x_matches_exploded['bp_id'].isin(related_to_x_bp_names['bp_id'])].set_index('ls_id').join(related_to_x_ls_names.set_index('ls_id'), on = 'ls_id', lsuffix = '_left', rsuffix = '_right').reset_index().set_index('bp_id').join(related_to_x_bp_names.set_index('bp_id'), on = 'bp_id', lsuffix = '_ls', rsuffix = '_bp').reset_index()\n",
    "    \n",
    "#     print(final.to_dict())\n",
    "\n",
    "    return final.to_dict()"
   ]
  },
  {
   "cell_type": "code",
   "execution_count": 8,
   "metadata": {},
   "outputs": [],
   "source": [
    "abc = filtered_data[filtered_data['ls_id'].isin([15367, 33551])].copy()  # sample data for trying matching\n",
    "abc"
   ]
  },
  {
   "cell_type": "markdown",
   "metadata": {},
   "source": [
    "#### Reverse Matching\n",
    "\n",
    "i.e. Adding to bipartite-all data"
   ]
  },
  {
   "cell_type": "code",
   "execution_count": 11,
   "metadata": {},
   "outputs": [],
   "source": [
    "# x is the current org\n",
    "def reverseMatch(x_ls_id):\n",
    "    x_bp_id = filtered_data[filtered_data['ls_id'] == x_ls_id]['bp_id'].iloc[0]  # get corresponding bp_id\n",
    "    \n",
    "    # get 'person' relationships for x from LittleSis\n",
    "    x_ls_rels = rels[rels['entity1_id'].isin([x_ls_id]) | rels['entity2_id'].isin([x_ls_id])]  # all LittleSis relations for x\n",
    "    related_to_x_ls_id = x_ls_rels[x_ls_rels['entity1_id'] != x_ls_id]['entity1_id'].append(x_ls_rels[x_ls_rels['entity2_id'] != x_ls_id]['entity2_id']).unique()  # LittleSis IDs for all ents related to x\n",
    "    related_to_x_ls = ents[ents['id'].isin(related_to_x_ls_id)]\n",
    "    related_to_x_ls_names = related_to_x_ls[related_to_x_ls['primary_ext'] == 'Person'][['id', 'name']].rename(columns = {'id': 'ls_id'})\n",
    "    related_to_x_ls_names.reset_index(drop = True, inplace = True)\n",
    "    \n",
    "    if related_to_x_ls_names.shape[0] == 0:  # if true return none else continue\n",
    "        return None\n",
    "    \n",
    "    # get 'person' relationships for x from bipartite-all\n",
    "    related_to_x_bp = {}\n",
    "    \n",
    "    for i in bipartite_all[x_bp_id]:\n",
    "        related_to_x_bp[i] = bipartite_all.nodes[i]['name']\n",
    "        \n",
    "    related_to_x_bp_names = pd.DataFrame(list(related_to_x_bp.items())).rename(columns = {0: 'bp_id', 1: 'name'})\n",
    "    \n",
    "    all_x_matches_rev = matched_name_df_exploded[matched_name_df_exploded['bp_id'].isin(related_to_x_bp_names['bp_id'])]\n",
    "    final = all_x_matches_rev.set_index('ls_id').join(ents.rename(columns = {'id': 'ls_id'}).set_index('ls_id'), on = 'ls_id', lsuffix = '_left', rsuffix = '_right').reset_index().set_index('bp_id').join(related_to_x_bp_names.set_index('bp_id'), on = 'bp_id', lsuffix = '_ls', rsuffix = '_bp').reset_index()[['bp_id', 'ls_id', 'name_ls', 'name_bp']]\n",
    "    \n",
    "    return final.to_dict()"
   ]
  },
  {
   "cell_type": "code",
   "execution_count": 12,
   "metadata": {},
   "outputs": [
    {
     "data": {
      "text/html": [
       "<div>\n",
       "<style scoped>\n",
       "    .dataframe tbody tr th:only-of-type {\n",
       "        vertical-align: middle;\n",
       "    }\n",
       "\n",
       "    .dataframe tbody tr th {\n",
       "        vertical-align: top;\n",
       "    }\n",
       "\n",
       "    .dataframe thead th {\n",
       "        text-align: right;\n",
       "    }\n",
       "</style>\n",
       "<table border=\"1\" class=\"dataframe\">\n",
       "  <thead>\n",
       "    <tr style=\"text-align: right;\">\n",
       "      <th></th>\n",
       "      <th>ls_id</th>\n",
       "      <th>name</th>\n",
       "      <th>bp_id</th>\n",
       "      <th>match_name</th>\n",
       "      <th>match_value</th>\n",
       "      <th>summary</th>\n",
       "      <th>parent_id</th>\n",
       "      <th>extensions</th>\n",
       "      <th>website</th>\n",
       "      <th>primary_ext</th>\n",
       "      <th>aliases</th>\n",
       "      <th>blurb</th>\n",
       "      <th>types</th>\n",
       "      <th>updated_at</th>\n",
       "      <th>start_date</th>\n",
       "      <th>end_date</th>\n",
       "      <th>ls_rels</th>\n",
       "      <th>bp_rels</th>\n",
       "      <th>rev</th>\n",
       "    </tr>\n",
       "  </thead>\n",
       "  <tbody>\n",
       "    <tr>\n",
       "      <th>1435</th>\n",
       "      <td>15367</td>\n",
       "      <td>NORTHEASTERN UNIVERSITY</td>\n",
       "      <td>6819740</td>\n",
       "      <td>NORTHEASTERN UNIVERSITY</td>\n",
       "      <td>1.0</td>\n",
       "      <td>None</td>\n",
       "      <td>NaN</td>\n",
       "      <td>{'Org': {'name_nick': None, 'name': 'Northeast...</td>\n",
       "      <td>None</td>\n",
       "      <td>Org</td>\n",
       "      <td>[Northeastern University]</td>\n",
       "      <td>None</td>\n",
       "      <td>[Organization, School]</td>\n",
       "      <td>2020-06-15T21:58:42Z</td>\n",
       "      <td>None</td>\n",
       "      <td>None</td>\n",
       "      <td>79</td>\n",
       "      <td>69</td>\n",
       "      <td>{'bp_id': {0: 112459, 1: 295562, 2: 252548, 3:...</td>\n",
       "    </tr>\n",
       "    <tr>\n",
       "      <th>6493</th>\n",
       "      <td>33551</td>\n",
       "      <td>BILL &amp; MELINDA GATES FOUNDATION</td>\n",
       "      <td>7863433</td>\n",
       "      <td>BILL &amp; MELINDA GATES FOUNDATION</td>\n",
       "      <td>1.0</td>\n",
       "      <td>None</td>\n",
       "      <td>NaN</td>\n",
       "      <td>{'Org': {'name_nick': None, 'name': 'Bill &amp; Me...</td>\n",
       "      <td>None</td>\n",
       "      <td>Org</td>\n",
       "      <td>[Bill &amp; Melinda Gates Foundation, Bill and Mel...</td>\n",
       "      <td>Family foundation of Microsoft founder Bill Gates</td>\n",
       "      <td>[Organization, Philanthropy]</td>\n",
       "      <td>2020-07-14T02:25:29Z</td>\n",
       "      <td>None</td>\n",
       "      <td>None</td>\n",
       "      <td>420</td>\n",
       "      <td>19</td>\n",
       "      <td>{'bp_id': {0: 809124, 1: 516547, 2: 2725019, 3...</td>\n",
       "    </tr>\n",
       "  </tbody>\n",
       "</table>\n",
       "</div>"
      ],
      "text/plain": [
       "      ls_id                             name    bp_id  \\\n",
       "1435  15367          NORTHEASTERN UNIVERSITY  6819740   \n",
       "6493  33551  BILL & MELINDA GATES FOUNDATION  7863433   \n",
       "\n",
       "                           match_name  match_value summary  parent_id  \\\n",
       "1435          NORTHEASTERN UNIVERSITY          1.0    None        NaN   \n",
       "6493  BILL & MELINDA GATES FOUNDATION          1.0    None        NaN   \n",
       "\n",
       "                                             extensions website primary_ext  \\\n",
       "1435  {'Org': {'name_nick': None, 'name': 'Northeast...    None         Org   \n",
       "6493  {'Org': {'name_nick': None, 'name': 'Bill & Me...    None         Org   \n",
       "\n",
       "                                                aliases  \\\n",
       "1435                          [Northeastern University]   \n",
       "6493  [Bill & Melinda Gates Foundation, Bill and Mel...   \n",
       "\n",
       "                                                  blurb  \\\n",
       "1435                                               None   \n",
       "6493  Family foundation of Microsoft founder Bill Gates   \n",
       "\n",
       "                             types            updated_at start_date end_date  \\\n",
       "1435        [Organization, School]  2020-06-15T21:58:42Z       None     None   \n",
       "6493  [Organization, Philanthropy]  2020-07-14T02:25:29Z       None     None   \n",
       "\n",
       "      ls_rels  bp_rels                                                rev  \n",
       "1435       79       69  {'bp_id': {0: 112459, 1: 295562, 2: 252548, 3:...  \n",
       "6493      420       19  {'bp_id': {0: 809124, 1: 516547, 2: 2725019, 3...  "
      ]
     },
     "execution_count": 12,
     "metadata": {},
     "output_type": "execute_result"
    }
   ],
   "source": [
    "abc['rev'] = abc['ls_id'].apply(reverseMatch)\n",
    "abc"
   ]
  },
  {
   "cell_type": "code",
   "execution_count": 13,
   "metadata": {},
   "outputs": [],
   "source": [
    "filtered_data['rev'] = filtered_data['ls_id'].appy(reverseMatch)"
   ]
  },
  {
   "cell_type": "markdown",
   "metadata": {},
   "source": [
    "Save results:"
   ]
  },
  {
   "cell_type": "code",
   "execution_count": 14,
   "metadata": {},
   "outputs": [],
   "source": [
    "# filtered_data.to_pickle(os.getcwd() + '/Pickle/filtered_org_match_rev.pkl')\n",
    "# print('Done')"
   ]
  },
  {
   "cell_type": "markdown",
   "metadata": {},
   "source": [
    "#### Analysing Results"
   ]
  },
  {
   "cell_type": "code",
   "execution_count": 22,
   "metadata": {},
   "outputs": [
    {
     "data": {
      "text/plain": [
       "(7426, 19)"
      ]
     },
     "execution_count": 22,
     "metadata": {},
     "output_type": "execute_result"
    }
   ],
   "source": [
    "# fil_dat_rev = pd.read_pickle(os.getcwd() + '/Pickle/filtered_org_match_rev.pkl')  # filtered_data with the rev column\n",
    "fil_dat_rev = pd.read_csv(os.getcwd() + '/Data/filtered_org_match_rev.csv').drop(['Unnamed: 0', 'Unnamed: 0.1'], axis = 1)\n",
    "fil_dat_rev.shape"
   ]
  },
  {
   "cell_type": "code",
   "execution_count": 23,
   "metadata": {},
   "outputs": [
    {
     "data": {
      "text/html": [
       "<div>\n",
       "<style scoped>\n",
       "    .dataframe tbody tr th:only-of-type {\n",
       "        vertical-align: middle;\n",
       "    }\n",
       "\n",
       "    .dataframe tbody tr th {\n",
       "        vertical-align: top;\n",
       "    }\n",
       "\n",
       "    .dataframe thead th {\n",
       "        text-align: right;\n",
       "    }\n",
       "</style>\n",
       "<table border=\"1\" class=\"dataframe\">\n",
       "  <thead>\n",
       "    <tr style=\"text-align: right;\">\n",
       "      <th></th>\n",
       "      <th>ls_id</th>\n",
       "      <th>name</th>\n",
       "      <th>bp_id</th>\n",
       "      <th>match_name</th>\n",
       "      <th>match_value</th>\n",
       "      <th>summary</th>\n",
       "      <th>parent_id</th>\n",
       "      <th>extensions</th>\n",
       "      <th>website</th>\n",
       "      <th>primary_ext</th>\n",
       "      <th>aliases</th>\n",
       "      <th>blurb</th>\n",
       "      <th>types</th>\n",
       "      <th>updated_at</th>\n",
       "      <th>start_date</th>\n",
       "      <th>end_date</th>\n",
       "      <th>ls_rels</th>\n",
       "      <th>bp_rels</th>\n",
       "      <th>rev</th>\n",
       "    </tr>\n",
       "  </thead>\n",
       "  <tbody>\n",
       "    <tr>\n",
       "      <th>0</th>\n",
       "      <td>14713</td>\n",
       "      <td>HARVARD LAW SCHOOL</td>\n",
       "      <td>6822486</td>\n",
       "      <td>HARVARD LAW REVIEW ASSOCIATION</td>\n",
       "      <td>0.705592</td>\n",
       "      <td>NaN</td>\n",
       "      <td>14730.0</td>\n",
       "      <td>{'Org': {'name_nick': None, 'name': 'Harvard L...</td>\n",
       "      <td>http://www.law.harvard.edu</td>\n",
       "      <td>Org</td>\n",
       "      <td>['Harvard Law School', 'Harvard University Law...</td>\n",
       "      <td>NaN</td>\n",
       "      <td>['Organization', 'School']</td>\n",
       "      <td>2020-07-12T23:23:57Z</td>\n",
       "      <td>NaN</td>\n",
       "      <td>NaN</td>\n",
       "      <td>711</td>\n",
       "      <td>9</td>\n",
       "      <td>{'bp_id': {0: 2923632, 1: 479006, 2: 3127938, ...</td>\n",
       "    </tr>\n",
       "    <tr>\n",
       "      <th>1</th>\n",
       "      <td>14730</td>\n",
       "      <td>HARVARD UNIVERSITY</td>\n",
       "      <td>6830462</td>\n",
       "      <td>HARVARD UNIVERSITY BAND INC</td>\n",
       "      <td>0.853769</td>\n",
       "      <td>NaN</td>\n",
       "      <td>NaN</td>\n",
       "      <td>{'Org': {'name_nick': None, 'name': 'Harvard U...</td>\n",
       "      <td>http://www.harvard.edu</td>\n",
       "      <td>Org</td>\n",
       "      <td>['Harvard College', 'Harvard Corporation', 'Ha...</td>\n",
       "      <td>Elite private university located in Cambridge, MA</td>\n",
       "      <td>['Organization', 'School']</td>\n",
       "      <td>2020-07-12T23:50:00Z</td>\n",
       "      <td>1636-00-00</td>\n",
       "      <td>NaN</td>\n",
       "      <td>931</td>\n",
       "      <td>7</td>\n",
       "      <td>{'bp_id': {0: 26508, 1: 26508, 2: 26508}, 'ls_...</td>\n",
       "    </tr>\n",
       "    <tr>\n",
       "      <th>2</th>\n",
       "      <td>14922</td>\n",
       "      <td>UNIVERSITY OF NEBRASKA LINCOLN</td>\n",
       "      <td>8904282</td>\n",
       "      <td>UNIVERSITY PROGRAM COUNCIL UNIVERSITY OF NEBRA...</td>\n",
       "      <td>0.844771</td>\n",
       "      <td>NaN</td>\n",
       "      <td>NaN</td>\n",
       "      <td>{'Org': {'name_nick': None, 'name': 'Universit...</td>\n",
       "      <td>NaN</td>\n",
       "      <td>Org</td>\n",
       "      <td>['University of Nebraska - Lincoln', 'Universi...</td>\n",
       "      <td>NaN</td>\n",
       "      <td>['Organization', 'School']</td>\n",
       "      <td>2019-12-13T19:33:21Z</td>\n",
       "      <td>NaN</td>\n",
       "      <td>NaN</td>\n",
       "      <td>18</td>\n",
       "      <td>5</td>\n",
       "      <td>{'bp_id': {}, 'ls_id': {}, 'name_ls': {}, 'nam...</td>\n",
       "    </tr>\n",
       "    <tr>\n",
       "      <th>3</th>\n",
       "      <td>14924</td>\n",
       "      <td>COLUMBIA UNIVERSITY</td>\n",
       "      <td>7871420</td>\n",
       "      <td>COLUMBIA INTERNATIONAL UNIVERSITY</td>\n",
       "      <td>0.909055</td>\n",
       "      <td>Columbia University was founded in 1754 as Kin...</td>\n",
       "      <td>NaN</td>\n",
       "      <td>{'Org': {'name_nick': None, 'name': 'Columbia ...</td>\n",
       "      <td>http://www.columbia.edu/index.html</td>\n",
       "      <td>Org</td>\n",
       "      <td>['Columbia University', 'Columbia University i...</td>\n",
       "      <td>Oldest institution of higher learning in the s...</td>\n",
       "      <td>['Organization', 'School']</td>\n",
       "      <td>2020-07-10T18:37:07Z</td>\n",
       "      <td>1754-00-00</td>\n",
       "      <td>NaN</td>\n",
       "      <td>406</td>\n",
       "      <td>18</td>\n",
       "      <td>{'bp_id': {0: 203090}, 'ls_id': {0: 61002}, 'n...</td>\n",
       "    </tr>\n",
       "    <tr>\n",
       "      <th>4</th>\n",
       "      <td>14925</td>\n",
       "      <td>UNIVERSITY OF ILLINOIS</td>\n",
       "      <td>7513160</td>\n",
       "      <td>UNIVERSITY OF ILLINOIS FOUNDATION</td>\n",
       "      <td>0.961337</td>\n",
       "      <td>NaN</td>\n",
       "      <td>NaN</td>\n",
       "      <td>{'Org': {'name_nick': None, 'name': 'Universit...</td>\n",
       "      <td>http://www.uillinois.edu/</td>\n",
       "      <td>Org</td>\n",
       "      <td>['University of Illinois', 'University of Illi...</td>\n",
       "      <td>One of the original 37 public land-grant insti...</td>\n",
       "      <td>['Organization', 'School']</td>\n",
       "      <td>2020-05-04T14:54:31Z</td>\n",
       "      <td>1867-00-00</td>\n",
       "      <td>NaN</td>\n",
       "      <td>147</td>\n",
       "      <td>34</td>\n",
       "      <td>{'bp_id': {0: 786376, 1: 786366, 2: 202359, 3:...</td>\n",
       "    </tr>\n",
       "  </tbody>\n",
       "</table>\n",
       "</div>"
      ],
      "text/plain": [
       "   ls_id                            name    bp_id  \\\n",
       "0  14713              HARVARD LAW SCHOOL  6822486   \n",
       "1  14730              HARVARD UNIVERSITY  6830462   \n",
       "2  14922  UNIVERSITY OF NEBRASKA LINCOLN  8904282   \n",
       "3  14924             COLUMBIA UNIVERSITY  7871420   \n",
       "4  14925          UNIVERSITY OF ILLINOIS  7513160   \n",
       "\n",
       "                                          match_name  match_value  \\\n",
       "0                     HARVARD LAW REVIEW ASSOCIATION     0.705592   \n",
       "1                        HARVARD UNIVERSITY BAND INC     0.853769   \n",
       "2  UNIVERSITY PROGRAM COUNCIL UNIVERSITY OF NEBRA...     0.844771   \n",
       "3                  COLUMBIA INTERNATIONAL UNIVERSITY     0.909055   \n",
       "4                  UNIVERSITY OF ILLINOIS FOUNDATION     0.961337   \n",
       "\n",
       "                                             summary  parent_id  \\\n",
       "0                                                NaN    14730.0   \n",
       "1                                                NaN        NaN   \n",
       "2                                                NaN        NaN   \n",
       "3  Columbia University was founded in 1754 as Kin...        NaN   \n",
       "4                                                NaN        NaN   \n",
       "\n",
       "                                          extensions  \\\n",
       "0  {'Org': {'name_nick': None, 'name': 'Harvard L...   \n",
       "1  {'Org': {'name_nick': None, 'name': 'Harvard U...   \n",
       "2  {'Org': {'name_nick': None, 'name': 'Universit...   \n",
       "3  {'Org': {'name_nick': None, 'name': 'Columbia ...   \n",
       "4  {'Org': {'name_nick': None, 'name': 'Universit...   \n",
       "\n",
       "                              website primary_ext  \\\n",
       "0          http://www.law.harvard.edu         Org   \n",
       "1              http://www.harvard.edu         Org   \n",
       "2                                 NaN         Org   \n",
       "3  http://www.columbia.edu/index.html         Org   \n",
       "4           http://www.uillinois.edu/         Org   \n",
       "\n",
       "                                             aliases  \\\n",
       "0  ['Harvard Law School', 'Harvard University Law...   \n",
       "1  ['Harvard College', 'Harvard Corporation', 'Ha...   \n",
       "2  ['University of Nebraska - Lincoln', 'Universi...   \n",
       "3  ['Columbia University', 'Columbia University i...   \n",
       "4  ['University of Illinois', 'University of Illi...   \n",
       "\n",
       "                                               blurb  \\\n",
       "0                                                NaN   \n",
       "1  Elite private university located in Cambridge, MA   \n",
       "2                                                NaN   \n",
       "3  Oldest institution of higher learning in the s...   \n",
       "4  One of the original 37 public land-grant insti...   \n",
       "\n",
       "                        types            updated_at  start_date end_date  \\\n",
       "0  ['Organization', 'School']  2020-07-12T23:23:57Z         NaN      NaN   \n",
       "1  ['Organization', 'School']  2020-07-12T23:50:00Z  1636-00-00      NaN   \n",
       "2  ['Organization', 'School']  2019-12-13T19:33:21Z         NaN      NaN   \n",
       "3  ['Organization', 'School']  2020-07-10T18:37:07Z  1754-00-00      NaN   \n",
       "4  ['Organization', 'School']  2020-05-04T14:54:31Z  1867-00-00      NaN   \n",
       "\n",
       "   ls_rels  bp_rels                                                rev  \n",
       "0      711        9  {'bp_id': {0: 2923632, 1: 479006, 2: 3127938, ...  \n",
       "1      931        7  {'bp_id': {0: 26508, 1: 26508, 2: 26508}, 'ls_...  \n",
       "2       18        5  {'bp_id': {}, 'ls_id': {}, 'name_ls': {}, 'nam...  \n",
       "3      406       18  {'bp_id': {0: 203090}, 'ls_id': {0: 61002}, 'n...  \n",
       "4      147       34  {'bp_id': {0: 786376, 1: 786366, 2: 202359, 3:...  "
      ]
     },
     "execution_count": 23,
     "metadata": {},
     "output_type": "execute_result"
    }
   ],
   "source": [
    "fil_dat_rev.head()"
   ]
  },
  {
   "cell_type": "markdown",
   "metadata": {},
   "source": [
    "The 'rev' col is a string because the data was in a CSV:"
   ]
  },
  {
   "cell_type": "code",
   "execution_count": 24,
   "metadata": {},
   "outputs": [
    {
     "data": {
      "text/plain": [
       "str"
      ]
     },
     "execution_count": 24,
     "metadata": {},
     "output_type": "execute_result"
    }
   ],
   "source": [
    "type(fil_dat_rev.iloc[0, -1])"
   ]
  },
  {
   "cell_type": "markdown",
   "metadata": {},
   "source": [
    "Count number of null values:"
   ]
  },
  {
   "cell_type": "code",
   "execution_count": 25,
   "metadata": {},
   "outputs": [
    {
     "data": {
      "text/plain": [
       "2563"
      ]
     },
     "execution_count": 25,
     "metadata": {},
     "output_type": "execute_result"
    }
   ],
   "source": [
    "fil_dat_rev['rev'].isna().sum()"
   ]
  },
  {
   "cell_type": "markdown",
   "metadata": {},
   "source": [
    "Convert non-null values to dicts:"
   ]
  },
  {
   "cell_type": "code",
   "execution_count": 26,
   "metadata": {},
   "outputs": [
    {
     "data": {
      "text/plain": [
       "dict"
      ]
     },
     "execution_count": 26,
     "metadata": {},
     "output_type": "execute_result"
    }
   ],
   "source": [
    "fil_dat_rev['rev'] = fil_dat_rev['rev'].apply(lambda x: x if pd.isna(x) else ast.literal_eval(x))\n",
    "type(fil_dat_rev.iloc[0, -1])"
   ]
  },
  {
   "cell_type": "code",
   "execution_count": null,
   "metadata": {},
   "outputs": [],
   "source": []
  }
 ],
 "metadata": {
  "kernelspec": {
   "display_name": "Python 3",
   "language": "python",
   "name": "python3"
  },
  "language_info": {
   "codemirror_mode": {
    "name": "ipython",
    "version": 3
   },
   "file_extension": ".py",
   "mimetype": "text/x-python",
   "name": "python",
   "nbconvert_exporter": "python",
   "pygments_lexer": "ipython3",
   "version": "3.8.2"
  }
 },
 "nbformat": 4,
 "nbformat_minor": 4
}
