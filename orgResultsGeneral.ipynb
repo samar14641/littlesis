{
 "cells": [
  {
   "cell_type": "code",
   "execution_count": 76,
   "metadata": {},
   "outputs": [],
   "source": [
    "import ast\n",
    "import matplotlib.pyplot as plt\n",
    "import networkx as nx\n",
    "import numpy as np\n",
    "import os\n",
    "import pandas as pd\n",
    "import pickle\n",
    "\n",
    "from collections import Counter\n",
    "from pprint import pprint"
   ]
  },
  {
   "cell_type": "code",
   "execution_count": 2,
   "metadata": {},
   "outputs": [
    {
     "data": {
      "text/plain": [
       "(284500, 13)"
      ]
     },
     "execution_count": 2,
     "metadata": {},
     "output_type": "execute_result"
    }
   ],
   "source": [
    "ents = pd.read_pickle(os.getcwd() + '/Pickle/all_entities.pkl')\n",
    "ents.shape"
   ]
  },
  {
   "cell_type": "code",
   "execution_count": 3,
   "metadata": {},
   "outputs": [
    {
     "data": {
      "text/plain": [
       "(1230815, 15)"
      ]
     },
     "execution_count": 3,
     "metadata": {},
     "output_type": "execute_result"
    }
   ],
   "source": [
    "rels = pd.read_pickle(os.getcwd() + '/Pickle/all_rels.pkl')\n",
    "rels.shape"
   ]
  },
  {
   "cell_type": "code",
   "execution_count": 4,
   "metadata": {},
   "outputs": [
    {
     "data": {
      "text/plain": [
       "(7454, 18)"
      ]
     },
     "execution_count": 4,
     "metadata": {},
     "output_type": "execute_result"
    }
   ],
   "source": [
    "filtered_data = pd.read_pickle(os.getcwd() + '/Pickle/filtered_org_match.pkl')\n",
    "filtered_data.shape"
   ]
  },
  {
   "cell_type": "code",
   "execution_count": 5,
   "metadata": {},
   "outputs": [
    {
     "data": {
      "text/plain": [
       "(118659, 2)"
      ]
     },
     "execution_count": 5,
     "metadata": {},
     "output_type": "execute_result"
    }
   ],
   "source": [
    "matched_names_res = {}\n",
    "\n",
    "with open(os.getcwd() + '/Pickle/matched_names.pickle', 'rb') as pkl:\n",
    "    matched_names_res = pickle.load(pkl)\n",
    "    \n",
    "matched_name_df = pd.DataFrame(list(matched_names_res.items())).rename(columns = {0: 'ls_id', 1: 'bp_id'})  # create df of matched name IDs\n",
    "matched_name_df.shape"
   ]
  },
  {
   "cell_type": "code",
   "execution_count": 6,
   "metadata": {},
   "outputs": [
    {
     "data": {
      "text/html": [
       "<div>\n",
       "<style scoped>\n",
       "    .dataframe tbody tr th:only-of-type {\n",
       "        vertical-align: middle;\n",
       "    }\n",
       "\n",
       "    .dataframe tbody tr th {\n",
       "        vertical-align: top;\n",
       "    }\n",
       "\n",
       "    .dataframe thead th {\n",
       "        text-align: right;\n",
       "    }\n",
       "</style>\n",
       "<table border=\"1\" class=\"dataframe\">\n",
       "  <thead>\n",
       "    <tr style=\"text-align: right;\">\n",
       "      <th></th>\n",
       "      <th>ls_id</th>\n",
       "      <th>bp_id</th>\n",
       "    </tr>\n",
       "  </thead>\n",
       "  <tbody>\n",
       "    <tr>\n",
       "      <th>0</th>\n",
       "      <td>262146</td>\n",
       "      <td>998678</td>\n",
       "    </tr>\n",
       "    <tr>\n",
       "      <th>1</th>\n",
       "      <td>262147</td>\n",
       "      <td>636330</td>\n",
       "    </tr>\n",
       "    <tr>\n",
       "      <th>2</th>\n",
       "      <td>262150</td>\n",
       "      <td>934460</td>\n",
       "    </tr>\n",
       "    <tr>\n",
       "      <th>2</th>\n",
       "      <td>262150</td>\n",
       "      <td>3191192</td>\n",
       "    </tr>\n",
       "    <tr>\n",
       "      <th>3</th>\n",
       "      <td>262154</td>\n",
       "      <td>638094</td>\n",
       "    </tr>\n",
       "  </tbody>\n",
       "</table>\n",
       "</div>"
      ],
      "text/plain": [
       "    ls_id    bp_id\n",
       "0  262146   998678\n",
       "1  262147   636330\n",
       "2  262150   934460\n",
       "2  262150  3191192\n",
       "3  262154   638094"
      ]
     },
     "execution_count": 6,
     "metadata": {},
     "output_type": "execute_result"
    }
   ],
   "source": [
    "matched_name_df_exploded = matched_name_df.explode('bp_id')\n",
    "matched_name_df_exploded.head()"
   ]
  },
  {
   "cell_type": "code",
   "execution_count": 7,
   "metadata": {},
   "outputs": [
    {
     "data": {
      "text/plain": [
       "4054832"
      ]
     },
     "execution_count": 7,
     "metadata": {},
     "output_type": "execute_result"
    }
   ],
   "source": [
    "bipartite_all = nx.read_gpickle(os.getcwd() + '/Pickle/bipartite-all010420.pickle')\n",
    "bipartite_all.number_of_nodes()"
   ]
  },
  {
   "cell_type": "code",
   "execution_count": 8,
   "metadata": {},
   "outputs": [
    {
     "data": {
      "text/html": [
       "<div>\n",
       "<style scoped>\n",
       "    .dataframe tbody tr th:only-of-type {\n",
       "        vertical-align: middle;\n",
       "    }\n",
       "\n",
       "    .dataframe tbody tr th {\n",
       "        vertical-align: top;\n",
       "    }\n",
       "\n",
       "    .dataframe thead th {\n",
       "        text-align: right;\n",
       "    }\n",
       "</style>\n",
       "<table border=\"1\" class=\"dataframe\">\n",
       "  <thead>\n",
       "    <tr style=\"text-align: right;\">\n",
       "      <th></th>\n",
       "      <th>ls_id</th>\n",
       "      <th>bp_id</th>\n",
       "      <th>ls_rels</th>\n",
       "      <th>bp_rels</th>\n",
       "    </tr>\n",
       "  </thead>\n",
       "  <tbody>\n",
       "    <tr>\n",
       "      <th>1236</th>\n",
       "      <td>14713</td>\n",
       "      <td>6822486</td>\n",
       "      <td>711</td>\n",
       "      <td>9</td>\n",
       "    </tr>\n",
       "    <tr>\n",
       "      <th>1252</th>\n",
       "      <td>14730</td>\n",
       "      <td>6830462</td>\n",
       "      <td>931</td>\n",
       "      <td>7</td>\n",
       "    </tr>\n",
       "    <tr>\n",
       "      <th>1284</th>\n",
       "      <td>14922</td>\n",
       "      <td>8904282</td>\n",
       "      <td>18</td>\n",
       "      <td>5</td>\n",
       "    </tr>\n",
       "    <tr>\n",
       "      <th>1285</th>\n",
       "      <td>14924</td>\n",
       "      <td>7871420</td>\n",
       "      <td>406</td>\n",
       "      <td>18</td>\n",
       "    </tr>\n",
       "    <tr>\n",
       "      <th>1286</th>\n",
       "      <td>14925</td>\n",
       "      <td>7513160</td>\n",
       "      <td>147</td>\n",
       "      <td>34</td>\n",
       "    </tr>\n",
       "  </tbody>\n",
       "</table>\n",
       "</div>"
      ],
      "text/plain": [
       "      ls_id    bp_id  ls_rels  bp_rels\n",
       "1236  14713  6822486      711        9\n",
       "1252  14730  6830462      931        7\n",
       "1284  14922  8904282       18        5\n",
       "1285  14924  7871420      406       18\n",
       "1286  14925  7513160      147       34"
      ]
     },
     "execution_count": 8,
     "metadata": {},
     "output_type": "execute_result"
    }
   ],
   "source": [
    "filtered_data.head()[['ls_id', 'bp_id', 'ls_rels', 'bp_rels']]"
   ]
  },
  {
   "cell_type": "markdown",
   "metadata": {},
   "source": [
    "#### Forward Matching\n",
    "\n",
    "i.e. Adding to LittleSis"
   ]
  },
  {
   "cell_type": "code",
   "execution_count": 9,
   "metadata": {},
   "outputs": [],
   "source": [
    "# x is the current org\n",
    "def forwardMatch(x_ls_id):\n",
    "    x_bp_id = filtered_data[filtered_data['ls_id'] == x_ls_id]['bp_id'].iloc[0]  # get corresponding bp_id\n",
    "    \n",
    "    # get 'person' relationships for x from LittleSis\n",
    "    x_ls_rels = rels[rels['entity1_id'].isin([x_ls_id]) | rels['entity2_id'].isin([x_ls_id])]  # all LittleSis relations for x\n",
    "    related_to_x_ls_id = x_ls_rels[x_ls_rels['entity1_id'] != x_ls_id]['entity1_id'].append(x_ls_rels[x_ls_rels['entity2_id'] != x_ls_id]['entity2_id']).unique()  # LittleSis IDs for all ents related to x\n",
    "    related_to_x_ls = ents[ents['id'].isin(related_to_x_ls_id)]\n",
    "    related_to_x_ls_names = related_to_x_ls[related_to_x_ls['primary_ext'] == 'Person'][['id', 'name']].rename(columns = {'id': 'ls_id'})\n",
    "    related_to_x_ls_names.reset_index(drop = True, inplace = True)\n",
    "    \n",
    "    if related_to_x_ls_names.shape[0] == 0:  # if true return none else continue\n",
    "        return None\n",
    "    \n",
    "    # get 'person' relationships for x from bipartite-all\n",
    "    related_to_x_bp = {}\n",
    "    \n",
    "    for i in bipartite_all[x_bp_id]:\n",
    "        related_to_x_bp[i] = bipartite_all.nodes[i]['name']\n",
    "        \n",
    "    related_to_x_bp_names = pd.DataFrame(list(related_to_x_bp.items())).rename(columns = {0: 'bp_id', 1: 'name'})\n",
    "    \n",
    "    all_x_matches = matched_name_df[matched_name_df['ls_id'].isin(related_to_x_ls_names['ls_id'])]\n",
    "    all_x_matches_exploded = all_x_matches.explode('bp_id')\n",
    "    \n",
    "    final = all_x_matches_exploded[all_x_matches_exploded['bp_id'].isin(related_to_x_bp_names['bp_id'])].set_index('ls_id').join(related_to_x_ls_names.set_index('ls_id'), on = 'ls_id', lsuffix = '_left', rsuffix = '_right').reset_index().set_index('bp_id').join(related_to_x_bp_names.set_index('bp_id'), on = 'bp_id', lsuffix = '_ls', rsuffix = '_bp').reset_index()\n",
    "    \n",
    "#     print(final.to_dict())\n",
    "\n",
    "    return final.to_dict()"
   ]
  },
  {
   "cell_type": "code",
   "execution_count": 8,
   "metadata": {},
   "outputs": [],
   "source": [
    "abc = filtered_data[filtered_data['ls_id'].isin([15367, 33551])].copy()  # sample data for trying matching\n",
    "abc"
   ]
  },
  {
   "cell_type": "markdown",
   "metadata": {},
   "source": [
    "#### Reverse Matching\n",
    "\n",
    "i.e. Adding to bipartite-all data"
   ]
  },
  {
   "cell_type": "code",
   "execution_count": 11,
   "metadata": {},
   "outputs": [],
   "source": [
    "# x is the current org\n",
    "def reverseMatch(x_ls_id):\n",
    "    x_bp_id = filtered_data[filtered_data['ls_id'] == x_ls_id]['bp_id'].iloc[0]  # get corresponding bp_id\n",
    "    \n",
    "    # get 'person' relationships for x from LittleSis\n",
    "    x_ls_rels = rels[rels['entity1_id'].isin([x_ls_id]) | rels['entity2_id'].isin([x_ls_id])]  # all LittleSis relations for x\n",
    "    related_to_x_ls_id = x_ls_rels[x_ls_rels['entity1_id'] != x_ls_id]['entity1_id'].append(x_ls_rels[x_ls_rels['entity2_id'] != x_ls_id]['entity2_id']).unique()  # LittleSis IDs for all ents related to x\n",
    "    related_to_x_ls = ents[ents['id'].isin(related_to_x_ls_id)]\n",
    "    related_to_x_ls_names = related_to_x_ls[related_to_x_ls['primary_ext'] == 'Person'][['id', 'name']].rename(columns = {'id': 'ls_id'})\n",
    "    related_to_x_ls_names.reset_index(drop = True, inplace = True)\n",
    "    \n",
    "    if related_to_x_ls_names.shape[0] == 0:  # if true return none else continue\n",
    "        return None\n",
    "    \n",
    "    # get 'person' relationships for x from bipartite-all\n",
    "    related_to_x_bp = {}\n",
    "    \n",
    "    for i in bipartite_all[x_bp_id]:\n",
    "        related_to_x_bp[i] = bipartite_all.nodes[i]['name']\n",
    "        \n",
    "    related_to_x_bp_names = pd.DataFrame(list(related_to_x_bp.items())).rename(columns = {0: 'bp_id', 1: 'name'})\n",
    "    \n",
    "    all_x_matches_rev = matched_name_df_exploded[matched_name_df_exploded['bp_id'].isin(related_to_x_bp_names['bp_id'])]\n",
    "    final = all_x_matches_rev.set_index('ls_id').join(ents.rename(columns = {'id': 'ls_id'}).set_index('ls_id'), on = 'ls_id', lsuffix = '_left', rsuffix = '_right').reset_index().set_index('bp_id').join(related_to_x_bp_names.set_index('bp_id'), on = 'bp_id', lsuffix = '_ls', rsuffix = '_bp').reset_index()[['bp_id', 'ls_id', 'name_ls', 'name_bp']]\n",
    "    \n",
    "    return final.to_dict()"
   ]
  },
  {
   "cell_type": "code",
   "execution_count": 12,
   "metadata": {},
   "outputs": [
    {
     "data": {
      "text/html": [
       "<div>\n",
       "<style scoped>\n",
       "    .dataframe tbody tr th:only-of-type {\n",
       "        vertical-align: middle;\n",
       "    }\n",
       "\n",
       "    .dataframe tbody tr th {\n",
       "        vertical-align: top;\n",
       "    }\n",
       "\n",
       "    .dataframe thead th {\n",
       "        text-align: right;\n",
       "    }\n",
       "</style>\n",
       "<table border=\"1\" class=\"dataframe\">\n",
       "  <thead>\n",
       "    <tr style=\"text-align: right;\">\n",
       "      <th></th>\n",
       "      <th>ls_id</th>\n",
       "      <th>name</th>\n",
       "      <th>bp_id</th>\n",
       "      <th>match_name</th>\n",
       "      <th>match_value</th>\n",
       "      <th>summary</th>\n",
       "      <th>parent_id</th>\n",
       "      <th>extensions</th>\n",
       "      <th>website</th>\n",
       "      <th>primary_ext</th>\n",
       "      <th>aliases</th>\n",
       "      <th>blurb</th>\n",
       "      <th>types</th>\n",
       "      <th>updated_at</th>\n",
       "      <th>start_date</th>\n",
       "      <th>end_date</th>\n",
       "      <th>ls_rels</th>\n",
       "      <th>bp_rels</th>\n",
       "      <th>rev</th>\n",
       "    </tr>\n",
       "  </thead>\n",
       "  <tbody>\n",
       "    <tr>\n",
       "      <th>1435</th>\n",
       "      <td>15367</td>\n",
       "      <td>NORTHEASTERN UNIVERSITY</td>\n",
       "      <td>6819740</td>\n",
       "      <td>NORTHEASTERN UNIVERSITY</td>\n",
       "      <td>1.0</td>\n",
       "      <td>None</td>\n",
       "      <td>NaN</td>\n",
       "      <td>{'Org': {'name_nick': None, 'name': 'Northeast...</td>\n",
       "      <td>None</td>\n",
       "      <td>Org</td>\n",
       "      <td>[Northeastern University]</td>\n",
       "      <td>None</td>\n",
       "      <td>[Organization, School]</td>\n",
       "      <td>2020-06-15T21:58:42Z</td>\n",
       "      <td>None</td>\n",
       "      <td>None</td>\n",
       "      <td>79</td>\n",
       "      <td>69</td>\n",
       "      <td>{'bp_id': {0: 112459, 1: 295562, 2: 252548, 3:...</td>\n",
       "    </tr>\n",
       "    <tr>\n",
       "      <th>6493</th>\n",
       "      <td>33551</td>\n",
       "      <td>BILL &amp; MELINDA GATES FOUNDATION</td>\n",
       "      <td>7863433</td>\n",
       "      <td>BILL &amp; MELINDA GATES FOUNDATION</td>\n",
       "      <td>1.0</td>\n",
       "      <td>None</td>\n",
       "      <td>NaN</td>\n",
       "      <td>{'Org': {'name_nick': None, 'name': 'Bill &amp; Me...</td>\n",
       "      <td>None</td>\n",
       "      <td>Org</td>\n",
       "      <td>[Bill &amp; Melinda Gates Foundation, Bill and Mel...</td>\n",
       "      <td>Family foundation of Microsoft founder Bill Gates</td>\n",
       "      <td>[Organization, Philanthropy]</td>\n",
       "      <td>2020-07-14T02:25:29Z</td>\n",
       "      <td>None</td>\n",
       "      <td>None</td>\n",
       "      <td>420</td>\n",
       "      <td>19</td>\n",
       "      <td>{'bp_id': {0: 809124, 1: 516547, 2: 2725019, 3...</td>\n",
       "    </tr>\n",
       "  </tbody>\n",
       "</table>\n",
       "</div>"
      ],
      "text/plain": [
       "      ls_id                             name    bp_id  \\\n",
       "1435  15367          NORTHEASTERN UNIVERSITY  6819740   \n",
       "6493  33551  BILL & MELINDA GATES FOUNDATION  7863433   \n",
       "\n",
       "                           match_name  match_value summary  parent_id  \\\n",
       "1435          NORTHEASTERN UNIVERSITY          1.0    None        NaN   \n",
       "6493  BILL & MELINDA GATES FOUNDATION          1.0    None        NaN   \n",
       "\n",
       "                                             extensions website primary_ext  \\\n",
       "1435  {'Org': {'name_nick': None, 'name': 'Northeast...    None         Org   \n",
       "6493  {'Org': {'name_nick': None, 'name': 'Bill & Me...    None         Org   \n",
       "\n",
       "                                                aliases  \\\n",
       "1435                          [Northeastern University]   \n",
       "6493  [Bill & Melinda Gates Foundation, Bill and Mel...   \n",
       "\n",
       "                                                  blurb  \\\n",
       "1435                                               None   \n",
       "6493  Family foundation of Microsoft founder Bill Gates   \n",
       "\n",
       "                             types            updated_at start_date end_date  \\\n",
       "1435        [Organization, School]  2020-06-15T21:58:42Z       None     None   \n",
       "6493  [Organization, Philanthropy]  2020-07-14T02:25:29Z       None     None   \n",
       "\n",
       "      ls_rels  bp_rels                                                rev  \n",
       "1435       79       69  {'bp_id': {0: 112459, 1: 295562, 2: 252548, 3:...  \n",
       "6493      420       19  {'bp_id': {0: 809124, 1: 516547, 2: 2725019, 3...  "
      ]
     },
     "execution_count": 12,
     "metadata": {},
     "output_type": "execute_result"
    }
   ],
   "source": [
    "abc['rev'] = abc['ls_id'].apply(reverseMatch)\n",
    "abc"
   ]
  },
  {
   "cell_type": "code",
   "execution_count": 13,
   "metadata": {},
   "outputs": [],
   "source": [
    "filtered_data['rev'] = filtered_data['ls_id'].appy(reverseMatch)"
   ]
  },
  {
   "cell_type": "markdown",
   "metadata": {},
   "source": [
    "Save results:"
   ]
  },
  {
   "cell_type": "code",
   "execution_count": 14,
   "metadata": {},
   "outputs": [],
   "source": [
    "# filtered_data.to_pickle(os.getcwd() + '/Pickle/filtered_org_match_rev.pkl')\n",
    "# print('Done')"
   ]
  },
  {
   "cell_type": "markdown",
   "metadata": {},
   "source": [
    "#### Analysing Results"
   ]
  },
  {
   "cell_type": "code",
   "execution_count": 9,
   "metadata": {},
   "outputs": [
    {
     "data": {
      "text/plain": [
       "(7426, 19)"
      ]
     },
     "execution_count": 9,
     "metadata": {},
     "output_type": "execute_result"
    }
   ],
   "source": [
    "# fil_dat_rev = pd.read_pickle(os.getcwd() + '/Pickle/filtered_org_match_rev.pkl')  # filtered_data with the rev column\n",
    "fil_dat_rev = pd.read_csv(os.getcwd() + '/Data/filtered_org_match_rev.csv').drop(['Unnamed: 0', 'Unnamed: 0.1'], axis = 1)\n",
    "fil_dat_rev.shape"
   ]
  },
  {
   "cell_type": "markdown",
   "metadata": {},
   "source": [
    "Note the following changes:\n",
    "\n",
    "1. filtered_data['bp_id'][114] = 7286871  #corrected CMU\n",
    "2. filtered_data['match_name'][114] = 'CARNEGIE MELLON UNIVERSITY (CMU)'\n",
    "3. filtered_data['bp_id'][854]= 8425574  #corrected kaiser family foundation"
   ]
  },
  {
   "cell_type": "code",
   "execution_count": 10,
   "metadata": {},
   "outputs": [
    {
     "data": {
      "text/plain": [
       "7286871"
      ]
     },
     "execution_count": 10,
     "metadata": {},
     "output_type": "execute_result"
    }
   ],
   "source": [
    "fil_dat_rev.iloc[114, 2]"
   ]
  },
  {
   "cell_type": "code",
   "execution_count": 11,
   "metadata": {},
   "outputs": [
    {
     "data": {
      "text/html": [
       "<div>\n",
       "<style scoped>\n",
       "    .dataframe tbody tr th:only-of-type {\n",
       "        vertical-align: middle;\n",
       "    }\n",
       "\n",
       "    .dataframe tbody tr th {\n",
       "        vertical-align: top;\n",
       "    }\n",
       "\n",
       "    .dataframe thead th {\n",
       "        text-align: right;\n",
       "    }\n",
       "</style>\n",
       "<table border=\"1\" class=\"dataframe\">\n",
       "  <thead>\n",
       "    <tr style=\"text-align: right;\">\n",
       "      <th></th>\n",
       "      <th>ls_id</th>\n",
       "      <th>name</th>\n",
       "      <th>bp_id</th>\n",
       "      <th>match_name</th>\n",
       "      <th>match_value</th>\n",
       "      <th>summary</th>\n",
       "      <th>parent_id</th>\n",
       "      <th>extensions</th>\n",
       "      <th>website</th>\n",
       "      <th>primary_ext</th>\n",
       "      <th>aliases</th>\n",
       "      <th>blurb</th>\n",
       "      <th>types</th>\n",
       "      <th>updated_at</th>\n",
       "      <th>start_date</th>\n",
       "      <th>end_date</th>\n",
       "      <th>ls_rels</th>\n",
       "      <th>bp_rels</th>\n",
       "      <th>rev</th>\n",
       "    </tr>\n",
       "  </thead>\n",
       "  <tbody>\n",
       "    <tr>\n",
       "      <th>114</th>\n",
       "      <td>15268</td>\n",
       "      <td>CARNEGIE MELLON UNIVERSITY</td>\n",
       "      <td>7286871</td>\n",
       "      <td>CARNEGIE MELLON UNIVERSITY (CMU)</td>\n",
       "      <td>0.847541</td>\n",
       "      <td>NaN</td>\n",
       "      <td>NaN</td>\n",
       "      <td>{'Org': {'name_nick': None, 'name': 'Carnegie ...</td>\n",
       "      <td>NaN</td>\n",
       "      <td>Org</td>\n",
       "      <td>['Carnegie Mellon', 'Carnegie Mellon Universit...</td>\n",
       "      <td>Private research university in Pittsburgh, fou...</td>\n",
       "      <td>['Organization', 'School']</td>\n",
       "      <td>2020-07-12T14:23:20Z</td>\n",
       "      <td>NaN</td>\n",
       "      <td>NaN</td>\n",
       "      <td>143</td>\n",
       "      <td>0</td>\n",
       "      <td>{'bp_id': {0: 200653, 1: 2680072, 2: 1562989, ...</td>\n",
       "    </tr>\n",
       "  </tbody>\n",
       "</table>\n",
       "</div>"
      ],
      "text/plain": [
       "     ls_id                        name    bp_id  \\\n",
       "114  15268  CARNEGIE MELLON UNIVERSITY  7286871   \n",
       "\n",
       "                           match_name  match_value summary  parent_id  \\\n",
       "114  CARNEGIE MELLON UNIVERSITY (CMU)     0.847541     NaN        NaN   \n",
       "\n",
       "                                            extensions website primary_ext  \\\n",
       "114  {'Org': {'name_nick': None, 'name': 'Carnegie ...     NaN         Org   \n",
       "\n",
       "                                               aliases  \\\n",
       "114  ['Carnegie Mellon', 'Carnegie Mellon Universit...   \n",
       "\n",
       "                                                 blurb  \\\n",
       "114  Private research university in Pittsburgh, fou...   \n",
       "\n",
       "                          types            updated_at start_date end_date  \\\n",
       "114  ['Organization', 'School']  2020-07-12T14:23:20Z        NaN      NaN   \n",
       "\n",
       "     ls_rels  bp_rels                                                rev  \n",
       "114      143        0  {'bp_id': {0: 200653, 1: 2680072, 2: 1562989, ...  "
      ]
     },
     "execution_count": 11,
     "metadata": {},
     "output_type": "execute_result"
    }
   ],
   "source": [
    "fil_dat_rev[fil_dat_rev['bp_id'] == 7286871]"
   ]
  },
  {
   "cell_type": "code",
   "execution_count": 12,
   "metadata": {},
   "outputs": [
    {
     "data": {
      "text/html": [
       "<div>\n",
       "<style scoped>\n",
       "    .dataframe tbody tr th:only-of-type {\n",
       "        vertical-align: middle;\n",
       "    }\n",
       "\n",
       "    .dataframe tbody tr th {\n",
       "        vertical-align: top;\n",
       "    }\n",
       "\n",
       "    .dataframe thead th {\n",
       "        text-align: right;\n",
       "    }\n",
       "</style>\n",
       "<table border=\"1\" class=\"dataframe\">\n",
       "  <thead>\n",
       "    <tr style=\"text-align: right;\">\n",
       "      <th></th>\n",
       "      <th>ls_id</th>\n",
       "      <th>name</th>\n",
       "      <th>bp_id</th>\n",
       "      <th>match_name</th>\n",
       "      <th>match_value</th>\n",
       "      <th>summary</th>\n",
       "      <th>parent_id</th>\n",
       "      <th>extensions</th>\n",
       "      <th>website</th>\n",
       "      <th>primary_ext</th>\n",
       "      <th>aliases</th>\n",
       "      <th>blurb</th>\n",
       "      <th>types</th>\n",
       "      <th>updated_at</th>\n",
       "      <th>start_date</th>\n",
       "      <th>end_date</th>\n",
       "      <th>ls_rels</th>\n",
       "      <th>bp_rels</th>\n",
       "      <th>rev</th>\n",
       "    </tr>\n",
       "  </thead>\n",
       "  <tbody>\n",
       "    <tr>\n",
       "      <th>852</th>\n",
       "      <td>38903</td>\n",
       "      <td>KAISER FAMILY FOUNDATION</td>\n",
       "      <td>8425574</td>\n",
       "      <td>KAISER FAMILY FOUNDATION</td>\n",
       "      <td>1.0</td>\n",
       "      <td>Slogan: \"Filling the need for trusted informat...</td>\n",
       "      <td>NaN</td>\n",
       "      <td>{'Org': {'name_nick': None, 'name': 'Kaiser Fa...</td>\n",
       "      <td>https://www.kff.org/</td>\n",
       "      <td>Org</td>\n",
       "      <td>['Henry J. Kaiser Family Foundation', 'Kaiser ...</td>\n",
       "      <td>Non-profit focuses on major national health ca...</td>\n",
       "      <td>['Organization', 'Philanthropy']</td>\n",
       "      <td>2019-12-26T03:04:07Z</td>\n",
       "      <td>1948-12-00</td>\n",
       "      <td>NaN</td>\n",
       "      <td>17</td>\n",
       "      <td>17</td>\n",
       "      <td>{'bp_id': {0: 770810, 1: 1241269, 2: 69752, 3:...</td>\n",
       "    </tr>\n",
       "    <tr>\n",
       "      <th>2578</th>\n",
       "      <td>82667</td>\n",
       "      <td>HENRY J KAISER FAMILY FOUNDATION</td>\n",
       "      <td>8425574</td>\n",
       "      <td>HENRY J KAISER FAMILY FOUNDATION</td>\n",
       "      <td>1.0</td>\n",
       "      <td>NaN</td>\n",
       "      <td>NaN</td>\n",
       "      <td>{'Org': {'name_nick': None, 'name': 'Henry J K...</td>\n",
       "      <td>NaN</td>\n",
       "      <td>Org</td>\n",
       "      <td>['Henry J Kaiser Family Foundation']</td>\n",
       "      <td>NaN</td>\n",
       "      <td>['Organization', 'Philanthropy']</td>\n",
       "      <td>2018-01-30T06:28:26Z</td>\n",
       "      <td>NaN</td>\n",
       "      <td>NaN</td>\n",
       "      <td>1</td>\n",
       "      <td>25</td>\n",
       "      <td>NaN</td>\n",
       "    </tr>\n",
       "  </tbody>\n",
       "</table>\n",
       "</div>"
      ],
      "text/plain": [
       "      ls_id                              name    bp_id  \\\n",
       "852   38903          KAISER FAMILY FOUNDATION  8425574   \n",
       "2578  82667  HENRY J KAISER FAMILY FOUNDATION  8425574   \n",
       "\n",
       "                            match_name  match_value  \\\n",
       "852           KAISER FAMILY FOUNDATION          1.0   \n",
       "2578  HENRY J KAISER FAMILY FOUNDATION          1.0   \n",
       "\n",
       "                                                summary  parent_id  \\\n",
       "852   Slogan: \"Filling the need for trusted informat...        NaN   \n",
       "2578                                                NaN        NaN   \n",
       "\n",
       "                                             extensions               website  \\\n",
       "852   {'Org': {'name_nick': None, 'name': 'Kaiser Fa...  https://www.kff.org/   \n",
       "2578  {'Org': {'name_nick': None, 'name': 'Henry J K...                   NaN   \n",
       "\n",
       "     primary_ext                                            aliases  \\\n",
       "852          Org  ['Henry J. Kaiser Family Foundation', 'Kaiser ...   \n",
       "2578         Org               ['Henry J Kaiser Family Foundation']   \n",
       "\n",
       "                                                  blurb  \\\n",
       "852   Non-profit focuses on major national health ca...   \n",
       "2578                                                NaN   \n",
       "\n",
       "                                 types            updated_at  start_date  \\\n",
       "852   ['Organization', 'Philanthropy']  2019-12-26T03:04:07Z  1948-12-00   \n",
       "2578  ['Organization', 'Philanthropy']  2018-01-30T06:28:26Z         NaN   \n",
       "\n",
       "     end_date  ls_rels  bp_rels  \\\n",
       "852       NaN       17       17   \n",
       "2578      NaN        1       25   \n",
       "\n",
       "                                                    rev  \n",
       "852   {'bp_id': {0: 770810, 1: 1241269, 2: 69752, 3:...  \n",
       "2578                                                NaN  "
      ]
     },
     "execution_count": 12,
     "metadata": {},
     "output_type": "execute_result"
    }
   ],
   "source": [
    "fil_dat_rev[fil_dat_rev['bp_id'] == 8425574]"
   ]
  },
  {
   "cell_type": "code",
   "execution_count": 13,
   "metadata": {},
   "outputs": [
    {
     "data": {
      "text/html": [
       "<div>\n",
       "<style scoped>\n",
       "    .dataframe tbody tr th:only-of-type {\n",
       "        vertical-align: middle;\n",
       "    }\n",
       "\n",
       "    .dataframe tbody tr th {\n",
       "        vertical-align: top;\n",
       "    }\n",
       "\n",
       "    .dataframe thead th {\n",
       "        text-align: right;\n",
       "    }\n",
       "</style>\n",
       "<table border=\"1\" class=\"dataframe\">\n",
       "  <thead>\n",
       "    <tr style=\"text-align: right;\">\n",
       "      <th></th>\n",
       "      <th>ls_id</th>\n",
       "      <th>name</th>\n",
       "      <th>bp_id</th>\n",
       "      <th>match_name</th>\n",
       "      <th>match_value</th>\n",
       "      <th>summary</th>\n",
       "      <th>parent_id</th>\n",
       "      <th>extensions</th>\n",
       "      <th>website</th>\n",
       "      <th>primary_ext</th>\n",
       "      <th>aliases</th>\n",
       "      <th>blurb</th>\n",
       "      <th>types</th>\n",
       "      <th>updated_at</th>\n",
       "      <th>start_date</th>\n",
       "      <th>end_date</th>\n",
       "      <th>ls_rels</th>\n",
       "      <th>bp_rels</th>\n",
       "      <th>rev</th>\n",
       "    </tr>\n",
       "  </thead>\n",
       "  <tbody>\n",
       "    <tr>\n",
       "      <th>0</th>\n",
       "      <td>14713</td>\n",
       "      <td>HARVARD LAW SCHOOL</td>\n",
       "      <td>6822486</td>\n",
       "      <td>HARVARD LAW REVIEW ASSOCIATION</td>\n",
       "      <td>0.705592</td>\n",
       "      <td>NaN</td>\n",
       "      <td>14730.0</td>\n",
       "      <td>{'Org': {'name_nick': None, 'name': 'Harvard L...</td>\n",
       "      <td>http://www.law.harvard.edu</td>\n",
       "      <td>Org</td>\n",
       "      <td>['Harvard Law School', 'Harvard University Law...</td>\n",
       "      <td>NaN</td>\n",
       "      <td>['Organization', 'School']</td>\n",
       "      <td>2020-07-12T23:23:57Z</td>\n",
       "      <td>NaN</td>\n",
       "      <td>NaN</td>\n",
       "      <td>711</td>\n",
       "      <td>9</td>\n",
       "      <td>{'bp_id': {0: 2923632, 1: 479006, 2: 3127938, ...</td>\n",
       "    </tr>\n",
       "    <tr>\n",
       "      <th>1</th>\n",
       "      <td>14730</td>\n",
       "      <td>HARVARD UNIVERSITY</td>\n",
       "      <td>6830462</td>\n",
       "      <td>HARVARD UNIVERSITY BAND INC</td>\n",
       "      <td>0.853769</td>\n",
       "      <td>NaN</td>\n",
       "      <td>NaN</td>\n",
       "      <td>{'Org': {'name_nick': None, 'name': 'Harvard U...</td>\n",
       "      <td>http://www.harvard.edu</td>\n",
       "      <td>Org</td>\n",
       "      <td>['Harvard College', 'Harvard Corporation', 'Ha...</td>\n",
       "      <td>Elite private university located in Cambridge, MA</td>\n",
       "      <td>['Organization', 'School']</td>\n",
       "      <td>2020-07-12T23:50:00Z</td>\n",
       "      <td>1636-00-00</td>\n",
       "      <td>NaN</td>\n",
       "      <td>931</td>\n",
       "      <td>7</td>\n",
       "      <td>{'bp_id': {0: 26508, 1: 26508, 2: 26508}, 'ls_...</td>\n",
       "    </tr>\n",
       "    <tr>\n",
       "      <th>2</th>\n",
       "      <td>14922</td>\n",
       "      <td>UNIVERSITY OF NEBRASKA LINCOLN</td>\n",
       "      <td>8904282</td>\n",
       "      <td>UNIVERSITY PROGRAM COUNCIL UNIVERSITY OF NEBRA...</td>\n",
       "      <td>0.844771</td>\n",
       "      <td>NaN</td>\n",
       "      <td>NaN</td>\n",
       "      <td>{'Org': {'name_nick': None, 'name': 'Universit...</td>\n",
       "      <td>NaN</td>\n",
       "      <td>Org</td>\n",
       "      <td>['University of Nebraska - Lincoln', 'Universi...</td>\n",
       "      <td>NaN</td>\n",
       "      <td>['Organization', 'School']</td>\n",
       "      <td>2019-12-13T19:33:21Z</td>\n",
       "      <td>NaN</td>\n",
       "      <td>NaN</td>\n",
       "      <td>18</td>\n",
       "      <td>5</td>\n",
       "      <td>{'bp_id': {}, 'ls_id': {}, 'name_ls': {}, 'nam...</td>\n",
       "    </tr>\n",
       "    <tr>\n",
       "      <th>3</th>\n",
       "      <td>14924</td>\n",
       "      <td>COLUMBIA UNIVERSITY</td>\n",
       "      <td>7871420</td>\n",
       "      <td>COLUMBIA INTERNATIONAL UNIVERSITY</td>\n",
       "      <td>0.909055</td>\n",
       "      <td>Columbia University was founded in 1754 as Kin...</td>\n",
       "      <td>NaN</td>\n",
       "      <td>{'Org': {'name_nick': None, 'name': 'Columbia ...</td>\n",
       "      <td>http://www.columbia.edu/index.html</td>\n",
       "      <td>Org</td>\n",
       "      <td>['Columbia University', 'Columbia University i...</td>\n",
       "      <td>Oldest institution of higher learning in the s...</td>\n",
       "      <td>['Organization', 'School']</td>\n",
       "      <td>2020-07-10T18:37:07Z</td>\n",
       "      <td>1754-00-00</td>\n",
       "      <td>NaN</td>\n",
       "      <td>406</td>\n",
       "      <td>18</td>\n",
       "      <td>{'bp_id': {0: 203090}, 'ls_id': {0: 61002}, 'n...</td>\n",
       "    </tr>\n",
       "    <tr>\n",
       "      <th>4</th>\n",
       "      <td>14925</td>\n",
       "      <td>UNIVERSITY OF ILLINOIS</td>\n",
       "      <td>7513160</td>\n",
       "      <td>UNIVERSITY OF ILLINOIS FOUNDATION</td>\n",
       "      <td>0.961337</td>\n",
       "      <td>NaN</td>\n",
       "      <td>NaN</td>\n",
       "      <td>{'Org': {'name_nick': None, 'name': 'Universit...</td>\n",
       "      <td>http://www.uillinois.edu/</td>\n",
       "      <td>Org</td>\n",
       "      <td>['University of Illinois', 'University of Illi...</td>\n",
       "      <td>One of the original 37 public land-grant insti...</td>\n",
       "      <td>['Organization', 'School']</td>\n",
       "      <td>2020-05-04T14:54:31Z</td>\n",
       "      <td>1867-00-00</td>\n",
       "      <td>NaN</td>\n",
       "      <td>147</td>\n",
       "      <td>34</td>\n",
       "      <td>{'bp_id': {0: 786376, 1: 786366, 2: 202359, 3:...</td>\n",
       "    </tr>\n",
       "  </tbody>\n",
       "</table>\n",
       "</div>"
      ],
      "text/plain": [
       "   ls_id                            name    bp_id  \\\n",
       "0  14713              HARVARD LAW SCHOOL  6822486   \n",
       "1  14730              HARVARD UNIVERSITY  6830462   \n",
       "2  14922  UNIVERSITY OF NEBRASKA LINCOLN  8904282   \n",
       "3  14924             COLUMBIA UNIVERSITY  7871420   \n",
       "4  14925          UNIVERSITY OF ILLINOIS  7513160   \n",
       "\n",
       "                                          match_name  match_value  \\\n",
       "0                     HARVARD LAW REVIEW ASSOCIATION     0.705592   \n",
       "1                        HARVARD UNIVERSITY BAND INC     0.853769   \n",
       "2  UNIVERSITY PROGRAM COUNCIL UNIVERSITY OF NEBRA...     0.844771   \n",
       "3                  COLUMBIA INTERNATIONAL UNIVERSITY     0.909055   \n",
       "4                  UNIVERSITY OF ILLINOIS FOUNDATION     0.961337   \n",
       "\n",
       "                                             summary  parent_id  \\\n",
       "0                                                NaN    14730.0   \n",
       "1                                                NaN        NaN   \n",
       "2                                                NaN        NaN   \n",
       "3  Columbia University was founded in 1754 as Kin...        NaN   \n",
       "4                                                NaN        NaN   \n",
       "\n",
       "                                          extensions  \\\n",
       "0  {'Org': {'name_nick': None, 'name': 'Harvard L...   \n",
       "1  {'Org': {'name_nick': None, 'name': 'Harvard U...   \n",
       "2  {'Org': {'name_nick': None, 'name': 'Universit...   \n",
       "3  {'Org': {'name_nick': None, 'name': 'Columbia ...   \n",
       "4  {'Org': {'name_nick': None, 'name': 'Universit...   \n",
       "\n",
       "                              website primary_ext  \\\n",
       "0          http://www.law.harvard.edu         Org   \n",
       "1              http://www.harvard.edu         Org   \n",
       "2                                 NaN         Org   \n",
       "3  http://www.columbia.edu/index.html         Org   \n",
       "4           http://www.uillinois.edu/         Org   \n",
       "\n",
       "                                             aliases  \\\n",
       "0  ['Harvard Law School', 'Harvard University Law...   \n",
       "1  ['Harvard College', 'Harvard Corporation', 'Ha...   \n",
       "2  ['University of Nebraska - Lincoln', 'Universi...   \n",
       "3  ['Columbia University', 'Columbia University i...   \n",
       "4  ['University of Illinois', 'University of Illi...   \n",
       "\n",
       "                                               blurb  \\\n",
       "0                                                NaN   \n",
       "1  Elite private university located in Cambridge, MA   \n",
       "2                                                NaN   \n",
       "3  Oldest institution of higher learning in the s...   \n",
       "4  One of the original 37 public land-grant insti...   \n",
       "\n",
       "                        types            updated_at  start_date end_date  \\\n",
       "0  ['Organization', 'School']  2020-07-12T23:23:57Z         NaN      NaN   \n",
       "1  ['Organization', 'School']  2020-07-12T23:50:00Z  1636-00-00      NaN   \n",
       "2  ['Organization', 'School']  2019-12-13T19:33:21Z         NaN      NaN   \n",
       "3  ['Organization', 'School']  2020-07-10T18:37:07Z  1754-00-00      NaN   \n",
       "4  ['Organization', 'School']  2020-05-04T14:54:31Z  1867-00-00      NaN   \n",
       "\n",
       "   ls_rels  bp_rels                                                rev  \n",
       "0      711        9  {'bp_id': {0: 2923632, 1: 479006, 2: 3127938, ...  \n",
       "1      931        7  {'bp_id': {0: 26508, 1: 26508, 2: 26508}, 'ls_...  \n",
       "2       18        5  {'bp_id': {}, 'ls_id': {}, 'name_ls': {}, 'nam...  \n",
       "3      406       18  {'bp_id': {0: 203090}, 'ls_id': {0: 61002}, 'n...  \n",
       "4      147       34  {'bp_id': {0: 786376, 1: 786366, 2: 202359, 3:...  "
      ]
     },
     "execution_count": 13,
     "metadata": {},
     "output_type": "execute_result"
    }
   ],
   "source": [
    "fil_dat_rev.head()"
   ]
  },
  {
   "cell_type": "markdown",
   "metadata": {},
   "source": [
    "The 'rev' col is a string because the data was in a CSV:"
   ]
  },
  {
   "cell_type": "code",
   "execution_count": 14,
   "metadata": {},
   "outputs": [
    {
     "data": {
      "text/plain": [
       "str"
      ]
     },
     "execution_count": 14,
     "metadata": {},
     "output_type": "execute_result"
    }
   ],
   "source": [
    "type(fil_dat_rev.iloc[0, -1])"
   ]
  },
  {
   "cell_type": "markdown",
   "metadata": {},
   "source": [
    "Count number of null values:"
   ]
  },
  {
   "cell_type": "code",
   "execution_count": 15,
   "metadata": {},
   "outputs": [
    {
     "data": {
      "text/plain": [
       "2563"
      ]
     },
     "execution_count": 15,
     "metadata": {},
     "output_type": "execute_result"
    }
   ],
   "source": [
    "fil_dat_rev['rev'].isna().sum()"
   ]
  },
  {
   "cell_type": "markdown",
   "metadata": {},
   "source": [
    "Convert non-null values to dicts:"
   ]
  },
  {
   "cell_type": "code",
   "execution_count": 16,
   "metadata": {},
   "outputs": [
    {
     "data": {
      "text/plain": [
       "dict"
      ]
     },
     "execution_count": 16,
     "metadata": {},
     "output_type": "execute_result"
    }
   ],
   "source": [
    "fil_dat_rev['rev'] = fil_dat_rev['rev'].apply(lambda x: x if pd.isna(x) else ast.literal_eval(x))\n",
    "type(fil_dat_rev.iloc[0, -1])"
   ]
  },
  {
   "cell_type": "code",
   "execution_count": 17,
   "metadata": {},
   "outputs": [
    {
     "data": {
      "text/plain": [
       "{'bp_id': {0: 2923632, 1: 479006, 2: 3127938, 3: 3127936},\n",
       " 'ls_id': {0: 68424, 1: 75935, 2: 164462, 3: 200080},\n",
       " 'name_ls': {0: 'G Marshall Moriarty',\n",
       "  1: 'Martha L Minow',\n",
       "  2: 'Seth Berliner',\n",
       "  3: 'Carol S Steiker'},\n",
       " 'name_bp': {0: 'MARSHALL MORIARTY',\n",
       "  1: 'MARTHA MINOW',\n",
       "  2: 'SETH BERLINER VOL 131',\n",
       "  3: 'CAROL STEIKER'}}"
      ]
     },
     "execution_count": 17,
     "metadata": {},
     "output_type": "execute_result"
    }
   ],
   "source": [
    "fil_dat_rev.iloc[0, -1]"
   ]
  },
  {
   "cell_type": "code",
   "execution_count": 18,
   "metadata": {},
   "outputs": [
    {
     "data": {
      "text/html": [
       "<div>\n",
       "<style scoped>\n",
       "    .dataframe tbody tr th:only-of-type {\n",
       "        vertical-align: middle;\n",
       "    }\n",
       "\n",
       "    .dataframe tbody tr th {\n",
       "        vertical-align: top;\n",
       "    }\n",
       "\n",
       "    .dataframe thead th {\n",
       "        text-align: right;\n",
       "    }\n",
       "</style>\n",
       "<table border=\"1\" class=\"dataframe\">\n",
       "  <thead>\n",
       "    <tr style=\"text-align: right;\">\n",
       "      <th></th>\n",
       "      <th>ls_id</th>\n",
       "      <th>name</th>\n",
       "      <th>bp_id</th>\n",
       "      <th>match_name</th>\n",
       "      <th>match_value</th>\n",
       "      <th>summary</th>\n",
       "      <th>parent_id</th>\n",
       "      <th>extensions</th>\n",
       "      <th>website</th>\n",
       "      <th>primary_ext</th>\n",
       "      <th>aliases</th>\n",
       "      <th>blurb</th>\n",
       "      <th>types</th>\n",
       "      <th>updated_at</th>\n",
       "      <th>start_date</th>\n",
       "      <th>end_date</th>\n",
       "      <th>ls_rels</th>\n",
       "      <th>bp_rels</th>\n",
       "      <th>rev</th>\n",
       "      <th>rev_len</th>\n",
       "    </tr>\n",
       "  </thead>\n",
       "  <tbody>\n",
       "    <tr>\n",
       "      <th>0</th>\n",
       "      <td>14713</td>\n",
       "      <td>HARVARD LAW SCHOOL</td>\n",
       "      <td>6822486</td>\n",
       "      <td>HARVARD LAW REVIEW ASSOCIATION</td>\n",
       "      <td>0.705592</td>\n",
       "      <td>NaN</td>\n",
       "      <td>14730.0</td>\n",
       "      <td>{'Org': {'name_nick': None, 'name': 'Harvard L...</td>\n",
       "      <td>http://www.law.harvard.edu</td>\n",
       "      <td>Org</td>\n",
       "      <td>['Harvard Law School', 'Harvard University Law...</td>\n",
       "      <td>NaN</td>\n",
       "      <td>['Organization', 'School']</td>\n",
       "      <td>2020-07-12T23:23:57Z</td>\n",
       "      <td>NaN</td>\n",
       "      <td>NaN</td>\n",
       "      <td>711</td>\n",
       "      <td>9</td>\n",
       "      <td>{'bp_id': {0: 2923632, 1: 479006, 2: 3127938, ...</td>\n",
       "      <td>4</td>\n",
       "    </tr>\n",
       "    <tr>\n",
       "      <th>1</th>\n",
       "      <td>14730</td>\n",
       "      <td>HARVARD UNIVERSITY</td>\n",
       "      <td>6830462</td>\n",
       "      <td>HARVARD UNIVERSITY BAND INC</td>\n",
       "      <td>0.853769</td>\n",
       "      <td>NaN</td>\n",
       "      <td>NaN</td>\n",
       "      <td>{'Org': {'name_nick': None, 'name': 'Harvard U...</td>\n",
       "      <td>http://www.harvard.edu</td>\n",
       "      <td>Org</td>\n",
       "      <td>['Harvard College', 'Harvard Corporation', 'Ha...</td>\n",
       "      <td>Elite private university located in Cambridge, MA</td>\n",
       "      <td>['Organization', 'School']</td>\n",
       "      <td>2020-07-12T23:50:00Z</td>\n",
       "      <td>1636-00-00</td>\n",
       "      <td>NaN</td>\n",
       "      <td>931</td>\n",
       "      <td>7</td>\n",
       "      <td>{'bp_id': {0: 26508, 1: 26508, 2: 26508}, 'ls_...</td>\n",
       "      <td>3</td>\n",
       "    </tr>\n",
       "    <tr>\n",
       "      <th>2</th>\n",
       "      <td>14922</td>\n",
       "      <td>UNIVERSITY OF NEBRASKA LINCOLN</td>\n",
       "      <td>8904282</td>\n",
       "      <td>UNIVERSITY PROGRAM COUNCIL UNIVERSITY OF NEBRA...</td>\n",
       "      <td>0.844771</td>\n",
       "      <td>NaN</td>\n",
       "      <td>NaN</td>\n",
       "      <td>{'Org': {'name_nick': None, 'name': 'Universit...</td>\n",
       "      <td>NaN</td>\n",
       "      <td>Org</td>\n",
       "      <td>['University of Nebraska - Lincoln', 'Universi...</td>\n",
       "      <td>NaN</td>\n",
       "      <td>['Organization', 'School']</td>\n",
       "      <td>2019-12-13T19:33:21Z</td>\n",
       "      <td>NaN</td>\n",
       "      <td>NaN</td>\n",
       "      <td>18</td>\n",
       "      <td>5</td>\n",
       "      <td>{'bp_id': {}, 'ls_id': {}, 'name_ls': {}, 'nam...</td>\n",
       "      <td>0</td>\n",
       "    </tr>\n",
       "    <tr>\n",
       "      <th>3</th>\n",
       "      <td>14924</td>\n",
       "      <td>COLUMBIA UNIVERSITY</td>\n",
       "      <td>7871420</td>\n",
       "      <td>COLUMBIA INTERNATIONAL UNIVERSITY</td>\n",
       "      <td>0.909055</td>\n",
       "      <td>Columbia University was founded in 1754 as Kin...</td>\n",
       "      <td>NaN</td>\n",
       "      <td>{'Org': {'name_nick': None, 'name': 'Columbia ...</td>\n",
       "      <td>http://www.columbia.edu/index.html</td>\n",
       "      <td>Org</td>\n",
       "      <td>['Columbia University', 'Columbia University i...</td>\n",
       "      <td>Oldest institution of higher learning in the s...</td>\n",
       "      <td>['Organization', 'School']</td>\n",
       "      <td>2020-07-10T18:37:07Z</td>\n",
       "      <td>1754-00-00</td>\n",
       "      <td>NaN</td>\n",
       "      <td>406</td>\n",
       "      <td>18</td>\n",
       "      <td>{'bp_id': {0: 203090}, 'ls_id': {0: 61002}, 'n...</td>\n",
       "      <td>1</td>\n",
       "    </tr>\n",
       "    <tr>\n",
       "      <th>4</th>\n",
       "      <td>14925</td>\n",
       "      <td>UNIVERSITY OF ILLINOIS</td>\n",
       "      <td>7513160</td>\n",
       "      <td>UNIVERSITY OF ILLINOIS FOUNDATION</td>\n",
       "      <td>0.961337</td>\n",
       "      <td>NaN</td>\n",
       "      <td>NaN</td>\n",
       "      <td>{'Org': {'name_nick': None, 'name': 'Universit...</td>\n",
       "      <td>http://www.uillinois.edu/</td>\n",
       "      <td>Org</td>\n",
       "      <td>['University of Illinois', 'University of Illi...</td>\n",
       "      <td>One of the original 37 public land-grant insti...</td>\n",
       "      <td>['Organization', 'School']</td>\n",
       "      <td>2020-05-04T14:54:31Z</td>\n",
       "      <td>1867-00-00</td>\n",
       "      <td>NaN</td>\n",
       "      <td>147</td>\n",
       "      <td>34</td>\n",
       "      <td>{'bp_id': {0: 786376, 1: 786366, 2: 202359, 3:...</td>\n",
       "      <td>15</td>\n",
       "    </tr>\n",
       "  </tbody>\n",
       "</table>\n",
       "</div>"
      ],
      "text/plain": [
       "   ls_id                            name    bp_id  \\\n",
       "0  14713              HARVARD LAW SCHOOL  6822486   \n",
       "1  14730              HARVARD UNIVERSITY  6830462   \n",
       "2  14922  UNIVERSITY OF NEBRASKA LINCOLN  8904282   \n",
       "3  14924             COLUMBIA UNIVERSITY  7871420   \n",
       "4  14925          UNIVERSITY OF ILLINOIS  7513160   \n",
       "\n",
       "                                          match_name  match_value  \\\n",
       "0                     HARVARD LAW REVIEW ASSOCIATION     0.705592   \n",
       "1                        HARVARD UNIVERSITY BAND INC     0.853769   \n",
       "2  UNIVERSITY PROGRAM COUNCIL UNIVERSITY OF NEBRA...     0.844771   \n",
       "3                  COLUMBIA INTERNATIONAL UNIVERSITY     0.909055   \n",
       "4                  UNIVERSITY OF ILLINOIS FOUNDATION     0.961337   \n",
       "\n",
       "                                             summary  parent_id  \\\n",
       "0                                                NaN    14730.0   \n",
       "1                                                NaN        NaN   \n",
       "2                                                NaN        NaN   \n",
       "3  Columbia University was founded in 1754 as Kin...        NaN   \n",
       "4                                                NaN        NaN   \n",
       "\n",
       "                                          extensions  \\\n",
       "0  {'Org': {'name_nick': None, 'name': 'Harvard L...   \n",
       "1  {'Org': {'name_nick': None, 'name': 'Harvard U...   \n",
       "2  {'Org': {'name_nick': None, 'name': 'Universit...   \n",
       "3  {'Org': {'name_nick': None, 'name': 'Columbia ...   \n",
       "4  {'Org': {'name_nick': None, 'name': 'Universit...   \n",
       "\n",
       "                              website primary_ext  \\\n",
       "0          http://www.law.harvard.edu         Org   \n",
       "1              http://www.harvard.edu         Org   \n",
       "2                                 NaN         Org   \n",
       "3  http://www.columbia.edu/index.html         Org   \n",
       "4           http://www.uillinois.edu/         Org   \n",
       "\n",
       "                                             aliases  \\\n",
       "0  ['Harvard Law School', 'Harvard University Law...   \n",
       "1  ['Harvard College', 'Harvard Corporation', 'Ha...   \n",
       "2  ['University of Nebraska - Lincoln', 'Universi...   \n",
       "3  ['Columbia University', 'Columbia University i...   \n",
       "4  ['University of Illinois', 'University of Illi...   \n",
       "\n",
       "                                               blurb  \\\n",
       "0                                                NaN   \n",
       "1  Elite private university located in Cambridge, MA   \n",
       "2                                                NaN   \n",
       "3  Oldest institution of higher learning in the s...   \n",
       "4  One of the original 37 public land-grant insti...   \n",
       "\n",
       "                        types            updated_at  start_date end_date  \\\n",
       "0  ['Organization', 'School']  2020-07-12T23:23:57Z         NaN      NaN   \n",
       "1  ['Organization', 'School']  2020-07-12T23:50:00Z  1636-00-00      NaN   \n",
       "2  ['Organization', 'School']  2019-12-13T19:33:21Z         NaN      NaN   \n",
       "3  ['Organization', 'School']  2020-07-10T18:37:07Z  1754-00-00      NaN   \n",
       "4  ['Organization', 'School']  2020-05-04T14:54:31Z  1867-00-00      NaN   \n",
       "\n",
       "   ls_rels  bp_rels                                                rev  \\\n",
       "0      711        9  {'bp_id': {0: 2923632, 1: 479006, 2: 3127938, ...   \n",
       "1      931        7  {'bp_id': {0: 26508, 1: 26508, 2: 26508}, 'ls_...   \n",
       "2       18        5  {'bp_id': {}, 'ls_id': {}, 'name_ls': {}, 'nam...   \n",
       "3      406       18  {'bp_id': {0: 203090}, 'ls_id': {0: 61002}, 'n...   \n",
       "4      147       34  {'bp_id': {0: 786376, 1: 786366, 2: 202359, 3:...   \n",
       "\n",
       "   rev_len  \n",
       "0        4  \n",
       "1        3  \n",
       "2        0  \n",
       "3        1  \n",
       "4       15  "
      ]
     },
     "execution_count": 18,
     "metadata": {},
     "output_type": "execute_result"
    }
   ],
   "source": [
    "fil_dat_rev['rev_len'] = fil_dat_rev['rev'].apply(lambda x: 0 if pd.isna(x) else (len(x['bp_id']) if 'bp_id' in x else 0))\n",
    "fil_dat_rev.head()"
   ]
  },
  {
   "cell_type": "code",
   "execution_count": 19,
   "metadata": {},
   "outputs": [
    {
     "data": {
      "text/html": [
       "<div>\n",
       "<style scoped>\n",
       "    .dataframe tbody tr th:only-of-type {\n",
       "        vertical-align: middle;\n",
       "    }\n",
       "\n",
       "    .dataframe tbody tr th {\n",
       "        vertical-align: top;\n",
       "    }\n",
       "\n",
       "    .dataframe thead th {\n",
       "        text-align: right;\n",
       "    }\n",
       "</style>\n",
       "<table border=\"1\" class=\"dataframe\">\n",
       "  <thead>\n",
       "    <tr style=\"text-align: right;\">\n",
       "      <th></th>\n",
       "      <th>ls_id</th>\n",
       "      <th>bp_id</th>\n",
       "      <th>name</th>\n",
       "      <th>match_name</th>\n",
       "      <th>match_value</th>\n",
       "      <th>rev_len</th>\n",
       "    </tr>\n",
       "  </thead>\n",
       "  <tbody>\n",
       "    <tr>\n",
       "      <th>772</th>\n",
       "      <td>38098</td>\n",
       "      <td>6822382</td>\n",
       "      <td>DANA FARBER CANCER INSTITUTE</td>\n",
       "      <td>DANA FARBER CANCER INSTITUTE INC</td>\n",
       "      <td>1.000000</td>\n",
       "      <td>248</td>\n",
       "    </tr>\n",
       "    <tr>\n",
       "      <th>1018</th>\n",
       "      <td>40390</td>\n",
       "      <td>7204643</td>\n",
       "      <td>BAY AREA COUNCIL ECONOMIC INSTITUTE</td>\n",
       "      <td>BAY AREA COUNCIL</td>\n",
       "      <td>0.763614</td>\n",
       "      <td>212</td>\n",
       "    </tr>\n",
       "    <tr>\n",
       "      <th>4262</th>\n",
       "      <td>132483</td>\n",
       "      <td>8147414</td>\n",
       "      <td>SOUTHWESTERN MEDICAL FOUNDATION</td>\n",
       "      <td>SOUTHWESTERN MEDICAL FOUNDATION</td>\n",
       "      <td>1.000000</td>\n",
       "      <td>137</td>\n",
       "    </tr>\n",
       "    <tr>\n",
       "      <th>656</th>\n",
       "      <td>37068</td>\n",
       "      <td>6913911</td>\n",
       "      <td>THE PARTNERSHIP FOR NEW YORK CITY INC</td>\n",
       "      <td>THE PARTNERSHIP FOR NEW YORK CITY INC</td>\n",
       "      <td>1.000000</td>\n",
       "      <td>135</td>\n",
       "    </tr>\n",
       "    <tr>\n",
       "      <th>158</th>\n",
       "      <td>33171</td>\n",
       "      <td>7794249</td>\n",
       "      <td>BROOKINGS INSTITUTION</td>\n",
       "      <td>BROOKINGS INSTITUTION</td>\n",
       "      <td>1.000000</td>\n",
       "      <td>114</td>\n",
       "    </tr>\n",
       "    <tr>\n",
       "      <th>1214</th>\n",
       "      <td>43032</td>\n",
       "      <td>7450788</td>\n",
       "      <td>MUSEUM OF SCIENCE AND INDUSTRY CHICAGO</td>\n",
       "      <td>MUSEUM OF SCIENCE AND INDUSTRY</td>\n",
       "      <td>0.857128</td>\n",
       "      <td>111</td>\n",
       "    </tr>\n",
       "    <tr>\n",
       "      <th>460</th>\n",
       "      <td>34601</td>\n",
       "      <td>7450797</td>\n",
       "      <td>CHICAGO SYMPHONY ORCHESTRA</td>\n",
       "      <td>CHICAGO SYMPHONY ORCHESTRA</td>\n",
       "      <td>1.000000</td>\n",
       "      <td>110</td>\n",
       "    </tr>\n",
       "    <tr>\n",
       "      <th>2041</th>\n",
       "      <td>68385</td>\n",
       "      <td>7293838</td>\n",
       "      <td>THE AMERICAN IRELAND FUND</td>\n",
       "      <td>THE AMERICAN IRELAND FUND</td>\n",
       "      <td>1.000000</td>\n",
       "      <td>108</td>\n",
       "    </tr>\n",
       "    <tr>\n",
       "      <th>1144</th>\n",
       "      <td>41975</td>\n",
       "      <td>7102038</td>\n",
       "      <td>DREXEL UNIVERSITY</td>\n",
       "      <td>DREXEL UNIVERSITY</td>\n",
       "      <td>1.000000</td>\n",
       "      <td>106</td>\n",
       "    </tr>\n",
       "    <tr>\n",
       "      <th>936</th>\n",
       "      <td>39654</td>\n",
       "      <td>6855376</td>\n",
       "      <td>JOHN F KENNEDY PRESIDENTIAL LIBRARY AND MUSEUM</td>\n",
       "      <td>JOHN FITZGERALD KENNEDY LIBRARY FOUNDATION INC</td>\n",
       "      <td>0.546449</td>\n",
       "      <td>104</td>\n",
       "    </tr>\n",
       "  </tbody>\n",
       "</table>\n",
       "</div>"
      ],
      "text/plain": [
       "       ls_id    bp_id                                            name  \\\n",
       "772    38098  6822382                    DANA FARBER CANCER INSTITUTE   \n",
       "1018   40390  7204643             BAY AREA COUNCIL ECONOMIC INSTITUTE   \n",
       "4262  132483  8147414                 SOUTHWESTERN MEDICAL FOUNDATION   \n",
       "656    37068  6913911           THE PARTNERSHIP FOR NEW YORK CITY INC   \n",
       "158    33171  7794249                           BROOKINGS INSTITUTION   \n",
       "1214   43032  7450788          MUSEUM OF SCIENCE AND INDUSTRY CHICAGO   \n",
       "460    34601  7450797                      CHICAGO SYMPHONY ORCHESTRA   \n",
       "2041   68385  7293838                       THE AMERICAN IRELAND FUND   \n",
       "1144   41975  7102038                               DREXEL UNIVERSITY   \n",
       "936    39654  6855376  JOHN F KENNEDY PRESIDENTIAL LIBRARY AND MUSEUM   \n",
       "\n",
       "                                          match_name  match_value  rev_len  \n",
       "772                 DANA FARBER CANCER INSTITUTE INC     1.000000      248  \n",
       "1018                                BAY AREA COUNCIL     0.763614      212  \n",
       "4262                 SOUTHWESTERN MEDICAL FOUNDATION     1.000000      137  \n",
       "656            THE PARTNERSHIP FOR NEW YORK CITY INC     1.000000      135  \n",
       "158                            BROOKINGS INSTITUTION     1.000000      114  \n",
       "1214                  MUSEUM OF SCIENCE AND INDUSTRY     0.857128      111  \n",
       "460                       CHICAGO SYMPHONY ORCHESTRA     1.000000      110  \n",
       "2041                       THE AMERICAN IRELAND FUND     1.000000      108  \n",
       "1144                               DREXEL UNIVERSITY     1.000000      106  \n",
       "936   JOHN FITZGERALD KENNEDY LIBRARY FOUNDATION INC     0.546449      104  "
      ]
     },
     "execution_count": 19,
     "metadata": {},
     "output_type": "execute_result"
    }
   ],
   "source": [
    "fil_dat_rev.sort_values(by = 'rev_len', ascending = False).head(10)[['ls_id', 'bp_id', 'name', 'match_name', 'match_value', 'rev_len']]  #, 'ls_rels', 'bp_rels']]"
   ]
  },
  {
   "cell_type": "code",
   "execution_count": 20,
   "metadata": {},
   "outputs": [],
   "source": [
    "# plt.hist(fil_dat_rev[fil_dat_rev['rev_len'] > 0]['rev_len'], bins = 20, color = '#9433ff')\n",
    "# plt.yscale('log')\n",
    "# plt.title('Distro of Number of Name Matches')\n",
    "# plt.xlabel('Number')\n",
    "# plt.ylabel('Log Count')\n",
    "# plt.show()\n",
    "# plt.close()"
   ]
  },
  {
   "cell_type": "code",
   "execution_count": 21,
   "metadata": {},
   "outputs": [],
   "source": [
    "# plt.scatter(fil_dat_rev[fil_dat_rev['rev_len'] > 0]['match_value'], fil_dat_rev[fil_dat_rev['rev_len'] > 0]['rev_len'], alpha = 0.4, color = '#9433ff')\n",
    "# plt.title('Number of Name Matches vs Match Value')\n",
    "# plt.xlabel('Match Value')\n",
    "# plt.ylabel('Number of Name Matches')\n",
    "# plt.show()\n",
    "# plt.close()"
   ]
  },
  {
   "cell_type": "markdown",
   "metadata": {},
   "source": [
    "Getting all universities using [NTEE code](https://nccs.urban.org/publication/irs-activity-codes):"
   ]
  },
  {
   "cell_type": "code",
   "execution_count": 91,
   "metadata": {},
   "outputs": [
    {
     "data": {
      "text/plain": [
       "(1030, 20)"
      ]
     },
     "execution_count": 91,
     "metadata": {},
     "output_type": "execute_result"
    }
   ],
   "source": [
    "unis = fil_dat_rev[fil_dat_rev['bp_id'].apply(lambda x: True if bipartite_all.nodes[x]['bipartite'] == 0 and (bipartite_all.nodes[x]['ntee_code'].startswith('B4') or bipartite_all.nodes[x]['ntee_code'].startswith('B5')) else False)]  # returns true if ent is listed in bipartite-all as an org (bipartite = 0) and NTEE code is B4_ or B5_, else false\n",
    "unis.shape"
   ]
  },
  {
   "cell_type": "markdown",
   "metadata": {},
   "source": [
    "University stats:"
   ]
  },
  {
   "cell_type": "code",
   "execution_count": 92,
   "metadata": {},
   "outputs": [
    {
     "data": {
      "text/html": [
       "<div>\n",
       "<style scoped>\n",
       "    .dataframe tbody tr th:only-of-type {\n",
       "        vertical-align: middle;\n",
       "    }\n",
       "\n",
       "    .dataframe tbody tr th {\n",
       "        vertical-align: top;\n",
       "    }\n",
       "\n",
       "    .dataframe thead th {\n",
       "        text-align: right;\n",
       "    }\n",
       "</style>\n",
       "<table border=\"1\" class=\"dataframe\">\n",
       "  <thead>\n",
       "    <tr style=\"text-align: right;\">\n",
       "      <th></th>\n",
       "      <th>match_value</th>\n",
       "      <th>rev_len</th>\n",
       "      <th>overall_match_value</th>\n",
       "      <th>overall_rev_len</th>\n",
       "    </tr>\n",
       "  </thead>\n",
       "  <tbody>\n",
       "    <tr>\n",
       "      <th>count</th>\n",
       "      <td>1030.000000</td>\n",
       "      <td>1030.000000</td>\n",
       "      <td>7426.000000</td>\n",
       "      <td>7426.000000</td>\n",
       "    </tr>\n",
       "    <tr>\n",
       "      <th>mean</th>\n",
       "      <td>0.833878</td>\n",
       "      <td>14.014563</td>\n",
       "      <td>0.817307</td>\n",
       "      <td>7.710207</td>\n",
       "    </tr>\n",
       "    <tr>\n",
       "      <th>std</th>\n",
       "      <td>0.220814</td>\n",
       "      <td>18.450753</td>\n",
       "      <td>0.227022</td>\n",
       "      <td>14.358181</td>\n",
       "    </tr>\n",
       "    <tr>\n",
       "      <th>min</th>\n",
       "      <td>0.196042</td>\n",
       "      <td>0.000000</td>\n",
       "      <td>0.049361</td>\n",
       "      <td>0.000000</td>\n",
       "    </tr>\n",
       "    <tr>\n",
       "      <th>25%</th>\n",
       "      <td>0.684627</td>\n",
       "      <td>0.000000</td>\n",
       "      <td>0.663806</td>\n",
       "      <td>0.000000</td>\n",
       "    </tr>\n",
       "    <tr>\n",
       "      <th>50%</th>\n",
       "      <td>0.981536</td>\n",
       "      <td>8.000000</td>\n",
       "      <td>0.944296</td>\n",
       "      <td>1.000000</td>\n",
       "    </tr>\n",
       "    <tr>\n",
       "      <th>75%</th>\n",
       "      <td>1.000000</td>\n",
       "      <td>21.000000</td>\n",
       "      <td>1.000000</td>\n",
       "      <td>10.000000</td>\n",
       "    </tr>\n",
       "    <tr>\n",
       "      <th>max</th>\n",
       "      <td>1.000000</td>\n",
       "      <td>106.000000</td>\n",
       "      <td>1.000000</td>\n",
       "      <td>248.000000</td>\n",
       "    </tr>\n",
       "  </tbody>\n",
       "</table>\n",
       "</div>"
      ],
      "text/plain": [
       "       match_value      rev_len  overall_match_value  overall_rev_len\n",
       "count  1030.000000  1030.000000          7426.000000      7426.000000\n",
       "mean      0.833878    14.014563             0.817307         7.710207\n",
       "std       0.220814    18.450753             0.227022        14.358181\n",
       "min       0.196042     0.000000             0.049361         0.000000\n",
       "25%       0.684627     0.000000             0.663806         0.000000\n",
       "50%       0.981536     8.000000             0.944296         1.000000\n",
       "75%       1.000000    21.000000             1.000000        10.000000\n",
       "max       1.000000   106.000000             1.000000       248.000000"
      ]
     },
     "execution_count": 92,
     "metadata": {},
     "output_type": "execute_result"
    }
   ],
   "source": [
    "pd.concat([unis[['match_value', 'rev_len']].describe(), fil_dat_rev[['match_value', 'rev_len']].describe().rename(columns = {'match_value': 'overall_match_value', 'rev_len': 'overall_rev_len'})], axis = 1)"
   ]
  },
  {
   "cell_type": "code",
   "execution_count": 93,
   "metadata": {},
   "outputs": [
    {
     "data": {
      "image/png": "[encoded data removed]",
      "text/plain": [
       "<Figure size 432x288 with 1 Axes>"
      ]
     },
     "metadata": {
      "needs_background": "light"
     },
     "output_type": "display_data"
    }
   ],
   "source": [
    "# plt.hist(fil_dat_rev['match_value'], bins = 20, color = '#00788c')\n",
    "plt.hist(unis['match_value'], bins = 20, color = '#9433ff')\n",
    "plt.title('University Match Value Distro')\n",
    "plt.xlabel('Match Value')\n",
    "plt.ylabel('Count')\n",
    "plt.show()\n",
    "plt.close()"
   ]
  },
  {
   "cell_type": "code",
   "execution_count": 94,
   "metadata": {},
   "outputs": [
    {
     "data": {
      "image/png": "[encoded data removed]",
      "text/plain": [
       "<Figure size 432x288 with 1 Axes>"
      ]
     },
     "metadata": {
      "needs_background": "light"
     },
     "output_type": "display_data"
    }
   ],
   "source": [
    "plt.hist(unis['rev_len'], bins = 20, color = '#9433ff')\n",
    "plt.title('University Rev_Len Distro')\n",
    "plt.xlabel('Rev_Len')\n",
    "plt.ylabel('Count')\n",
    "plt.show()\n",
    "plt.close()"
   ]
  },
  {
   "cell_type": "code",
   "execution_count": 95,
   "metadata": {},
   "outputs": [
    {
     "data": {
      "text/plain": [
       "(686, 20)"
      ]
     },
     "execution_count": 95,
     "metadata": {},
     "output_type": "execute_result"
    }
   ],
   "source": [
    "unis_with_names = unis[unis['rev_len'] > 0].copy()  # .copy() to prevent warning when creating type_breakdown col, maybe apply a match_value filter here?\n",
    "unis_with_names.shape"
   ]
  },
  {
   "cell_type": "markdown",
   "metadata": {},
   "source": [
    "Remember: One person can have multiple types"
   ]
  },
  {
   "cell_type": "code",
   "execution_count": 96,
   "metadata": {},
   "outputs": [],
   "source": [
    "def breakdownCounter(x):  # x is the dict stored in the rev col of fil_dat_rev\n",
    "#     reqd_types = {'Business Person': 0, 'Lobbyist': 0, 'Academic': 0, 'Political Candidate': 0, 'Lawyer': 0, 'Public Official': 0, 'Elected Representative': 0, 'Media Personality': 0, 'Public Intellectual': 0}\n",
    "    reqd_types = ['Business Person', 'Lobbyist', 'Academic', 'Political Candidate', 'Lawyer', 'Public Official', 'Elected Representative', 'Media Personality', 'Public Intellectual']  # types of people we're interested in\n",
    "\n",
    "    related_ls_ids = x['ls_id'].values()  # get the LittleSis IDs of the people related to the current org\n",
    "    \n",
    "    all_counts = ents[ents['id'].isin(related_ls_ids)]['types'].explode().value_counts()  # count all types listing for those IDs\n",
    "    \n",
    "    idx = all_counts.index.isin(reqd_types)  # get indices of types we're interested in \n",
    "    \n",
    "#     print(all_counts[idx].to_dict())\n",
    "\n",
    "    return all_counts[idx].to_dict()  # convert series to a dict and return"
   ]
  },
  {
   "cell_type": "code",
   "execution_count": 97,
   "metadata": {},
   "outputs": [],
   "source": [
    "abc = unis_with_names.head().copy()  # abc is the sample\n",
    "# abc"
   ]
  },
  {
   "cell_type": "code",
   "execution_count": 98,
   "metadata": {},
   "outputs": [
    {
     "data": {
      "text/html": [
       "<div>\n",
       "<style scoped>\n",
       "    .dataframe tbody tr th:only-of-type {\n",
       "        vertical-align: middle;\n",
       "    }\n",
       "\n",
       "    .dataframe tbody tr th {\n",
       "        vertical-align: top;\n",
       "    }\n",
       "\n",
       "    .dataframe thead th {\n",
       "        text-align: right;\n",
       "    }\n",
       "</style>\n",
       "<table border=\"1\" class=\"dataframe\">\n",
       "  <thead>\n",
       "    <tr style=\"text-align: right;\">\n",
       "      <th></th>\n",
       "      <th>ls_id</th>\n",
       "      <th>name</th>\n",
       "      <th>bp_id</th>\n",
       "      <th>match_name</th>\n",
       "      <th>match_value</th>\n",
       "      <th>summary</th>\n",
       "      <th>parent_id</th>\n",
       "      <th>extensions</th>\n",
       "      <th>website</th>\n",
       "      <th>primary_ext</th>\n",
       "      <th>...</th>\n",
       "      <th>blurb</th>\n",
       "      <th>types</th>\n",
       "      <th>updated_at</th>\n",
       "      <th>start_date</th>\n",
       "      <th>end_date</th>\n",
       "      <th>ls_rels</th>\n",
       "      <th>bp_rels</th>\n",
       "      <th>rev</th>\n",
       "      <th>rev_len</th>\n",
       "      <th>type_breakdown</th>\n",
       "    </tr>\n",
       "  </thead>\n",
       "  <tbody>\n",
       "    <tr>\n",
       "      <th>3</th>\n",
       "      <td>14924</td>\n",
       "      <td>COLUMBIA UNIVERSITY</td>\n",
       "      <td>7871420</td>\n",
       "      <td>COLUMBIA INTERNATIONAL UNIVERSITY</td>\n",
       "      <td>0.909055</td>\n",
       "      <td>Columbia University was founded in 1754 as Kin...</td>\n",
       "      <td>NaN</td>\n",
       "      <td>{'Org': {'name_nick': None, 'name': 'Columbia ...</td>\n",
       "      <td>http://www.columbia.edu/index.html</td>\n",
       "      <td>Org</td>\n",
       "      <td>...</td>\n",
       "      <td>Oldest institution of higher learning in the s...</td>\n",
       "      <td>['Organization', 'School']</td>\n",
       "      <td>2020-07-10T18:37:07Z</td>\n",
       "      <td>1754-00-00</td>\n",
       "      <td>NaN</td>\n",
       "      <td>406</td>\n",
       "      <td>18</td>\n",
       "      <td>{'bp_id': {0: 203090}, 'ls_id': {0: 61002}, 'n...</td>\n",
       "      <td>1</td>\n",
       "      <td>{'Business Person': 1}</td>\n",
       "    </tr>\n",
       "    <tr>\n",
       "      <th>6</th>\n",
       "      <td>14928</td>\n",
       "      <td>TRINITY UNIVERSITY OF SAN ANTONIO</td>\n",
       "      <td>8108252</td>\n",
       "      <td>OUR LADY OF THE LAKE UNIVERSITY OF SAN ANTONIO</td>\n",
       "      <td>0.576802</td>\n",
       "      <td>NaN</td>\n",
       "      <td>NaN</td>\n",
       "      <td>{'Org': {'name_nick': None, 'name': 'Trinity U...</td>\n",
       "      <td>NaN</td>\n",
       "      <td>Org</td>\n",
       "      <td>...</td>\n",
       "      <td>NaN</td>\n",
       "      <td>['Organization', 'School']</td>\n",
       "      <td>2019-10-26T17:59:14Z</td>\n",
       "      <td>NaN</td>\n",
       "      <td>NaN</td>\n",
       "      <td>7</td>\n",
       "      <td>32</td>\n",
       "      <td>{'bp_id': {0: 486509, 1: 486513, 2: 33952}, 'l...</td>\n",
       "      <td>3</td>\n",
       "      <td>{'Elected Representative': 1, 'Political Candi...</td>\n",
       "    </tr>\n",
       "    <tr>\n",
       "      <th>7</th>\n",
       "      <td>14931</td>\n",
       "      <td>JOHNS HOPKINS UNIVERSITY</td>\n",
       "      <td>7746598</td>\n",
       "      <td>JOHNS HOPKINS UNIVERSITY</td>\n",
       "      <td>1.000000</td>\n",
       "      <td>NaN</td>\n",
       "      <td>NaN</td>\n",
       "      <td>{'Org': {'name_nick': None, 'name': 'Johns Hop...</td>\n",
       "      <td>NaN</td>\n",
       "      <td>Org</td>\n",
       "      <td>...</td>\n",
       "      <td>Baltimore, Maryland</td>\n",
       "      <td>['Organization', 'School']</td>\n",
       "      <td>2020-06-20T01:45:39Z</td>\n",
       "      <td>NaN</td>\n",
       "      <td>NaN</td>\n",
       "      <td>191</td>\n",
       "      <td>60</td>\n",
       "      <td>{'bp_id': {0: 404004, 1: 27883, 2: 397820, 3: ...</td>\n",
       "      <td>43</td>\n",
       "      <td>{'Business Person': 19, 'Public Official': 3, ...</td>\n",
       "    </tr>\n",
       "    <tr>\n",
       "      <th>14</th>\n",
       "      <td>14944</td>\n",
       "      <td>WASHINGTON UNIVERSITY IN ST LOUIS</td>\n",
       "      <td>7644970</td>\n",
       "      <td>ST LOUIS UNIVERSITY</td>\n",
       "      <td>0.792701</td>\n",
       "      <td>NaN</td>\n",
       "      <td>NaN</td>\n",
       "      <td>{'Org': {'name_nick': None, 'name': 'Washingto...</td>\n",
       "      <td>http://www.wustl.edu/</td>\n",
       "      <td>Org</td>\n",
       "      <td>...</td>\n",
       "      <td>A private research university located in St. L...</td>\n",
       "      <td>['Organization', 'School']</td>\n",
       "      <td>2020-07-11T14:21:34Z</td>\n",
       "      <td>1853-00-00</td>\n",
       "      <td>NaN</td>\n",
       "      <td>216</td>\n",
       "      <td>68</td>\n",
       "      <td>{'bp_id': {0: 582584, 1: 920761, 2: 53938, 3: ...</td>\n",
       "      <td>28</td>\n",
       "      <td>{'Business Person': 9, 'Academic': 4, 'Lobbyis...</td>\n",
       "    </tr>\n",
       "    <tr>\n",
       "      <th>15</th>\n",
       "      <td>14946</td>\n",
       "      <td>FINCH COLLEGE</td>\n",
       "      <td>6958634</td>\n",
       "      <td>MEDAILLE COLLEGE</td>\n",
       "      <td>0.202467</td>\n",
       "      <td>NaN</td>\n",
       "      <td>NaN</td>\n",
       "      <td>{'Org': {'name_nick': None, 'name': 'Finch Col...</td>\n",
       "      <td>NaN</td>\n",
       "      <td>Org</td>\n",
       "      <td>...</td>\n",
       "      <td>NaN</td>\n",
       "      <td>['Organization', 'School']</td>\n",
       "      <td>2020-01-23T18:23:21Z</td>\n",
       "      <td>NaN</td>\n",
       "      <td>NaN</td>\n",
       "      <td>3</td>\n",
       "      <td>23</td>\n",
       "      <td>{'bp_id': {0: 382953, 1: 621422, 2: 128940, 3:...</td>\n",
       "      <td>18</td>\n",
       "      <td>{'Business Person': 6}</td>\n",
       "    </tr>\n",
       "  </tbody>\n",
       "</table>\n",
       "<p>5 rows × 21 columns</p>\n",
       "</div>"
      ],
      "text/plain": [
       "    ls_id                               name    bp_id  \\\n",
       "3   14924                COLUMBIA UNIVERSITY  7871420   \n",
       "6   14928  TRINITY UNIVERSITY OF SAN ANTONIO  8108252   \n",
       "7   14931           JOHNS HOPKINS UNIVERSITY  7746598   \n",
       "14  14944  WASHINGTON UNIVERSITY IN ST LOUIS  7644970   \n",
       "15  14946                      FINCH COLLEGE  6958634   \n",
       "\n",
       "                                        match_name  match_value  \\\n",
       "3                COLUMBIA INTERNATIONAL UNIVERSITY     0.909055   \n",
       "6   OUR LADY OF THE LAKE UNIVERSITY OF SAN ANTONIO     0.576802   \n",
       "7                         JOHNS HOPKINS UNIVERSITY     1.000000   \n",
       "14                             ST LOUIS UNIVERSITY     0.792701   \n",
       "15                                MEDAILLE COLLEGE     0.202467   \n",
       "\n",
       "                                              summary  parent_id  \\\n",
       "3   Columbia University was founded in 1754 as Kin...        NaN   \n",
       "6                                                 NaN        NaN   \n",
       "7                                                 NaN        NaN   \n",
       "14                                                NaN        NaN   \n",
       "15                                                NaN        NaN   \n",
       "\n",
       "                                           extensions  \\\n",
       "3   {'Org': {'name_nick': None, 'name': 'Columbia ...   \n",
       "6   {'Org': {'name_nick': None, 'name': 'Trinity U...   \n",
       "7   {'Org': {'name_nick': None, 'name': 'Johns Hop...   \n",
       "14  {'Org': {'name_nick': None, 'name': 'Washingto...   \n",
       "15  {'Org': {'name_nick': None, 'name': 'Finch Col...   \n",
       "\n",
       "                               website primary_ext  ...  \\\n",
       "3   http://www.columbia.edu/index.html         Org  ...   \n",
       "6                                  NaN         Org  ...   \n",
       "7                                  NaN         Org  ...   \n",
       "14               http://www.wustl.edu/         Org  ...   \n",
       "15                                 NaN         Org  ...   \n",
       "\n",
       "                                                blurb  \\\n",
       "3   Oldest institution of higher learning in the s...   \n",
       "6                                                 NaN   \n",
       "7                                 Baltimore, Maryland   \n",
       "14  A private research university located in St. L...   \n",
       "15                                                NaN   \n",
       "\n",
       "                         types            updated_at  start_date end_date  \\\n",
       "3   ['Organization', 'School']  2020-07-10T18:37:07Z  1754-00-00      NaN   \n",
       "6   ['Organization', 'School']  2019-10-26T17:59:14Z         NaN      NaN   \n",
       "7   ['Organization', 'School']  2020-06-20T01:45:39Z         NaN      NaN   \n",
       "14  ['Organization', 'School']  2020-07-11T14:21:34Z  1853-00-00      NaN   \n",
       "15  ['Organization', 'School']  2020-01-23T18:23:21Z         NaN      NaN   \n",
       "\n",
       "   ls_rels  bp_rels                                                rev  \\\n",
       "3      406       18  {'bp_id': {0: 203090}, 'ls_id': {0: 61002}, 'n...   \n",
       "6        7       32  {'bp_id': {0: 486509, 1: 486513, 2: 33952}, 'l...   \n",
       "7      191       60  {'bp_id': {0: 404004, 1: 27883, 2: 397820, 3: ...   \n",
       "14     216       68  {'bp_id': {0: 582584, 1: 920761, 2: 53938, 3: ...   \n",
       "15       3       23  {'bp_id': {0: 382953, 1: 621422, 2: 128940, 3:...   \n",
       "\n",
       "   rev_len                                     type_breakdown  \n",
       "3        1                             {'Business Person': 1}  \n",
       "6        3  {'Elected Representative': 1, 'Political Candi...  \n",
       "7       43  {'Business Person': 19, 'Public Official': 3, ...  \n",
       "14      28  {'Business Person': 9, 'Academic': 4, 'Lobbyis...  \n",
       "15      18                             {'Business Person': 6}  \n",
       "\n",
       "[5 rows x 21 columns]"
      ]
     },
     "execution_count": 98,
     "metadata": {},
     "output_type": "execute_result"
    }
   ],
   "source": [
    "abc['type_breakdown'] = abc['rev'].apply(breakdownCounter)\n",
    "abc"
   ]
  },
  {
   "cell_type": "code",
   "execution_count": 99,
   "metadata": {},
   "outputs": [],
   "source": [
    "def plotBreakdown(type_breakdown):\n",
    "    counter = Counter()\n",
    "    \n",
    "    # count total occurences of each type\n",
    "    for type_dict in type_breakdown:\n",
    "        counter.update(type_dict)\n",
    "        \n",
    "    pprint(counter)\n",
    "        \n",
    "    l = list(zip(*counter.most_common()))  # creates a list of tuples of the counts in desc order\n",
    "    \n",
    "    plt.bar(l[0], l[1], color = '#9433ff')\n",
    "    plt.title('Distribution of People for Universities Boards')\n",
    "    plt.xlabel('Type')\n",
    "    plt.ylabel('Count')\n",
    "    plt.xticks(rotation = 90)\n",
    "    plt.show()\n",
    "    plt.close()"
   ]
  },
  {
   "cell_type": "code",
   "execution_count": 100,
   "metadata": {},
   "outputs": [
    {
     "name": "stdout",
     "output_type": "stream",
     "text": [
      "Counter({'Business Person': 35,\n",
      "         'Academic': 5,\n",
      "         'Public Official': 4,\n",
      "         'Elected Representative': 3,\n",
      "         'Political Candidate': 3,\n",
      "         'Lawyer': 3,\n",
      "         'Lobbyist': 3,\n",
      "         'Media Personality': 2})\n"
     ]
    },
    {
     "data": {
      "image/png": "[encoded data removed]",
      "text/plain": [
       "<Figure size 432x288 with 1 Axes>"
      ]
     },
     "metadata": {
      "needs_background": "light"
     },
     "output_type": "display_data"
    }
   ],
   "source": [
    "plotBreakdown(abc['type_breakdown'].tolist())  # for the sample"
   ]
  },
  {
   "cell_type": "code",
   "execution_count": 101,
   "metadata": {},
   "outputs": [
    {
     "name": "stdout",
     "output_type": "stream",
     "text": [
      "Counter({'Business Person': 5459,\n",
      "         'Lawyer': 630,\n",
      "         'Lobbyist': 591,\n",
      "         'Academic': 558,\n",
      "         'Political Candidate': 544,\n",
      "         'Public Official': 457,\n",
      "         'Elected Representative': 313,\n",
      "         'Media Personality': 100,\n",
      "         'Public Intellectual': 26})\n"
     ]
    },
    {
     "data": {
      "image/png": "[encoded data removed]",
      "text/plain": [
       "<Figure size 432x288 with 1 Axes>"
      ]
     },
     "metadata": {
      "needs_background": "light"
     },
     "output_type": "display_data"
    }
   ],
   "source": [
    "unis_with_names['type_breakdown'] = unis_with_names['rev'].apply(breakdownCounter)\n",
    "\n",
    "plotBreakdown(unis_with_names['type_breakdown'].tolist())"
   ]
  },
  {
   "cell_type": "markdown",
   "metadata": {},
   "source": [
    "Get the breakdown for a required subset:"
   ]
  },
  {
   "cell_type": "code",
   "execution_count": 102,
   "metadata": {},
   "outputs": [],
   "source": [
    "def uniSubsetBreakdown(ls_ids):\n",
    "    uni_subset = unis_with_names[unis_with_names['ls_id'].isin(ls_ids)].copy()  # create the subset\n",
    "    \n",
    "    uni_subset['type_breakdown'] = uni_subset['rev'].apply(breakdownCounter)\n",
    "    \n",
    "    plotBreakdown(uni_subset['type_breakdown'].tolist())"
   ]
  },
  {
   "cell_type": "code",
   "execution_count": 103,
   "metadata": {},
   "outputs": [
    {
     "name": "stdout",
     "output_type": "stream",
     "text": [
      "Counter({'Business Person': 43,\n",
      "         'Lawyer': 5,\n",
      "         'Political Candidate': 5,\n",
      "         'Public Official': 4,\n",
      "         'Elected Representative': 4,\n",
      "         'Academic': 3,\n",
      "         'Media Personality': 2})\n"
     ]
    },
    {
     "data": {
      "image/png": "[encoded data removed]",
      "text/plain": [
       "<Figure size 432x288 with 1 Axes>"
      ]
     },
     "metadata": {
      "needs_background": "light"
     },
     "output_type": "display_data"
    }
   ],
   "source": [
    "subset_ls_ids = [14931, 15367]  # Johns Hopkins, Northeastern\n",
    "\n",
    "uniSubsetBreakdown(subset_ls_ids)"
   ]
  }
 ],
 "metadata": {
  "kernelspec": {
   "display_name": "Python 3",
   "language": "python",
   "name": "python3"
  },
  "language_info": {
   "codemirror_mode": {
    "name": "ipython",
    "version": 3
   },
   "file_extension": ".py",
   "mimetype": "text/x-python",
   "name": "python",
   "nbconvert_exporter": "python",
   "pygments_lexer": "ipython3",
   "version": "3.8.2"
  }
 },
 "nbformat": 4,
 "nbformat_minor": 4
}
