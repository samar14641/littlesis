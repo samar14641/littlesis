{
 "cells": [
  {
   "cell_type": "code",
   "execution_count": 1,
   "metadata": {},
   "outputs": [],
   "source": [
    "# import matplotlib.pyplot as plt\n",
    "import networkx as nx\n",
    "import os\n",
    "import pandas as pd\n",
    "import pickle"
   ]
  },
  {
   "cell_type": "code",
   "execution_count": 2,
   "metadata": {},
   "outputs": [],
   "source": [
    "data_path = os.getcwd() + '/Pickle/all_rels.pkl'"
   ]
  },
  {
   "cell_type": "code",
   "execution_count": 3,
   "metadata": {},
   "outputs": [],
   "source": [
    "df = pd.read_pickle(data_path)"
   ]
  },
  {
   "cell_type": "code",
   "execution_count": 4,
   "metadata": {},
   "outputs": [
    {
     "data": {
      "text/html": [
       "<div>\n",
       "<style scoped>\n",
       "    .dataframe tbody tr th:only-of-type {\n",
       "        vertical-align: middle;\n",
       "    }\n",
       "\n",
       "    .dataframe tbody tr th {\n",
       "        vertical-align: top;\n",
       "    }\n",
       "\n",
       "    .dataframe thead th {\n",
       "        text-align: right;\n",
       "    }\n",
       "</style>\n",
       "<table border=\"1\" class=\"dataframe\">\n",
       "  <thead>\n",
       "    <tr style=\"text-align: right;\">\n",
       "      <th></th>\n",
       "      <th>category_id</th>\n",
       "      <th>description2</th>\n",
       "      <th>id</th>\n",
       "      <th>description</th>\n",
       "      <th>entity1_id</th>\n",
       "      <th>is_current</th>\n",
       "      <th>updated_at</th>\n",
       "      <th>entity2_id</th>\n",
       "      <th>currency</th>\n",
       "      <th>start_date</th>\n",
       "      <th>amount</th>\n",
       "      <th>goods</th>\n",
       "      <th>description1</th>\n",
       "      <th>end_date</th>\n",
       "      <th>filings</th>\n",
       "    </tr>\n",
       "  </thead>\n",
       "  <tbody>\n",
       "    <tr>\n",
       "      <th>1</th>\n",
       "      <td>1</td>\n",
       "      <td>Director</td>\n",
       "      <td>1</td>\n",
       "      <td>Allen I Questrom  had a position (Director) at...</td>\n",
       "      <td>1006</td>\n",
       "      <td>False</td>\n",
       "      <td>2011-03-13T20:15:59Z</td>\n",
       "      <td>1</td>\n",
       "      <td>None</td>\n",
       "      <td>2007-00-00</td>\n",
       "      <td>NaN</td>\n",
       "      <td>None</td>\n",
       "      <td>Director</td>\n",
       "      <td>2010-06-00</td>\n",
       "      <td>NaN</td>\n",
       "    </tr>\n",
       "    <tr>\n",
       "      <th>2</th>\n",
       "      <td>1</td>\n",
       "      <td>Director</td>\n",
       "      <td>2</td>\n",
       "      <td>Linda S Wolf  has a position (Director) at  Wa...</td>\n",
       "      <td>1007</td>\n",
       "      <td>True</td>\n",
       "      <td>2008-11-05T17:05:10Z</td>\n",
       "      <td>1</td>\n",
       "      <td>None</td>\n",
       "      <td>2005-00-00</td>\n",
       "      <td>NaN</td>\n",
       "      <td>None</td>\n",
       "      <td>Director</td>\n",
       "      <td>None</td>\n",
       "      <td>NaN</td>\n",
       "    </tr>\n",
       "    <tr>\n",
       "      <th>3</th>\n",
       "      <td>1</td>\n",
       "      <td>Director</td>\n",
       "      <td>3</td>\n",
       "      <td>Aida M Alvarez  had a position (Director) at  ...</td>\n",
       "      <td>1008</td>\n",
       "      <td>False</td>\n",
       "      <td>2018-04-23T14:25:16Z</td>\n",
       "      <td>1</td>\n",
       "      <td>None</td>\n",
       "      <td>None</td>\n",
       "      <td>NaN</td>\n",
       "      <td>None</td>\n",
       "      <td>Director</td>\n",
       "      <td>2015-00-00</td>\n",
       "      <td>NaN</td>\n",
       "    </tr>\n",
       "    <tr>\n",
       "      <th>4</th>\n",
       "      <td>1</td>\n",
       "      <td>Chairman</td>\n",
       "      <td>4</td>\n",
       "      <td>Gregory Boyd Penner  has/had a position (Vice ...</td>\n",
       "      <td>1009</td>\n",
       "      <td>None</td>\n",
       "      <td>2018-04-23T14:54:35Z</td>\n",
       "      <td>1</td>\n",
       "      <td>None</td>\n",
       "      <td>None</td>\n",
       "      <td>NaN</td>\n",
       "      <td>None</td>\n",
       "      <td>Vice Chairman</td>\n",
       "      <td>None</td>\n",
       "      <td>NaN</td>\n",
       "    </tr>\n",
       "    <tr>\n",
       "      <th>6</th>\n",
       "      <td>1</td>\n",
       "      <td>Director</td>\n",
       "      <td>6</td>\n",
       "      <td>Christopher J Williams  had a position (Direct...</td>\n",
       "      <td>1011</td>\n",
       "      <td>False</td>\n",
       "      <td>2015-03-31T14:56:50Z</td>\n",
       "      <td>1</td>\n",
       "      <td>None</td>\n",
       "      <td>2004-00-00</td>\n",
       "      <td>NaN</td>\n",
       "      <td>None</td>\n",
       "      <td>Director</td>\n",
       "      <td>None</td>\n",
       "      <td>NaN</td>\n",
       "    </tr>\n",
       "  </tbody>\n",
       "</table>\n",
       "</div>"
      ],
      "text/plain": [
       "   category_id description2  id  \\\n",
       "1            1     Director   1   \n",
       "2            1     Director   2   \n",
       "3            1     Director   3   \n",
       "4            1     Chairman   4   \n",
       "6            1     Director   6   \n",
       "\n",
       "                                         description  entity1_id is_current  \\\n",
       "1  Allen I Questrom  had a position (Director) at...        1006      False   \n",
       "2  Linda S Wolf  has a position (Director) at  Wa...        1007       True   \n",
       "3  Aida M Alvarez  had a position (Director) at  ...        1008      False   \n",
       "4  Gregory Boyd Penner  has/had a position (Vice ...        1009       None   \n",
       "6  Christopher J Williams  had a position (Direct...        1011      False   \n",
       "\n",
       "             updated_at  entity2_id currency  start_date  amount goods  \\\n",
       "1  2011-03-13T20:15:59Z           1     None  2007-00-00     NaN  None   \n",
       "2  2008-11-05T17:05:10Z           1     None  2005-00-00     NaN  None   \n",
       "3  2018-04-23T14:25:16Z           1     None        None     NaN  None   \n",
       "4  2018-04-23T14:54:35Z           1     None        None     NaN  None   \n",
       "6  2015-03-31T14:56:50Z           1     None  2004-00-00     NaN  None   \n",
       "\n",
       "    description1    end_date  filings  \n",
       "1       Director  2010-06-00      NaN  \n",
       "2       Director        None      NaN  \n",
       "3       Director  2015-00-00      NaN  \n",
       "4  Vice Chairman        None      NaN  \n",
       "6       Director        None      NaN  "
      ]
     },
     "execution_count": 4,
     "metadata": {},
     "output_type": "execute_result"
    }
   ],
   "source": [
    "df.head()"
   ]
  },
  {
   "cell_type": "code",
   "execution_count": 5,
   "metadata": {},
   "outputs": [
    {
     "data": {
      "text/plain": [
       "Index(['category_id', 'description2', 'id', 'description', 'entity1_id',\n",
       "       'is_current', 'updated_at', 'entity2_id', 'currency', 'start_date',\n",
       "       'amount', 'goods', 'description1', 'end_date', 'filings'],\n",
       "      dtype='object')"
      ]
     },
     "execution_count": 5,
     "metadata": {},
     "output_type": "execute_result"
    }
   ],
   "source": [
    "df.columns"
   ]
  },
  {
   "cell_type": "markdown",
   "metadata": {},
   "source": [
    "category_id possible values:\n",
    "1. Position\n",
    "2. Education\n",
    "3. Membership\n",
    "4. Family\n",
    "5. Donation\n",
    "6. Transaction\n",
    "7. Lobbying\n",
    "8. Social\n",
    "9. Professional\n",
    "10. Ownership\n",
    "11. Hierarchy\n",
    "12. Generic"
   ]
  },
  {
   "cell_type": "code",
   "execution_count": 6,
   "metadata": {},
   "outputs": [
    {
     "data": {
      "text/plain": [
       "5     835757\n",
       "1     245885\n",
       "2      28760\n",
       "3      27696\n",
       "4      22266\n",
       "6      21324\n",
       "12     15556\n",
       "11     11828\n",
       "10     11775\n",
       "7       6162\n",
       "9       2244\n",
       "8       1562\n",
       "Name: category_id, dtype: int64"
      ]
     },
     "execution_count": 6,
     "metadata": {},
     "output_type": "execute_result"
    }
   ],
   "source": [
    "df['category_id'].value_counts()"
   ]
  },
  {
   "cell_type": "code",
   "execution_count": 7,
   "metadata": {},
   "outputs": [],
   "source": [
    "def createGraphSingular(data, cat_id):\n",
    "    subset_df = data[data['category_id'] == cat_id]\n",
    "    g = nx.from_pandas_edgelist(subset_df, 'entity1_id', 'entity2_id', ['category_id', 'description', 'updated_at'])\n",
    "    return g"
   ]
  },
  {
   "cell_type": "code",
   "execution_count": 8,
   "metadata": {},
   "outputs": [],
   "source": [
    "G = createGraphSingular(df, 8)"
   ]
  },
  {
   "cell_type": "code",
   "execution_count": 9,
   "metadata": {},
   "outputs": [
    {
     "data": {
      "text/plain": [
       "AtlasView({33448: {'category_id': 8, 'description': 'Eric H Holder Jr  and  Ann Walker Marchant  have/had a social relationship', 'updated_at': '2008-12-06T16:30:54Z'}, 37784: {'category_id': 8, 'description': 'James M Cole  and  Eric H Holder Jr  are longtime friends', 'updated_at': '2009-03-27T08:57:29Z'}})"
      ]
     },
     "execution_count": 9,
     "metadata": {},
     "output_type": "execute_result"
    }
   ],
   "source": [
    "G[28664]"
   ]
  },
  {
   "cell_type": "code",
   "execution_count": 10,
   "metadata": {},
   "outputs": [
    {
     "name": "stdout",
     "output_type": "stream",
     "text": [
      "[[28664, 33448]]\n"
     ]
    }
   ],
   "source": [
    "path = nx.all_simple_paths(G, source = 28664, target = 33448)\n",
    "print(list(path))"
   ]
  }
 ],
 "metadata": {
  "kernelspec": {
   "display_name": "Python 3",
   "language": "python",
   "name": "python3"
  },
  "language_info": {
   "codemirror_mode": {
    "name": "ipython",
    "version": 3
   },
   "file_extension": ".py",
   "mimetype": "text/x-python",
   "name": "python",
   "nbconvert_exporter": "python",
   "pygments_lexer": "ipython3",
   "version": "3.8.2"
  }
 },
 "nbformat": 4,
 "nbformat_minor": 4
}
