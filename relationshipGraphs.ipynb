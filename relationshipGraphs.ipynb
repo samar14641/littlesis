{
 "cells": [
  {
   "cell_type": "code",
   "execution_count": 1,
   "metadata": {},
   "outputs": [],
   "source": [
    "# import collections\n",
    "import matplotlib.pyplot as plt\n",
    "import networkx as nx\n",
    "import numpy as np\n",
    "import os\n",
    "import pandas as pd\n",
    "import pickle\n",
    "\n",
    "from pprint import pprint"
   ]
  },
  {
   "cell_type": "code",
   "execution_count": 2,
   "metadata": {},
   "outputs": [],
   "source": [
    "data_path = os.getcwd() + '/Pickle/'"
   ]
  },
  {
   "cell_type": "code",
   "execution_count": 3,
   "metadata": {},
   "outputs": [
    {
     "data": {
      "text/html": [
       "<div>\n",
       "<style scoped>\n",
       "    .dataframe tbody tr th:only-of-type {\n",
       "        vertical-align: middle;\n",
       "    }\n",
       "\n",
       "    .dataframe tbody tr th {\n",
       "        vertical-align: top;\n",
       "    }\n",
       "\n",
       "    .dataframe thead th {\n",
       "        text-align: right;\n",
       "    }\n",
       "</style>\n",
       "<table border=\"1\" class=\"dataframe\">\n",
       "  <thead>\n",
       "    <tr style=\"text-align: right;\">\n",
       "      <th></th>\n",
       "      <th>category_id</th>\n",
       "      <th>description2</th>\n",
       "      <th>id</th>\n",
       "      <th>description</th>\n",
       "      <th>entity1_id</th>\n",
       "      <th>is_current</th>\n",
       "      <th>updated_at</th>\n",
       "      <th>entity2_id</th>\n",
       "      <th>currency</th>\n",
       "      <th>start_date</th>\n",
       "      <th>amount</th>\n",
       "      <th>goods</th>\n",
       "      <th>description1</th>\n",
       "      <th>end_date</th>\n",
       "      <th>filings</th>\n",
       "    </tr>\n",
       "  </thead>\n",
       "  <tbody>\n",
       "    <tr>\n",
       "      <th>1</th>\n",
       "      <td>1</td>\n",
       "      <td>Director</td>\n",
       "      <td>1</td>\n",
       "      <td>Allen I Questrom  had a position (Director) at...</td>\n",
       "      <td>1006</td>\n",
       "      <td>False</td>\n",
       "      <td>2011-03-13T20:15:59Z</td>\n",
       "      <td>1</td>\n",
       "      <td>None</td>\n",
       "      <td>2007-00-00</td>\n",
       "      <td>NaN</td>\n",
       "      <td>None</td>\n",
       "      <td>Director</td>\n",
       "      <td>2010-06-00</td>\n",
       "      <td>NaN</td>\n",
       "    </tr>\n",
       "    <tr>\n",
       "      <th>2</th>\n",
       "      <td>1</td>\n",
       "      <td>Director</td>\n",
       "      <td>2</td>\n",
       "      <td>Linda S Wolf  has a position (Director) at  Wa...</td>\n",
       "      <td>1007</td>\n",
       "      <td>True</td>\n",
       "      <td>2008-11-05T17:05:10Z</td>\n",
       "      <td>1</td>\n",
       "      <td>None</td>\n",
       "      <td>2005-00-00</td>\n",
       "      <td>NaN</td>\n",
       "      <td>None</td>\n",
       "      <td>Director</td>\n",
       "      <td>None</td>\n",
       "      <td>NaN</td>\n",
       "    </tr>\n",
       "    <tr>\n",
       "      <th>3</th>\n",
       "      <td>1</td>\n",
       "      <td>Director</td>\n",
       "      <td>3</td>\n",
       "      <td>Aida M Alvarez  had a position (Director) at  ...</td>\n",
       "      <td>1008</td>\n",
       "      <td>False</td>\n",
       "      <td>2018-04-23T14:25:16Z</td>\n",
       "      <td>1</td>\n",
       "      <td>None</td>\n",
       "      <td>None</td>\n",
       "      <td>NaN</td>\n",
       "      <td>None</td>\n",
       "      <td>Director</td>\n",
       "      <td>2015-00-00</td>\n",
       "      <td>NaN</td>\n",
       "    </tr>\n",
       "    <tr>\n",
       "      <th>4</th>\n",
       "      <td>1</td>\n",
       "      <td>Chairman</td>\n",
       "      <td>4</td>\n",
       "      <td>Gregory Boyd Penner  has/had a position (Vice ...</td>\n",
       "      <td>1009</td>\n",
       "      <td>None</td>\n",
       "      <td>2018-04-23T14:54:35Z</td>\n",
       "      <td>1</td>\n",
       "      <td>None</td>\n",
       "      <td>None</td>\n",
       "      <td>NaN</td>\n",
       "      <td>None</td>\n",
       "      <td>Vice Chairman</td>\n",
       "      <td>None</td>\n",
       "      <td>NaN</td>\n",
       "    </tr>\n",
       "    <tr>\n",
       "      <th>6</th>\n",
       "      <td>1</td>\n",
       "      <td>Director</td>\n",
       "      <td>6</td>\n",
       "      <td>Christopher J Williams  had a position (Direct...</td>\n",
       "      <td>1011</td>\n",
       "      <td>False</td>\n",
       "      <td>2015-03-31T14:56:50Z</td>\n",
       "      <td>1</td>\n",
       "      <td>None</td>\n",
       "      <td>2004-00-00</td>\n",
       "      <td>NaN</td>\n",
       "      <td>None</td>\n",
       "      <td>Director</td>\n",
       "      <td>None</td>\n",
       "      <td>NaN</td>\n",
       "    </tr>\n",
       "  </tbody>\n",
       "</table>\n",
       "</div>"
      ],
      "text/plain": [
       "   category_id description2  id  \\\n",
       "1            1     Director   1   \n",
       "2            1     Director   2   \n",
       "3            1     Director   3   \n",
       "4            1     Chairman   4   \n",
       "6            1     Director   6   \n",
       "\n",
       "                                         description  entity1_id is_current  \\\n",
       "1  Allen I Questrom  had a position (Director) at...        1006      False   \n",
       "2  Linda S Wolf  has a position (Director) at  Wa...        1007       True   \n",
       "3  Aida M Alvarez  had a position (Director) at  ...        1008      False   \n",
       "4  Gregory Boyd Penner  has/had a position (Vice ...        1009       None   \n",
       "6  Christopher J Williams  had a position (Direct...        1011      False   \n",
       "\n",
       "             updated_at  entity2_id currency  start_date  amount goods  \\\n",
       "1  2011-03-13T20:15:59Z           1     None  2007-00-00     NaN  None   \n",
       "2  2008-11-05T17:05:10Z           1     None  2005-00-00     NaN  None   \n",
       "3  2018-04-23T14:25:16Z           1     None        None     NaN  None   \n",
       "4  2018-04-23T14:54:35Z           1     None        None     NaN  None   \n",
       "6  2015-03-31T14:56:50Z           1     None  2004-00-00     NaN  None   \n",
       "\n",
       "    description1    end_date  filings  \n",
       "1       Director  2010-06-00      NaN  \n",
       "2       Director        None      NaN  \n",
       "3       Director  2015-00-00      NaN  \n",
       "4  Vice Chairman        None      NaN  \n",
       "6       Director        None      NaN  "
      ]
     },
     "execution_count": 3,
     "metadata": {},
     "output_type": "execute_result"
    }
   ],
   "source": [
    "rels = pd.read_pickle(data_path + 'all_rels.pkl')  # read relationships\n",
    "rels.head()"
   ]
  },
  {
   "cell_type": "code",
   "execution_count": 4,
   "metadata": {},
   "outputs": [
    {
     "data": {
      "text/plain": [
       "(1230815, 15)"
      ]
     },
     "execution_count": 4,
     "metadata": {},
     "output_type": "execute_result"
    }
   ],
   "source": [
    "rels.shape"
   ]
  },
  {
   "cell_type": "markdown",
   "metadata": {},
   "source": [
    "category_id possible values:\n",
    "1. Position\n",
    "2. Education\n",
    "3. Membership\n",
    "4. Family\n",
    "5. Donation\n",
    "6. Transaction\n",
    "7. Lobbying\n",
    "8. Social\n",
    "9. Professional\n",
    "10. Ownership\n",
    "11. Hierarchy\n",
    "12. Generic"
   ]
  },
  {
   "cell_type": "code",
   "execution_count": 5,
   "metadata": {},
   "outputs": [
    {
     "data": {
      "text/html": [
       "<div>\n",
       "<style scoped>\n",
       "    .dataframe tbody tr th:only-of-type {\n",
       "        vertical-align: middle;\n",
       "    }\n",
       "\n",
       "    .dataframe tbody tr th {\n",
       "        vertical-align: top;\n",
       "    }\n",
       "\n",
       "    .dataframe thead th {\n",
       "        text-align: right;\n",
       "    }\n",
       "</style>\n",
       "<table border=\"1\" class=\"dataframe\">\n",
       "  <thead>\n",
       "    <tr style=\"text-align: right;\">\n",
       "      <th></th>\n",
       "      <th>summary</th>\n",
       "      <th>parent_id</th>\n",
       "      <th>extensions</th>\n",
       "      <th>website</th>\n",
       "      <th>name</th>\n",
       "      <th>primary_ext</th>\n",
       "      <th>aliases</th>\n",
       "      <th>blurb</th>\n",
       "      <th>types</th>\n",
       "      <th>updated_at</th>\n",
       "      <th>id</th>\n",
       "      <th>start_date</th>\n",
       "      <th>end_date</th>\n",
       "    </tr>\n",
       "  </thead>\n",
       "  <tbody>\n",
       "    <tr>\n",
       "      <th>1</th>\n",
       "      <td>None</td>\n",
       "      <td>NaN</td>\n",
       "      <td>{'Org': {'name_nick': 'WAL-MART', 'name': 'Wal...</td>\n",
       "      <td>www.corporate.walmart.com</td>\n",
       "      <td>Walmart</td>\n",
       "      <td>Org</td>\n",
       "      <td>[IRS EIN 71-0415188, Wal Mart, Wal-Mart, Wal-M...</td>\n",
       "      <td>Retail merchandising</td>\n",
       "      <td>[Organization, Business, Public Company]</td>\n",
       "      <td>2020-06-30T20:47:43Z</td>\n",
       "      <td>1</td>\n",
       "      <td>None</td>\n",
       "      <td>None</td>\n",
       "    </tr>\n",
       "    <tr>\n",
       "      <th>2</th>\n",
       "      <td>None</td>\n",
       "      <td>NaN</td>\n",
       "      <td>{'Org': {'name_nick': 'EXXONMOBIL', 'name': 'E...</td>\n",
       "      <td>http://www.exxonmobil.com</td>\n",
       "      <td>ExxonMobil</td>\n",
       "      <td>Org</td>\n",
       "      <td>[Exxon Corporation, Exxon Mobil, Exxon Mobil C...</td>\n",
       "      <td>Oil and gas exploration, production, and marke...</td>\n",
       "      <td>[Organization, Business, Public Company]</td>\n",
       "      <td>2020-07-14T02:29:21Z</td>\n",
       "      <td>2</td>\n",
       "      <td>1882-00-00</td>\n",
       "      <td>None</td>\n",
       "    </tr>\n",
       "    <tr>\n",
       "      <th>3</th>\n",
       "      <td>None</td>\n",
       "      <td>NaN</td>\n",
       "      <td>{'Org': {'name_nick': 'CHEVRON', 'name': 'Chev...</td>\n",
       "      <td>www.chevron.com</td>\n",
       "      <td>Chevron</td>\n",
       "      <td>Org</td>\n",
       "      <td>[Chevron, Chevron Corporation, ChevronTexaco, ...</td>\n",
       "      <td>Energy Company</td>\n",
       "      <td>[Organization, Business, Public Company]</td>\n",
       "      <td>2020-07-14T02:27:36Z</td>\n",
       "      <td>3</td>\n",
       "      <td>None</td>\n",
       "      <td>None</td>\n",
       "    </tr>\n",
       "    <tr>\n",
       "      <th>4</th>\n",
       "      <td>None</td>\n",
       "      <td>NaN</td>\n",
       "      <td>{'Org': {'name_nick': 'GEN-MOTOR', 'name': 'Ge...</td>\n",
       "      <td>www.gm.com</td>\n",
       "      <td>General Motors Company</td>\n",
       "      <td>Org</td>\n",
       "      <td>[General Motors, General Motors Company, Gener...</td>\n",
       "      <td>automobile manufacturer</td>\n",
       "      <td>[Organization, Business, Public Company]</td>\n",
       "      <td>2020-06-16T01:28:05Z</td>\n",
       "      <td>4</td>\n",
       "      <td>1908-00-00</td>\n",
       "      <td>2011-03-31</td>\n",
       "    </tr>\n",
       "    <tr>\n",
       "      <th>5</th>\n",
       "      <td>None</td>\n",
       "      <td>NaN</td>\n",
       "      <td>{'Org': {'name_nick': 'CONOCOPHIL', 'name': 'C...</td>\n",
       "      <td>http://www.conocophillips.com/</td>\n",
       "      <td>ConocoPhillips</td>\n",
       "      <td>Org</td>\n",
       "      <td>[Conoco Inc., ConocoPhillips, ConocoPhillips H...</td>\n",
       "      <td>Texas-based oil and gas corporation</td>\n",
       "      <td>[Organization, Business, Public Company]</td>\n",
       "      <td>2020-06-11T14:26:07Z</td>\n",
       "      <td>5</td>\n",
       "      <td>None</td>\n",
       "      <td>None</td>\n",
       "    </tr>\n",
       "  </tbody>\n",
       "</table>\n",
       "</div>"
      ],
      "text/plain": [
       "  summary  parent_id                                         extensions  \\\n",
       "1    None        NaN  {'Org': {'name_nick': 'WAL-MART', 'name': 'Wal...   \n",
       "2    None        NaN  {'Org': {'name_nick': 'EXXONMOBIL', 'name': 'E...   \n",
       "3    None        NaN  {'Org': {'name_nick': 'CHEVRON', 'name': 'Chev...   \n",
       "4    None        NaN  {'Org': {'name_nick': 'GEN-MOTOR', 'name': 'Ge...   \n",
       "5    None        NaN  {'Org': {'name_nick': 'CONOCOPHIL', 'name': 'C...   \n",
       "\n",
       "                          website                    name primary_ext  \\\n",
       "1       www.corporate.walmart.com                 Walmart         Org   \n",
       "2       http://www.exxonmobil.com              ExxonMobil         Org   \n",
       "3                 www.chevron.com                 Chevron         Org   \n",
       "4                      www.gm.com  General Motors Company         Org   \n",
       "5  http://www.conocophillips.com/          ConocoPhillips         Org   \n",
       "\n",
       "                                             aliases  \\\n",
       "1  [IRS EIN 71-0415188, Wal Mart, Wal-Mart, Wal-M...   \n",
       "2  [Exxon Corporation, Exxon Mobil, Exxon Mobil C...   \n",
       "3  [Chevron, Chevron Corporation, ChevronTexaco, ...   \n",
       "4  [General Motors, General Motors Company, Gener...   \n",
       "5  [Conoco Inc., ConocoPhillips, ConocoPhillips H...   \n",
       "\n",
       "                                               blurb  \\\n",
       "1                               Retail merchandising   \n",
       "2  Oil and gas exploration, production, and marke...   \n",
       "3                                     Energy Company   \n",
       "4                            automobile manufacturer   \n",
       "5                Texas-based oil and gas corporation   \n",
       "\n",
       "                                      types            updated_at  id  \\\n",
       "1  [Organization, Business, Public Company]  2020-06-30T20:47:43Z   1   \n",
       "2  [Organization, Business, Public Company]  2020-07-14T02:29:21Z   2   \n",
       "3  [Organization, Business, Public Company]  2020-07-14T02:27:36Z   3   \n",
       "4  [Organization, Business, Public Company]  2020-06-16T01:28:05Z   4   \n",
       "5  [Organization, Business, Public Company]  2020-06-11T14:26:07Z   5   \n",
       "\n",
       "   start_date    end_date  \n",
       "1        None        None  \n",
       "2  1882-00-00        None  \n",
       "3        None        None  \n",
       "4  1908-00-00  2011-03-31  \n",
       "5        None        None  "
      ]
     },
     "execution_count": 5,
     "metadata": {},
     "output_type": "execute_result"
    }
   ],
   "source": [
    "ents = pd.read_pickle(data_path + 'all_entities.pkl')  # read entities\n",
    "ents.head()  # index corresponds to entity ID"
   ]
  },
  {
   "cell_type": "code",
   "execution_count": 6,
   "metadata": {},
   "outputs": [
    {
     "data": {
      "text/plain": [
       "(284500, 13)"
      ]
     },
     "execution_count": 6,
     "metadata": {},
     "output_type": "execute_result"
    }
   ],
   "source": [
    "ents.shape"
   ]
  },
  {
   "cell_type": "code",
   "execution_count": 7,
   "metadata": {},
   "outputs": [],
   "source": [
    "# ents.loc['186417', :]"
   ]
  },
  {
   "cell_type": "code",
   "execution_count": 8,
   "metadata": {},
   "outputs": [],
   "source": [
    "# ents[ents['primary_ext'] == 'Couple']"
   ]
  },
  {
   "cell_type": "code",
   "execution_count": 9,
   "metadata": {},
   "outputs": [],
   "source": [
    "# types = ents.explode('types')['types'].unique()"
   ]
  },
  {
   "cell_type": "markdown",
   "metadata": {},
   "source": [
    "All values for entity types:\n",
    "\n",
    "'Academic',\n",
    "'Academic Research Institute',\n",
    "'Business',\n",
    "'Business Person',\n",
    "'Consulting Firm',\n",
    "'Couple',\n",
    "'Cultural/Arts',\n",
    "'Elected Representative',\n",
    "'Elite Consensus Group',\n",
    "'Government Advisory Body',\n",
    "'Government Body',\n",
    "'Government-Sponsored Enterprise',\n",
    "'Individual Campaign Committee',\n",
    "'Industry/Trade Association',\n",
    "'Labor Union',\n",
    "'Law Firm',\n",
    "'Lawyer',\n",
    "'Lobbying Firm',\n",
    "'Lobbyist',\n",
    "'Media Organization',\n",
    "'Media Personality',\n",
    "'Membership Organization',\n",
    "'Organization',\n",
    "'Other Campaign Committee',\n",
    "'Other Not-for-Profit',\n",
    "'PAC',\n",
    "'Person',\n",
    "'Philanthropy',\n",
    "'Policy/Think Tank',\n",
    "'Political Candidate',\n",
    "'Political Fundraising Committee',\n",
    "'Political Party',\n",
    "'Private Company',\n",
    "'Professional Association',\n",
    "'Public Company',\n",
    "'Public Intellectual',\n",
    "'Public Official',\n",
    "'Public Relations Firm',\n",
    "'School',\n",
    "'Social Club'"
   ]
  },
  {
   "cell_type": "code",
   "execution_count": 10,
   "metadata": {},
   "outputs": [],
   "source": [
    "def eda():\n",
    "    print('Primary type breakdown for entities:')\n",
    "    print(ents['primary_ext'].value_counts())\n",
    "    print('-' * 15)\n",
    "    \n",
    "    print('Specific type breakdown for entities:')\n",
    "    eda_df = ents.explode('types')\n",
    "    print(eda_df['types'].value_counts())\n",
    "    print('-' * 15)\n",
    "    \n",
    "    cats = pd.Series(['Position', 'Education', 'Membership', 'Family', 'Donation', 'Transaction', 'Lobbying', 'Social', 'Professional', 'Ownership', 'Hierarchy', 'Generic'], index = range(1, 13))\n",
    "    eda_df = pd.concat([rels['category_id'].value_counts(), cats], axis = 1)\n",
    "    eda_df = eda_df.rename(columns = {'category_id': 'count', 0: 'category'})\n",
    "    eda_df = eda_df.sort_values(by = 'count', ascending = False)\n",
    "    print('Relationship category breakdown:')\n",
    "    print(eda_df)\n",
    "# #     plt.barh(eda_df['category'], (eda_df['count'] / rels.shape[0]) * 100, color = '#9433ff')\n",
    "#     plt.barh(eda_df['category'], eda_df['count'] / 1000, color = '#9433ff')\n",
    "#     plt.title('Breakdown of Relationships')\n",
    "#     plt.xlabel('Number of Relationships (x1000s)')\n",
    "#     plt.show()\n",
    "#     plt.close()\n",
    "    print('-' * 15)"
   ]
  },
  {
   "cell_type": "code",
   "execution_count": 11,
   "metadata": {},
   "outputs": [
    {
     "name": "stdout",
     "output_type": "stream",
     "text": [
      "Primary type breakdown for entities:\n",
      "Person    205548\n",
      "Org        78526\n",
      "Couple       426\n",
      "Name: primary_ext, dtype: int64\n",
      "---------------\n",
      "Specific type breakdown for entities:\n",
      "Person                             205548\n",
      "Organization                        78526\n",
      "Business Person                     62995\n",
      "Business                            25436\n",
      "Political Fundraising Committee     14070\n",
      "Lobbyist                            11941\n",
      "Academic                             8892\n",
      "Political Candidate                  8376\n",
      "Lawyer                               7973\n",
      "Public Official                      7211\n",
      "Private Company                      5862\n",
      "Elected Representative               4468\n",
      "Government Body                      3598\n",
      "Other Not-for-Profit                 3335\n",
      "School                               3243\n",
      "Media Personality                    3021\n",
      "Public Company                       2742\n",
      "Individual Campaign Committee        2082\n",
      "Philanthropy                         1805\n",
      "Other Campaign Committee             1740\n",
      "Lobbying Firm                        1500\n",
      "Membership Organization              1216\n",
      "Law Firm                              837\n",
      "Industry/Trade Association            695\n",
      "Couple                                426\n",
      "Policy/Think Tank                     422\n",
      "PAC                                   382\n",
      "Consulting Firm                       318\n",
      "Public Intellectual                   272\n",
      "Political Party                       259\n",
      "Media Organization                    251\n",
      "Cultural/Arts                         239\n",
      "Labor Union                           181\n",
      "Government-Sponsored Enterprise       175\n",
      "Professional Association              149\n",
      "Social Club                           119\n",
      "Public Relations Firm                 108\n",
      "Government Advisory Body               74\n",
      "Academic Research Institute            62\n",
      "Elite Consensus Group                  39\n",
      "Name: types, dtype: int64\n",
      "---------------\n",
      "Relationship category breakdown:\n",
      "     count      category\n",
      "5   835757      Donation\n",
      "1   245885      Position\n",
      "2    28760     Education\n",
      "3    27696    Membership\n",
      "4    22266        Family\n",
      "6    21324   Transaction\n",
      "12   15556       Generic\n",
      "11   11828     Hierarchy\n",
      "10   11775     Ownership\n",
      "7     6162      Lobbying\n",
      "9     2244  Professional\n",
      "8     1562        Social\n",
      "---------------\n"
     ]
    }
   ],
   "source": [
    "eda()"
   ]
  },
  {
   "cell_type": "code",
   "execution_count": 12,
   "metadata": {},
   "outputs": [],
   "source": [
    "def filterByType(df):  # returns indices of rows that satisfy the filter by 'type' criterion\n",
    "    reqd_types = ['Philanthropy', 'Other Not-for-Profit', 'Academic Research Institute', 'School', 'Cultural/Arts', 'Policy/Think Tank']  # 'Academic' has been removed\n",
    "    \n",
    "    df_exploded = df.explode('types')\n",
    "    \n",
    "    return df_exploded[df_exploded['types'].isin(reqd_types)].index"
   ]
  },
  {
   "cell_type": "code",
   "execution_count": 13,
   "metadata": {},
   "outputs": [
    {
     "data": {
      "text/html": [
       "<div>\n",
       "<style scoped>\n",
       "    .dataframe tbody tr th:only-of-type {\n",
       "        vertical-align: middle;\n",
       "    }\n",
       "\n",
       "    .dataframe tbody tr th {\n",
       "        vertical-align: top;\n",
       "    }\n",
       "\n",
       "    .dataframe thead th {\n",
       "        text-align: right;\n",
       "    }\n",
       "</style>\n",
       "<table border=\"1\" class=\"dataframe\">\n",
       "  <thead>\n",
       "    <tr style=\"text-align: right;\">\n",
       "      <th></th>\n",
       "      <th>summary</th>\n",
       "      <th>parent_id</th>\n",
       "      <th>extensions</th>\n",
       "      <th>website</th>\n",
       "      <th>name</th>\n",
       "      <th>primary_ext</th>\n",
       "      <th>aliases</th>\n",
       "      <th>blurb</th>\n",
       "      <th>types</th>\n",
       "      <th>updated_at</th>\n",
       "      <th>id</th>\n",
       "      <th>start_date</th>\n",
       "      <th>end_date</th>\n",
       "    </tr>\n",
       "  </thead>\n",
       "  <tbody>\n",
       "    <tr>\n",
       "      <th>14713</th>\n",
       "      <td>None</td>\n",
       "      <td>14730.0</td>\n",
       "      <td>{'Org': {'name_nick': None, 'name': 'Harvard L...</td>\n",
       "      <td>http://www.law.harvard.edu</td>\n",
       "      <td>Harvard Law School</td>\n",
       "      <td>Org</td>\n",
       "      <td>[Harvard Law School, Harvard University Law Sc...</td>\n",
       "      <td>None</td>\n",
       "      <td>[Organization, School]</td>\n",
       "      <td>2020-07-12T23:23:57Z</td>\n",
       "      <td>14713</td>\n",
       "      <td>None</td>\n",
       "      <td>None</td>\n",
       "    </tr>\n",
       "    <tr>\n",
       "      <th>14730</th>\n",
       "      <td>None</td>\n",
       "      <td>NaN</td>\n",
       "      <td>{'Org': {'name_nick': None, 'name': 'Harvard U...</td>\n",
       "      <td>http://www.harvard.edu</td>\n",
       "      <td>Harvard University</td>\n",
       "      <td>Org</td>\n",
       "      <td>[Harvard College, Harvard Corporation, Harvard...</td>\n",
       "      <td>Elite private university located in Cambridge, MA</td>\n",
       "      <td>[Organization, School]</td>\n",
       "      <td>2020-07-12T23:50:00Z</td>\n",
       "      <td>14730</td>\n",
       "      <td>1636-00-00</td>\n",
       "      <td>None</td>\n",
       "    </tr>\n",
       "    <tr>\n",
       "      <th>14922</th>\n",
       "      <td>None</td>\n",
       "      <td>NaN</td>\n",
       "      <td>{'Org': {'name_nick': None, 'name': 'Universit...</td>\n",
       "      <td>None</td>\n",
       "      <td>University of Nebraska Lincoln</td>\n",
       "      <td>Org</td>\n",
       "      <td>[University of Nebraska - Lincoln, University ...</td>\n",
       "      <td>None</td>\n",
       "      <td>[Organization, School]</td>\n",
       "      <td>2019-12-13T19:33:21Z</td>\n",
       "      <td>14922</td>\n",
       "      <td>None</td>\n",
       "      <td>None</td>\n",
       "    </tr>\n",
       "    <tr>\n",
       "      <th>14924</th>\n",
       "      <td>Columbia University was founded in 1754 as Kin...</td>\n",
       "      <td>NaN</td>\n",
       "      <td>{'Org': {'name_nick': None, 'name': 'Columbia ...</td>\n",
       "      <td>http://www.columbia.edu/index.html</td>\n",
       "      <td>Columbia University</td>\n",
       "      <td>Org</td>\n",
       "      <td>[Columbia University, Columbia University in t...</td>\n",
       "      <td>Oldest institution of higher learning in the s...</td>\n",
       "      <td>[Organization, School]</td>\n",
       "      <td>2020-07-10T18:37:07Z</td>\n",
       "      <td>14924</td>\n",
       "      <td>1754-00-00</td>\n",
       "      <td>None</td>\n",
       "    </tr>\n",
       "    <tr>\n",
       "      <th>14925</th>\n",
       "      <td>None</td>\n",
       "      <td>NaN</td>\n",
       "      <td>{'Org': {'name_nick': None, 'name': 'Universit...</td>\n",
       "      <td>http://www.uillinois.edu/</td>\n",
       "      <td>University of Illinois</td>\n",
       "      <td>Org</td>\n",
       "      <td>[University of Illinois, University of Illinoi...</td>\n",
       "      <td>One of the original 37 public land-grant insti...</td>\n",
       "      <td>[Organization, School]</td>\n",
       "      <td>2020-05-04T14:54:31Z</td>\n",
       "      <td>14925</td>\n",
       "      <td>1867-00-00</td>\n",
       "      <td>None</td>\n",
       "    </tr>\n",
       "    <tr>\n",
       "      <th>...</th>\n",
       "      <td>...</td>\n",
       "      <td>...</td>\n",
       "      <td>...</td>\n",
       "      <td>...</td>\n",
       "      <td>...</td>\n",
       "      <td>...</td>\n",
       "      <td>...</td>\n",
       "      <td>...</td>\n",
       "      <td>...</td>\n",
       "      <td>...</td>\n",
       "      <td>...</td>\n",
       "      <td>...</td>\n",
       "      <td>...</td>\n",
       "    </tr>\n",
       "    <tr>\n",
       "      <th>380599</th>\n",
       "      <td>None</td>\n",
       "      <td>NaN</td>\n",
       "      <td>{'Org': {'name_nick': None, 'name': 'Passaic C...</td>\n",
       "      <td>None</td>\n",
       "      <td>Passaic Community College</td>\n",
       "      <td>Org</td>\n",
       "      <td>[Passaic Community College]</td>\n",
       "      <td>a New Jersey community college</td>\n",
       "      <td>[Organization, School]</td>\n",
       "      <td>2020-07-14T11:59:35Z</td>\n",
       "      <td>380599</td>\n",
       "      <td>None</td>\n",
       "      <td>None</td>\n",
       "    </tr>\n",
       "    <tr>\n",
       "      <th>380600</th>\n",
       "      <td>None</td>\n",
       "      <td>NaN</td>\n",
       "      <td>{'Org': {'name_nick': None, 'name': 'Friends S...</td>\n",
       "      <td>None</td>\n",
       "      <td>Friends Select School</td>\n",
       "      <td>Org</td>\n",
       "      <td>[Friends Select School]</td>\n",
       "      <td>a Philadelphia private school</td>\n",
       "      <td>[Organization, School]</td>\n",
       "      <td>2020-07-14T12:10:05Z</td>\n",
       "      <td>380600</td>\n",
       "      <td>None</td>\n",
       "      <td>None</td>\n",
       "    </tr>\n",
       "    <tr>\n",
       "      <th>380699</th>\n",
       "      <td>None</td>\n",
       "      <td>NaN</td>\n",
       "      <td>{'Org': {'name_nick': None, 'name': 'Living Be...</td>\n",
       "      <td>None</td>\n",
       "      <td>Living Beyond Breast Cancer</td>\n",
       "      <td>Org</td>\n",
       "      <td>[Living Beyond Breast Cancer]</td>\n",
       "      <td>provides support to those impacted by breast c...</td>\n",
       "      <td>[Organization, Other Not-for-Profit]</td>\n",
       "      <td>2020-07-14T20:21:48Z</td>\n",
       "      <td>380699</td>\n",
       "      <td>None</td>\n",
       "      <td>None</td>\n",
       "    </tr>\n",
       "    <tr>\n",
       "      <th>380714</th>\n",
       "      <td>None</td>\n",
       "      <td>NaN</td>\n",
       "      <td>{'Org': {'name_nick': None, 'name': 'Juvenile ...</td>\n",
       "      <td>None</td>\n",
       "      <td>Juvenile Law Center</td>\n",
       "      <td>Org</td>\n",
       "      <td>[Juvenile Law Center]</td>\n",
       "      <td>Juvenile Law Center, founded in 1975, is the f...</td>\n",
       "      <td>[Organization, Other Not-for-Profit]</td>\n",
       "      <td>2020-07-15T01:01:25Z</td>\n",
       "      <td>380714</td>\n",
       "      <td>None</td>\n",
       "      <td>None</td>\n",
       "    </tr>\n",
       "    <tr>\n",
       "      <th>380828</th>\n",
       "      <td>None</td>\n",
       "      <td>NaN</td>\n",
       "      <td>{'Org': {'name_nick': None, 'name': 'Better Co...</td>\n",
       "      <td>None</td>\n",
       "      <td>Better Cotton Initiative</td>\n",
       "      <td>Org</td>\n",
       "      <td>[Better Cotton Initiative]</td>\n",
       "      <td>Global not-for-profit organisation based in Ge...</td>\n",
       "      <td>[Organization, Other Not-for-Profit]</td>\n",
       "      <td>2020-07-15T20:41:10Z</td>\n",
       "      <td>380828</td>\n",
       "      <td>None</td>\n",
       "      <td>None</td>\n",
       "    </tr>\n",
       "  </tbody>\n",
       "</table>\n",
       "<p>9106 rows × 13 columns</p>\n",
       "</div>"
      ],
      "text/plain": [
       "                                                  summary  parent_id  \\\n",
       "14713                                                None    14730.0   \n",
       "14730                                                None        NaN   \n",
       "14922                                                None        NaN   \n",
       "14924   Columbia University was founded in 1754 as Kin...        NaN   \n",
       "14925                                                None        NaN   \n",
       "...                                                   ...        ...   \n",
       "380599                                               None        NaN   \n",
       "380600                                               None        NaN   \n",
       "380699                                               None        NaN   \n",
       "380714                                               None        NaN   \n",
       "380828                                               None        NaN   \n",
       "\n",
       "                                               extensions  \\\n",
       "14713   {'Org': {'name_nick': None, 'name': 'Harvard L...   \n",
       "14730   {'Org': {'name_nick': None, 'name': 'Harvard U...   \n",
       "14922   {'Org': {'name_nick': None, 'name': 'Universit...   \n",
       "14924   {'Org': {'name_nick': None, 'name': 'Columbia ...   \n",
       "14925   {'Org': {'name_nick': None, 'name': 'Universit...   \n",
       "...                                                   ...   \n",
       "380599  {'Org': {'name_nick': None, 'name': 'Passaic C...   \n",
       "380600  {'Org': {'name_nick': None, 'name': 'Friends S...   \n",
       "380699  {'Org': {'name_nick': None, 'name': 'Living Be...   \n",
       "380714  {'Org': {'name_nick': None, 'name': 'Juvenile ...   \n",
       "380828  {'Org': {'name_nick': None, 'name': 'Better Co...   \n",
       "\n",
       "                                   website                            name  \\\n",
       "14713           http://www.law.harvard.edu              Harvard Law School   \n",
       "14730               http://www.harvard.edu              Harvard University   \n",
       "14922                                 None  University of Nebraska Lincoln   \n",
       "14924   http://www.columbia.edu/index.html             Columbia University   \n",
       "14925            http://www.uillinois.edu/          University of Illinois   \n",
       "...                                    ...                             ...   \n",
       "380599                                None       Passaic Community College   \n",
       "380600                                None           Friends Select School   \n",
       "380699                                None     Living Beyond Breast Cancer   \n",
       "380714                                None             Juvenile Law Center   \n",
       "380828                                None        Better Cotton Initiative   \n",
       "\n",
       "       primary_ext                                            aliases  \\\n",
       "14713          Org  [Harvard Law School, Harvard University Law Sc...   \n",
       "14730          Org  [Harvard College, Harvard Corporation, Harvard...   \n",
       "14922          Org  [University of Nebraska - Lincoln, University ...   \n",
       "14924          Org  [Columbia University, Columbia University in t...   \n",
       "14925          Org  [University of Illinois, University of Illinoi...   \n",
       "...            ...                                                ...   \n",
       "380599         Org                        [Passaic Community College]   \n",
       "380600         Org                            [Friends Select School]   \n",
       "380699         Org                      [Living Beyond Breast Cancer]   \n",
       "380714         Org                              [Juvenile Law Center]   \n",
       "380828         Org                         [Better Cotton Initiative]   \n",
       "\n",
       "                                                    blurb  \\\n",
       "14713                                                None   \n",
       "14730   Elite private university located in Cambridge, MA   \n",
       "14922                                                None   \n",
       "14924   Oldest institution of higher learning in the s...   \n",
       "14925   One of the original 37 public land-grant insti...   \n",
       "...                                                   ...   \n",
       "380599                     a New Jersey community college   \n",
       "380600                      a Philadelphia private school   \n",
       "380699  provides support to those impacted by breast c...   \n",
       "380714  Juvenile Law Center, founded in 1975, is the f...   \n",
       "380828  Global not-for-profit organisation based in Ge...   \n",
       "\n",
       "                                       types            updated_at      id  \\\n",
       "14713                 [Organization, School]  2020-07-12T23:23:57Z   14713   \n",
       "14730                 [Organization, School]  2020-07-12T23:50:00Z   14730   \n",
       "14922                 [Organization, School]  2019-12-13T19:33:21Z   14922   \n",
       "14924                 [Organization, School]  2020-07-10T18:37:07Z   14924   \n",
       "14925                 [Organization, School]  2020-05-04T14:54:31Z   14925   \n",
       "...                                      ...                   ...     ...   \n",
       "380599                [Organization, School]  2020-07-14T11:59:35Z  380599   \n",
       "380600                [Organization, School]  2020-07-14T12:10:05Z  380600   \n",
       "380699  [Organization, Other Not-for-Profit]  2020-07-14T20:21:48Z  380699   \n",
       "380714  [Organization, Other Not-for-Profit]  2020-07-15T01:01:25Z  380714   \n",
       "380828  [Organization, Other Not-for-Profit]  2020-07-15T20:41:10Z  380828   \n",
       "\n",
       "        start_date end_date  \n",
       "14713         None     None  \n",
       "14730   1636-00-00     None  \n",
       "14922         None     None  \n",
       "14924   1754-00-00     None  \n",
       "14925   1867-00-00     None  \n",
       "...            ...      ...  \n",
       "380599        None     None  \n",
       "380600        None     None  \n",
       "380699        None     None  \n",
       "380714        None     None  \n",
       "380828        None     None  \n",
       "\n",
       "[9106 rows x 13 columns]"
      ]
     },
     "execution_count": 13,
     "metadata": {},
     "output_type": "execute_result"
    }
   ],
   "source": [
    "index_to_keep = filterByType(ents)\n",
    "filtered_ents = ents.loc[index_to_keep]\n",
    "filtered_ents  # base set of entities"
   ]
  },
  {
   "cell_type": "code",
   "execution_count": 14,
   "metadata": {},
   "outputs": [
    {
     "data": {
      "text/plain": [
       "0        14713\n",
       "1        14730\n",
       "2        14922\n",
       "3        14924\n",
       "4        14925\n",
       "         ...  \n",
       "9101    380599\n",
       "9102    380600\n",
       "9103    380699\n",
       "9104    380714\n",
       "9105    380828\n",
       "Length: 9106, dtype: int64"
      ]
     },
     "execution_count": 14,
     "metadata": {},
     "output_type": "execute_result"
    }
   ],
   "source": [
    "base_entities = pd.Series(pd.to_numeric(filtered_ents.index))\n",
    "base_entities  # index values for base set of entities"
   ]
  },
  {
   "cell_type": "code",
   "execution_count": 15,
   "metadata": {},
   "outputs": [
    {
     "data": {
      "text/plain": [
       "(97420, 15)"
      ]
     },
     "execution_count": 15,
     "metadata": {},
     "output_type": "execute_result"
    }
   ],
   "source": [
    "base_rels = rels[rels['entity1_id'].isin(base_entities) | rels['entity2_id'].isin(base_entities)]  # get relationships of base entities\n",
    "base_rels.shape"
   ]
  },
  {
   "cell_type": "markdown",
   "metadata": {},
   "source": [
    "base_rels contains relationships of entites that are of the following type: \n",
    "\n",
    "* 'Philanthropy'\n",
    "* 'Other Not-for-Profit'\n",
    "* 'Academic Research Institute'\n",
    "* 'School'\n",
    "* 'Cultural/Arts'\n",
    "* 'Policy/Think Tank'"
   ]
  },
  {
   "cell_type": "code",
   "execution_count": 16,
   "metadata": {},
   "outputs": [
    {
     "data": {
      "text/plain": [
       "category_id                                                     2\n",
       "description2                                                 None\n",
       "id                                                          26197\n",
       "description     Roel C Campos  is/was a student of  Harvard La...\n",
       "entity1_id                                                  14659\n",
       "is_current                                                   None\n",
       "updated_at                                   2008-11-07T14:43:40Z\n",
       "entity2_id                                                  14713\n",
       "currency                                                     None\n",
       "start_date                                                   None\n",
       "amount                                                        NaN\n",
       "goods                                                        None\n",
       "description1                                                 None\n",
       "end_date                                               1979-00-00\n",
       "filings                                                       NaN\n",
       "Name: 26197, dtype: object"
      ]
     },
     "execution_count": 16,
     "metadata": {},
     "output_type": "execute_result"
    }
   ],
   "source": [
    "base_rels.loc['26197', :]  # gives us relationship with ID 26197"
   ]
  },
  {
   "cell_type": "code",
   "execution_count": 17,
   "metadata": {},
   "outputs": [
    {
     "data": {
      "text/plain": [
       "summary                                                     None\n",
       "parent_id                                                    NaN\n",
       "extensions     {'Person': {'name_nick': None, 'nationality': ...\n",
       "website                                                     None\n",
       "name                                               Roel C Campos\n",
       "primary_ext                                               Person\n",
       "aliases                                          [Roel C Campos]\n",
       "blurb                Former SEC Commissioner under George W Bush\n",
       "types                                  [Person, Business Person]\n",
       "updated_at                                  2014-10-10T21:36:09Z\n",
       "id                                                         14659\n",
       "start_date                                                  None\n",
       "end_date                                                    None\n",
       "Name: 14659, dtype: object"
      ]
     },
     "execution_count": 17,
     "metadata": {},
     "output_type": "execute_result"
    }
   ],
   "source": [
    "ents.loc[str(base_rels.loc['26197', 'entity1_id'])]  # corresponding entity1 ID from relationship 26197 "
   ]
  },
  {
   "cell_type": "code",
   "execution_count": 18,
   "metadata": {},
   "outputs": [
    {
     "data": {
      "text/plain": [
       "summary                                                     None\n",
       "parent_id                                                  14730\n",
       "extensions     {'Org': {'name_nick': None, 'name': 'Harvard L...\n",
       "website                               http://www.law.harvard.edu\n",
       "name                                          Harvard Law School\n",
       "primary_ext                                                  Org\n",
       "aliases        [Harvard Law School, Harvard University Law Sc...\n",
       "blurb                                                       None\n",
       "types                                     [Organization, School]\n",
       "updated_at                                  2020-07-12T23:23:57Z\n",
       "id                                                         14713\n",
       "start_date                                                  None\n",
       "end_date                                                    None\n",
       "Name: 14713, dtype: object"
      ]
     },
     "execution_count": 18,
     "metadata": {},
     "output_type": "execute_result"
    }
   ],
   "source": [
    "ents.loc[str(base_rels.loc['26197', 'entity2_id'])]  # corresponding entity2 ID from relationship 26197 "
   ]
  },
  {
   "cell_type": "markdown",
   "metadata": {},
   "source": [
    "Breakdown of base_rels by category:"
   ]
  },
  {
   "cell_type": "code",
   "execution_count": 19,
   "metadata": {},
   "outputs": [
    {
     "data": {
      "text/html": [
       "<div>\n",
       "<style scoped>\n",
       "    .dataframe tbody tr th:only-of-type {\n",
       "        vertical-align: middle;\n",
       "    }\n",
       "\n",
       "    .dataframe tbody tr th {\n",
       "        vertical-align: top;\n",
       "    }\n",
       "\n",
       "    .dataframe thead th {\n",
       "        text-align: right;\n",
       "    }\n",
       "</style>\n",
       "<table border=\"1\" class=\"dataframe\">\n",
       "  <thead>\n",
       "    <tr style=\"text-align: right;\">\n",
       "      <th></th>\n",
       "      <th>count</th>\n",
       "      <th>category</th>\n",
       "    </tr>\n",
       "  </thead>\n",
       "  <tbody>\n",
       "    <tr>\n",
       "      <th>1</th>\n",
       "      <td>45290.0</td>\n",
       "      <td>Position</td>\n",
       "    </tr>\n",
       "    <tr>\n",
       "      <th>2</th>\n",
       "      <td>27124.0</td>\n",
       "      <td>Education</td>\n",
       "    </tr>\n",
       "    <tr>\n",
       "      <th>5</th>\n",
       "      <td>12210.0</td>\n",
       "      <td>Donation</td>\n",
       "    </tr>\n",
       "    <tr>\n",
       "      <th>3</th>\n",
       "      <td>5135.0</td>\n",
       "      <td>Membership</td>\n",
       "    </tr>\n",
       "    <tr>\n",
       "      <th>12</th>\n",
       "      <td>3492.0</td>\n",
       "      <td>Generic</td>\n",
       "    </tr>\n",
       "    <tr>\n",
       "      <th>11</th>\n",
       "      <td>1951.0</td>\n",
       "      <td>Hierarchy</td>\n",
       "    </tr>\n",
       "    <tr>\n",
       "      <th>6</th>\n",
       "      <td>1719.0</td>\n",
       "      <td>Transaction</td>\n",
       "    </tr>\n",
       "    <tr>\n",
       "      <th>10</th>\n",
       "      <td>477.0</td>\n",
       "      <td>Ownership</td>\n",
       "    </tr>\n",
       "    <tr>\n",
       "      <th>7</th>\n",
       "      <td>22.0</td>\n",
       "      <td>Lobbying</td>\n",
       "    </tr>\n",
       "  </tbody>\n",
       "</table>\n",
       "</div>"
      ],
      "text/plain": [
       "      count     category\n",
       "1   45290.0     Position\n",
       "2   27124.0    Education\n",
       "5   12210.0     Donation\n",
       "3    5135.0   Membership\n",
       "12   3492.0      Generic\n",
       "11   1951.0    Hierarchy\n",
       "6    1719.0  Transaction\n",
       "10    477.0    Ownership\n",
       "7      22.0     Lobbying"
      ]
     },
     "execution_count": 19,
     "metadata": {},
     "output_type": "execute_result"
    }
   ],
   "source": [
    "cats = pd.Series(['Position', 'Education', 'Membership', 'Family', 'Donation', 'Transaction', 'Lobbying', 'Social', 'Professional', 'Ownership', 'Hierarchy', 'Generic'], index = range(1, 13))\n",
    "pd.concat([base_rels['category_id'].value_counts(), cats], axis = 1).dropna().rename(columns = {'category_id': 'count', 0: 'category'}).sort_values(by = 'count', ascending = False)"
   ]
  },
  {
   "cell_type": "markdown",
   "metadata": {},
   "source": [
    "Overview of descriptions for different types of relations:"
   ]
  },
  {
   "cell_type": "code",
   "execution_count": 20,
   "metadata": {},
   "outputs": [],
   "source": [
    "def baseRelsTypeExplore(cat_id):\n",
    "    for i in base_rels[base_rels['category_id'] == cat_id].sample(n = 10)['description']:\n",
    "#     for i in rels[rels['category_id'] == cat_id].sample(n = 1)['description']:\n",
    "        print(i)"
   ]
  },
  {
   "cell_type": "code",
   "execution_count": 21,
   "metadata": {},
   "outputs": [
    {
     "name": "stdout",
     "output_type": "stream",
     "text": [
      "Transaction:\n",
      "University of Memphis  and  FIA Card Services, N.A.  did/do business\n",
      "Stoel Rives LLP  and  Western States Petroleum Association  did business\n",
      "Michigan State University  and  Renaissance Technologies LLC  did business\n",
      "American College of Nurse Midwives  and  Tripp Funderburk  do business\n",
      "Advocates Inc DC Ltd  and  American Petroleum Institute  did/do business\n",
      "Real Estate Board of New York  and  Greenberg Traurig LLP  did business\n",
      "Nicholas W Allard  and  University of Minnesota  do business\n",
      "Institute for Alternative Futures  and  Rockefeller Foundation  did/do business\n",
      "Jewish Federation of St. Louis  and  Lubin-Green Foundation  did/do business\n",
      "Kivvit  and  Utility and Transportation Contractors Association of New Jersey  did business\n",
      "---------------\n",
      "Lobbying:\n",
      "Ven. Maligavila Assaji thero  lobbies  Sri Ghnanobhasa Meditation Center \n",
      "K12 Inc  lobbies/lobbied  McWilliams Governmental Affairs Consultants \n",
      "Center for Individual Freedom  lobbies/lobbied  US House of Representatives \n",
      "Jewish Community Relations Council of New York  lobbied  New York City Council \n",
      "Daniel Hannan  lobbies  Heritage Foundation \n",
      "Debating Matters  lobbies/lobbied  Sense about Science \n",
      "Mercatus Center  lobbied  Consumer Financial Protection Bureau \n",
      "Phil Lakin  lobbies  Tulsa Community Foundation \n",
      "George K. Munoz  lobbies/lobbied  American Legislative Exchange Council \n",
      "McKenna Long & Aldridge LLP  lobbies/lobbied  American College Health Association \n",
      "---------------\n",
      "Hierarchy:\n",
      "Ascension Health  and  Ascension  have a hierarchical relationship\n",
      "Flushing Hospital Medical Center  and  MediSys Health Network  have a hierarchical relationship\n",
      "AI Powered Covid-19 Watch, OECD  and  Organisation for Economic Co-operation and Development  have/had a hierarchical relationship\n",
      "STRONGER  and  Interstate Oil and Gas Compact Commission  had a hierarchical relationship\n",
      "Georgetown University Office of Technology Commercialization  and  Georgetown University  have/had a hierarchical relationship\n",
      "Adelson School of Entrepreneurship  and  Interdisciplinary Center Herzliya (IDC)  have a hierarchical relationship\n",
      "US Council of the International Chamber of Commerce  and  International Chamber of Commerce  have a hierarchical relationship\n",
      "School of Population and Global Health, McGill University  and  McGill University  have/had a hierarchical relationship\n",
      "George Bush Presidential Library Board of Trustees  and  George Bush Presidential Library Foundation  have a hierarchical relationship\n",
      "Innovation and Measuring Progress Division (IMEP)  and  Organisation for Economic Co-operation and Development  have/had a hierarchical relationship\n",
      "---------------\n",
      "Generic:\n",
      "Commit!  and  JA Worldwide  have a generic relationship\n",
      "Parent Coalition for Excellent Education (PC2E)  and  Steve Fulop  have/had a generic relationship\n",
      "2020 ID HB500 and HB509  and  Child Welfare League of America (CWLA)  have a generic relationship\n",
      "HR4174 Foundations for Evidence-Based Policymaking Act of 2017  and  National Campaign to Prevent Teen and Unplanned Pregnancy  have a generic relationship\n",
      "NCAA  and  Nissan North America Inc.  have a generic relationship\n",
      "Common Core State Standards  and  Millbrae Chamber of Commerce  have a generic relationship\n",
      "National Immigration Law Center  and  Fast For Families  have a generic relationship\n",
      "Common Core State Standards  and  Teen Talk  have a generic relationship\n",
      "Teach for America  and  Results For America  have a generic relationship\n",
      "Harvard School of Public Health  and  Center for Digital Information  have/had a generic relationship\n",
      "---------------\n"
     ]
    }
   ],
   "source": [
    "print('Transaction:')\n",
    "baseRelsTypeExplore(6)\n",
    "print('-' * 15)\n",
    "print('Lobbying:')\n",
    "baseRelsTypeExplore(7)\n",
    "print('-' * 15)\n",
    "print('Hierarchy:')\n",
    "baseRelsTypeExplore(11)\n",
    "print('-' * 15)\n",
    "print('Generic:')\n",
    "baseRelsTypeExplore(12)\n",
    "print('-' * 15)\n",
    "# for i in range(1, 13):\n",
    "#     print(i)\n",
    "#     baseRelsTypeExplore(i)\n",
    "#     print('-' * 15)"
   ]
  },
  {
   "cell_type": "markdown",
   "metadata": {},
   "source": [
    "Network for base_rels:"
   ]
  },
  {
   "cell_type": "code",
   "execution_count": 42,
   "metadata": {},
   "outputs": [],
   "source": [
    "# G_base = nx.from_pandas_edgelist(base_rels, 'entity1_id', 'entity2_id', ['category_id', 'description', 'updated_at'])\n",
    "G_base = nx.from_pandas_edgelist(base_rels, 'entity1_id', 'entity2_id', ['category_id', 'description', 'updated_at'], create_using = nx.MultiGraph())  # graph of base set of relationships, multigraph allows for multiple edges between entities"
   ]
  },
  {
   "cell_type": "code",
   "execution_count": 43,
   "metadata": {},
   "outputs": [
    {
     "data": {
      "text/plain": [
       "65248"
      ]
     },
     "execution_count": 43,
     "metadata": {},
     "output_type": "execute_result"
    }
   ],
   "source": [
    "G_base.number_of_nodes()"
   ]
  },
  {
   "cell_type": "code",
   "execution_count": 44,
   "metadata": {},
   "outputs": [
    {
     "data": {
      "text/plain": [
       "97420"
      ]
     },
     "execution_count": 44,
     "metadata": {},
     "output_type": "execute_result"
    }
   ],
   "source": [
    "G_base.number_of_edges()"
   ]
  },
  {
   "cell_type": "code",
   "execution_count": 25,
   "metadata": {},
   "outputs": [
    {
     "name": "stdout",
     "output_type": "stream",
     "text": [
      "{14713: {'category_id': 2,\n",
      "         'description': 'Roel C Campos  is/was a student of  Harvard Law '\n",
      "                        'School ',\n",
      "         'updated_at': '2008-11-07T14:43:40Z'},\n",
      " 35353: {'category_id': 1,\n",
      "         'description': 'Roel C Campos  has a position (Board Member) at  New '\n",
      "                        'America Alliance ',\n",
      "         'updated_at': '2014-10-10T21:36:09Z'},\n",
      " 45367: {'category_id': 3,\n",
      "         'description': 'Roel C Campos  is a member of  Committee on Capital '\n",
      "                        'Markets Regulation ',\n",
      "         'updated_at': '2009-11-18T16:35:33Z'}}\n"
     ]
    }
   ],
   "source": [
    "pprint(dict(G_base[14659]))"
   ]
  },
  {
   "cell_type": "markdown",
   "metadata": {},
   "source": [
    "Number of connections for each entity in the graph:"
   ]
  },
  {
   "cell_type": "code",
   "execution_count": 26,
   "metadata": {},
   "outputs": [
    {
     "data": {
      "text/plain": [
       "3"
      ]
     },
     "execution_count": 26,
     "metadata": {},
     "output_type": "execute_result"
    }
   ],
   "source": [
    "G_base.degree()[14659]  # key is an entity ID"
   ]
  },
  {
   "cell_type": "markdown",
   "metadata": {},
   "source": [
    "Enitity with max connections:"
   ]
  },
  {
   "cell_type": "code",
   "execution_count": 27,
   "metadata": {},
   "outputs": [
    {
     "name": "stdout",
     "output_type": "stream",
     "text": [
      "66860 1095\n"
     ]
    }
   ],
   "source": [
    "g_base_degree = dict(G_base.degree())\n",
    "max_base_deg_key = max(g_base_degree, key = g_base_degree.get)\n",
    "print(max_base_deg_key, G_base.degree()[max_base_deg_key])"
   ]
  },
  {
   "cell_type": "code",
   "execution_count": 28,
   "metadata": {},
   "outputs": [
    {
     "data": {
      "text/plain": [
       "summary                                                     None\n",
       "parent_id                                                    NaN\n",
       "extensions     {'Org': {'name_nick': None, 'name': 'Walton Fa...\n",
       "website                                                     None\n",
       "name                                Walton Family Foundation Inc\n",
       "primary_ext                                                  Org\n",
       "aliases                           [Walton Family Foundation Inc]\n",
       "blurb          Philanthropic foundation affiliated with famil...\n",
       "types                               [Organization, Philanthropy]\n",
       "updated_at                                  2020-06-08T21:54:09Z\n",
       "id                                                         66860\n",
       "start_date                                                  None\n",
       "end_date                                                    None\n",
       "Name: 66860, dtype: object"
      ]
     },
     "execution_count": 28,
     "metadata": {},
     "output_type": "execute_result"
    }
   ],
   "source": [
    "ents.loc[str(max_base_deg_key)]"
   ]
  },
  {
   "cell_type": "markdown",
   "metadata": {},
   "source": [
    "Mean and median of node degree:"
   ]
  },
  {
   "cell_type": "code",
   "execution_count": 29,
   "metadata": {},
   "outputs": [
    {
     "name": "stdout",
     "output_type": "stream",
     "text": [
      "Mean degree: 2.828102010789603\n",
      "Median degree: 1.0\n"
     ]
    }
   ],
   "source": [
    "base_degree_values = np.array(list(dict(G_base.degree()).values()))\n",
    "print('Mean degree:', np.mean(base_degree_values))\n",
    "print('Median degree:', np.median(base_degree_values))"
   ]
  },
  {
   "cell_type": "code",
   "execution_count": 30,
   "metadata": {},
   "outputs": [
    {
     "data": {
      "image/png": "[encoded data removed]",
      "text/plain": [
       "<Figure size 432x288 with 1 Axes>"
      ]
     },
     "metadata": {
      "needs_background": "light"
     },
     "output_type": "display_data"
    }
   ],
   "source": [
    "plt.boxplot(base_degree_values)\n",
    "plt.title('Degree Distribution')\n",
    "# plt.xticks([1], ['Relationships'])\n",
    "plt.ylabel('Degree')\n",
    "# plt.savefig(os.getcwd() + '/Graphs/relationshipGraphs/degreeBoxplot')\n",
    "plt.show()\n",
    "plt.close()"
   ]
  },
  {
   "cell_type": "markdown",
   "metadata": {},
   "source": [
    "Degree distribution:"
   ]
  },
  {
   "cell_type": "code",
   "execution_count": 31,
   "metadata": {},
   "outputs": [
    {
     "data": {
      "text/plain": [
       "1       45045\n",
       "2       10187\n",
       "3        3913\n",
       "4        1716\n",
       "5         922\n",
       "        ...  \n",
       "727         1\n",
       "810         1\n",
       "846         1\n",
       "885         1\n",
       "1095        1\n",
       "Length: 206, dtype: int64"
      ]
     },
     "execution_count": 31,
     "metadata": {},
     "output_type": "execute_result"
    }
   ],
   "source": [
    "base_degrees = pd.Series(base_degree_values).value_counts().sort_index()  # first col is degree, count is second col sorted by degree (ascending)\n",
    "base_degrees"
   ]
  },
  {
   "cell_type": "markdown",
   "metadata": {},
   "source": [
    "Degree distro confirms what the median degree tells us: most node have degree = 1."
   ]
  },
  {
   "cell_type": "code",
   "execution_count": 32,
   "metadata": {},
   "outputs": [
    {
     "data": {
      "image/png": "[encoded data removed]",
      "text/plain": [
       "<Figure size 432x288 with 1 Axes>"
      ]
     },
     "metadata": {
      "needs_background": "light"
     },
     "output_type": "display_data"
    }
   ],
   "source": [
    "n_bins = int(np.around(np.sqrt(len(base_degree_values))))\n",
    "plt.hist(base_degree_values, bins = n_bins, color = '#9433ff')\n",
    "plt.title('Degree distribution with {} bins'.format(str(n_bins)))\n",
    "plt.xlabel('Degree')\n",
    "plt.ylabel('Count')\n",
    "# plt.savefig(os.getcwd() + '/Graphs/relationshipGraphs/degreeDistro')\n",
    "plt.show()\n",
    "plt.close()"
   ]
  },
  {
   "cell_type": "code",
   "execution_count": 33,
   "metadata": {},
   "outputs": [
    {
     "data": {
      "image/png": "[encoded data removed]",
      "text/plain": [
       "<Figure size 432x288 with 1 Axes>"
      ]
     },
     "metadata": {
      "needs_background": "light"
     },
     "output_type": "display_data"
    }
   ],
   "source": [
    "plt.hist(np.log(base_degree_values + 1), bins = n_bins, color = '#9433ff')  # added 1 for smoothing\n",
    "plt.title('Log degree distribution with {} bins'.format(str(n_bins)))\n",
    "plt.xlabel('Log Degree')\n",
    "plt.ylabel('Count')\n",
    "# plt.savefig(os.getcwd() + '/Graphs/relationshipGraphs/degreeDistroLog')\n",
    "plt.show()\n",
    "plt.close()"
   ]
  },
  {
   "cell_type": "markdown",
   "metadata": {},
   "source": [
    "Equivalent plot as a log-log line graph:"
   ]
  },
  {
   "cell_type": "code",
   "execution_count": 34,
   "metadata": {},
   "outputs": [
    {
     "data": {
      "image/png": "[encoded data removed]",
      "text/plain": [
       "<Figure size 432x288 with 1 Axes>"
      ]
     },
     "metadata": {
      "needs_background": "light"
     },
     "output_type": "display_data"
    }
   ],
   "source": [
    "plt.plot(np.log10(base_degrees.index + 1), np.log10(base_degrees.values + 1), color = '#9433ff')  # added 1 for smoothing\n",
    "plt.title('Degree distribution as a log-log plot')\n",
    "tick_locs = plt.xticks()[0]\n",
    "plt.xticks(tick_locs, ['0' , '$10^{0.5}$', '$10^1$', '$10^{1.5}$', '$10^2$', '$10^{2.5}$', '$10^3$'])\n",
    "plt.xlabel('Degree')\n",
    "plt.yticks(range(1, 5), ['$10^1$', '$10^2$', '$10^3$', '$10^4$'])\n",
    "plt.ylabel('Count')\n",
    "# plt.savefig(os.getcwd() + '/Graphs/relationshipGraphs/degreeDistroLogLogTicks')\n",
    "plt.show()\n",
    "plt.close()"
   ]
  },
  {
   "cell_type": "markdown",
   "metadata": {},
   "source": [
    "Overlapping relationships: Multiple relationships between the same entities"
   ]
  },
  {
   "cell_type": "code",
   "execution_count": 93,
   "metadata": {},
   "outputs": [
    {
     "data": {
      "text/plain": [
       "entity1_id  entity2_id\n",
       "2           49463         7\n",
       "            43536         6\n",
       "            33260         5\n",
       "            40351         4\n",
       "            33510         3\n",
       "                         ..\n",
       "378943      49390         2\n",
       "379918      14730         2\n",
       "379972      41975         2\n",
       "380726      41975         3\n",
       "380750      41975         2\n",
       "Name: entity2_id, Length: 3621, dtype: int64"
      ]
     },
     "execution_count": 93,
     "metadata": {},
     "output_type": "execute_result"
    }
   ],
   "source": [
    "x = base_rels.groupby('entity1_id')['entity2_id'].value_counts()\n",
    "x[x > 1]"
   ]
  },
  {
   "cell_type": "code",
   "execution_count": 107,
   "metadata": {},
   "outputs": [
    {
     "data": {
      "text/html": [
       "<div>\n",
       "<style scoped>\n",
       "    .dataframe tbody tr th:only-of-type {\n",
       "        vertical-align: middle;\n",
       "    }\n",
       "\n",
       "    .dataframe tbody tr th {\n",
       "        vertical-align: top;\n",
       "    }\n",
       "\n",
       "    .dataframe thead th {\n",
       "        text-align: right;\n",
       "    }\n",
       "</style>\n",
       "<table border=\"1\" class=\"dataframe\">\n",
       "  <thead>\n",
       "    <tr style=\"text-align: right;\">\n",
       "      <th></th>\n",
       "      <th>category_id</th>\n",
       "      <th>description2</th>\n",
       "      <th>id</th>\n",
       "      <th>description</th>\n",
       "      <th>entity1_id</th>\n",
       "      <th>is_current</th>\n",
       "      <th>updated_at</th>\n",
       "      <th>entity2_id</th>\n",
       "      <th>currency</th>\n",
       "      <th>start_date</th>\n",
       "      <th>amount</th>\n",
       "      <th>goods</th>\n",
       "      <th>description1</th>\n",
       "      <th>end_date</th>\n",
       "      <th>filings</th>\n",
       "    </tr>\n",
       "  </thead>\n",
       "  <tbody>\n",
       "    <tr>\n",
       "      <th>1696369</th>\n",
       "      <td>1</td>\n",
       "      <td>None</td>\n",
       "      <td>1696369</td>\n",
       "      <td>Amish Desai  has a position (Member of the Boa...</td>\n",
       "      <td>380726</td>\n",
       "      <td>True</td>\n",
       "      <td>2020-07-15T01:52:28Z</td>\n",
       "      <td>41975</td>\n",
       "      <td>None</td>\n",
       "      <td>None</td>\n",
       "      <td>NaN</td>\n",
       "      <td>None</td>\n",
       "      <td>Member of the Board of Trustees</td>\n",
       "      <td>None</td>\n",
       "      <td>NaN</td>\n",
       "    </tr>\n",
       "    <tr>\n",
       "      <th>1696370</th>\n",
       "      <td>1</td>\n",
       "      <td>None</td>\n",
       "      <td>1696370</td>\n",
       "      <td>Amish Desai  has a position (Chair of the Boar...</td>\n",
       "      <td>380726</td>\n",
       "      <td>True</td>\n",
       "      <td>2020-07-15T01:53:07Z</td>\n",
       "      <td>41975</td>\n",
       "      <td>None</td>\n",
       "      <td>2019-00-00</td>\n",
       "      <td>NaN</td>\n",
       "      <td>None</td>\n",
       "      <td>Chair of the Board of Governors</td>\n",
       "      <td>None</td>\n",
       "      <td>NaN</td>\n",
       "    </tr>\n",
       "    <tr>\n",
       "      <th>1696374</th>\n",
       "      <td>2</td>\n",
       "      <td>None</td>\n",
       "      <td>1696374</td>\n",
       "      <td>Amish Desai  is/was a student of  Drexel Unive...</td>\n",
       "      <td>380726</td>\n",
       "      <td>None</td>\n",
       "      <td>2020-07-15T01:57:58Z</td>\n",
       "      <td>41975</td>\n",
       "      <td>None</td>\n",
       "      <td>1998-00-00</td>\n",
       "      <td>NaN</td>\n",
       "      <td>None</td>\n",
       "      <td>Undergraduate</td>\n",
       "      <td>2003-00-00</td>\n",
       "      <td>NaN</td>\n",
       "    </tr>\n",
       "    <tr>\n",
       "      <th>1696432</th>\n",
       "      <td>1</td>\n",
       "      <td>None</td>\n",
       "      <td>1696432</td>\n",
       "      <td>Thomas M. Rampulla  has a position (Member of ...</td>\n",
       "      <td>380750</td>\n",
       "      <td>True</td>\n",
       "      <td>2020-07-15T03:54:06Z</td>\n",
       "      <td>41975</td>\n",
       "      <td>None</td>\n",
       "      <td>2018-00-00</td>\n",
       "      <td>NaN</td>\n",
       "      <td>None</td>\n",
       "      <td>Member of Board of Trustees</td>\n",
       "      <td>2020-00-00</td>\n",
       "      <td>NaN</td>\n",
       "    </tr>\n",
       "    <tr>\n",
       "      <th>1696435</th>\n",
       "      <td>2</td>\n",
       "      <td>None</td>\n",
       "      <td>1696435</td>\n",
       "      <td>Thomas M. Rampulla  is/was a student of  Drexe...</td>\n",
       "      <td>380750</td>\n",
       "      <td>None</td>\n",
       "      <td>2020-07-15T04:07:44Z</td>\n",
       "      <td>41975</td>\n",
       "      <td>None</td>\n",
       "      <td>1989-00-00</td>\n",
       "      <td>NaN</td>\n",
       "      <td>None</td>\n",
       "      <td>Undergraduate</td>\n",
       "      <td>1993-00-00</td>\n",
       "      <td>NaN</td>\n",
       "    </tr>\n",
       "  </tbody>\n",
       "</table>\n",
       "</div>"
      ],
      "text/plain": [
       "         category_id description2       id  \\\n",
       "1696369            1         None  1696369   \n",
       "1696370            1         None  1696370   \n",
       "1696374            2         None  1696374   \n",
       "1696432            1         None  1696432   \n",
       "1696435            2         None  1696435   \n",
       "\n",
       "                                               description  entity1_id  \\\n",
       "1696369  Amish Desai  has a position (Member of the Boa...      380726   \n",
       "1696370  Amish Desai  has a position (Chair of the Boar...      380726   \n",
       "1696374  Amish Desai  is/was a student of  Drexel Unive...      380726   \n",
       "1696432  Thomas M. Rampulla  has a position (Member of ...      380750   \n",
       "1696435  Thomas M. Rampulla  is/was a student of  Drexe...      380750   \n",
       "\n",
       "        is_current            updated_at  entity2_id currency  start_date  \\\n",
       "1696369       True  2020-07-15T01:52:28Z       41975     None        None   \n",
       "1696370       True  2020-07-15T01:53:07Z       41975     None  2019-00-00   \n",
       "1696374       None  2020-07-15T01:57:58Z       41975     None  1998-00-00   \n",
       "1696432       True  2020-07-15T03:54:06Z       41975     None  2018-00-00   \n",
       "1696435       None  2020-07-15T04:07:44Z       41975     None  1989-00-00   \n",
       "\n",
       "         amount goods                     description1    end_date  filings  \n",
       "1696369     NaN  None  Member of the Board of Trustees        None      NaN  \n",
       "1696370     NaN  None  Chair of the Board of Governors        None      NaN  \n",
       "1696374     NaN  None                    Undergraduate  2003-00-00      NaN  \n",
       "1696432     NaN  None      Member of Board of Trustees  2020-00-00      NaN  \n",
       "1696435     NaN  None                    Undergraduate  1993-00-00      NaN  "
      ]
     },
     "execution_count": 107,
     "metadata": {},
     "output_type": "execute_result"
    }
   ],
   "source": [
    "base_rels[((base_rels['entity1_id'] == 380750) & (base_rels['entity2_id'] == 41975)) | ((base_rels['entity1_id'] == 380726) & (base_rels['entity2_id'] == 41975))]"
   ]
  },
  {
   "cell_type": "markdown",
   "metadata": {},
   "source": [
    "Degree centraility:"
   ]
  },
  {
   "cell_type": "code",
   "execution_count": 43,
   "metadata": {},
   "outputs": [],
   "source": [
    "base_degree_centrality = nx.degree_centrality(G_base)"
   ]
  },
  {
   "cell_type": "code",
   "execution_count": 44,
   "metadata": {},
   "outputs": [
    {
     "name": "stdout",
     "output_type": "stream",
     "text": [
      "66860 0.0167823807991172\n"
     ]
    }
   ],
   "source": [
    "max_base_degree_centrality = max(base_degree_centrality, key = base_degree_centrality.get)\n",
    "print(max_base_degree_centrality, base_degree_centrality[max_base_degree_centrality])"
   ]
  },
  {
   "cell_type": "code",
   "execution_count": 45,
   "metadata": {},
   "outputs": [
    {
     "data": {
      "text/plain": [
       "summary                                                     None\n",
       "parent_id                                                    NaN\n",
       "extensions     {'Org': {'name_nick': None, 'name': 'Walton Fa...\n",
       "website                                                     None\n",
       "name                                Walton Family Foundation Inc\n",
       "primary_ext                                                  Org\n",
       "aliases                           [Walton Family Foundation Inc]\n",
       "blurb          Philanthropic foundation affiliated with famil...\n",
       "types                               [Organization, Philanthropy]\n",
       "updated_at                                  2020-06-08T21:54:09Z\n",
       "id                                                         66860\n",
       "start_date                                                  None\n",
       "end_date                                                    None\n",
       "Name: 66860, dtype: object"
      ]
     },
     "execution_count": 45,
     "metadata": {},
     "output_type": "execute_result"
    }
   ],
   "source": [
    "ents.loc[str(max_base_degree_centrality)]"
   ]
  },
  {
   "cell_type": "markdown",
   "metadata": {},
   "source": [
    "Betweenness centrality:"
   ]
  },
  {
   "cell_type": "code",
   "execution_count": 46,
   "metadata": {},
   "outputs": [],
   "source": [
    "# base_betweenness_centrality = nx.betweenness_centrality(G_base)  # O(VE) complexity"
   ]
  },
  {
   "cell_type": "markdown",
   "metadata": {},
   "source": [
    "Looking into relationships of type **donation**:"
   ]
  },
  {
   "cell_type": "code",
   "execution_count": 47,
   "metadata": {},
   "outputs": [
    {
     "data": {
      "text/plain": [
       "(12210, 15)"
      ]
     },
     "execution_count": 47,
     "metadata": {},
     "output_type": "execute_result"
    }
   ],
   "source": [
    "donation_rels = base_rels[base_rels['category_id'] == 5]\n",
    "donation_rels.shape"
   ]
  },
  {
   "cell_type": "code",
   "execution_count": 48,
   "metadata": {},
   "outputs": [
    {
     "data": {
      "text/html": [
       "<div>\n",
       "<style scoped>\n",
       "    .dataframe tbody tr th:only-of-type {\n",
       "        vertical-align: middle;\n",
       "    }\n",
       "\n",
       "    .dataframe tbody tr th {\n",
       "        vertical-align: top;\n",
       "    }\n",
       "\n",
       "    .dataframe thead th {\n",
       "        text-align: right;\n",
       "    }\n",
       "</style>\n",
       "<table border=\"1\" class=\"dataframe\">\n",
       "  <thead>\n",
       "    <tr style=\"text-align: right;\">\n",
       "      <th></th>\n",
       "      <th>category_id</th>\n",
       "      <th>description2</th>\n",
       "      <th>id</th>\n",
       "      <th>description</th>\n",
       "      <th>entity1_id</th>\n",
       "      <th>is_current</th>\n",
       "      <th>updated_at</th>\n",
       "      <th>entity2_id</th>\n",
       "      <th>currency</th>\n",
       "      <th>start_date</th>\n",
       "      <th>amount</th>\n",
       "      <th>goods</th>\n",
       "      <th>description1</th>\n",
       "      <th>end_date</th>\n",
       "      <th>filings</th>\n",
       "    </tr>\n",
       "  </thead>\n",
       "  <tbody>\n",
       "    <tr>\n",
       "      <th>72329</th>\n",
       "      <td>5</td>\n",
       "      <td>Campaign Contribution</td>\n",
       "      <td>72329</td>\n",
       "      <td>Charles H Erhart Jr  gave money to  Black Amer...</td>\n",
       "      <td>5980</td>\n",
       "      <td>True</td>\n",
       "      <td>2008-11-17T07:34:44Z</td>\n",
       "      <td>28958</td>\n",
       "      <td>usd</td>\n",
       "      <td>2001-00-00</td>\n",
       "      <td>1300.0</td>\n",
       "      <td>None</td>\n",
       "      <td>Campaign Contribution</td>\n",
       "      <td>2004-00-00</td>\n",
       "      <td>6.0</td>\n",
       "    </tr>\n",
       "    <tr>\n",
       "      <th>75750</th>\n",
       "      <td>5</td>\n",
       "      <td>Campaign Contribution</td>\n",
       "      <td>75750</td>\n",
       "      <td>Deborah Dunsire  gave money to  Biotechnology ...</td>\n",
       "      <td>7994</td>\n",
       "      <td>False</td>\n",
       "      <td>2018-01-23T13:28:16Z</td>\n",
       "      <td>39301</td>\n",
       "      <td>usd</td>\n",
       "      <td>2007-00-00</td>\n",
       "      <td>10000.0</td>\n",
       "      <td>None</td>\n",
       "      <td>Campaign Contribution</td>\n",
       "      <td>2016-06-15</td>\n",
       "      <td>7.0</td>\n",
       "    </tr>\n",
       "    <tr>\n",
       "      <th>77710</th>\n",
       "      <td>5</td>\n",
       "      <td>Campaign Contribution</td>\n",
       "      <td>77710</td>\n",
       "      <td>James C Mullen  gave money to  Biotechnology I...</td>\n",
       "      <td>9014</td>\n",
       "      <td>False</td>\n",
       "      <td>2009-08-10T23:19:25Z</td>\n",
       "      <td>39301</td>\n",
       "      <td>usd</td>\n",
       "      <td>2003-00-00</td>\n",
       "      <td>9000.0</td>\n",
       "      <td>None</td>\n",
       "      <td>Campaign Contribution</td>\n",
       "      <td>2006-00-00</td>\n",
       "      <td>3.0</td>\n",
       "    </tr>\n",
       "    <tr>\n",
       "      <th>98384</th>\n",
       "      <td>5</td>\n",
       "      <td>Campaign Contribution</td>\n",
       "      <td>98384</td>\n",
       "      <td>Malcolm Grace  gave money to  Matthew 25 Network</td>\n",
       "      <td>18150</td>\n",
       "      <td>True</td>\n",
       "      <td>2009-01-03T15:48:41Z</td>\n",
       "      <td>32872</td>\n",
       "      <td>usd</td>\n",
       "      <td>2008-00-00</td>\n",
       "      <td>250.0</td>\n",
       "      <td>None</td>\n",
       "      <td>Campaign Contribution</td>\n",
       "      <td>2008-00-00</td>\n",
       "      <td>1.0</td>\n",
       "    </tr>\n",
       "    <tr>\n",
       "      <th>117240</th>\n",
       "      <td>5</td>\n",
       "      <td>Donation</td>\n",
       "      <td>117240</td>\n",
       "      <td>UBS AG  gave money to  University of Pennsylva...</td>\n",
       "      <td>35085</td>\n",
       "      <td>True</td>\n",
       "      <td>2009-02-10T19:16:36Z</td>\n",
       "      <td>14959</td>\n",
       "      <td>usd</td>\n",
       "      <td>2004-00-00</td>\n",
       "      <td>1250000.0</td>\n",
       "      <td>None</td>\n",
       "      <td>Donation</td>\n",
       "      <td>2004-00-00</td>\n",
       "      <td>NaN</td>\n",
       "    </tr>\n",
       "  </tbody>\n",
       "</table>\n",
       "</div>"
      ],
      "text/plain": [
       "        category_id           description2      id  \\\n",
       "72329             5  Campaign Contribution   72329   \n",
       "75750             5  Campaign Contribution   75750   \n",
       "77710             5  Campaign Contribution   77710   \n",
       "98384             5  Campaign Contribution   98384   \n",
       "117240            5               Donation  117240   \n",
       "\n",
       "                                              description  entity1_id  \\\n",
       "72329   Charles H Erhart Jr  gave money to  Black Amer...        5980   \n",
       "75750   Deborah Dunsire  gave money to  Biotechnology ...        7994   \n",
       "77710   James C Mullen  gave money to  Biotechnology I...        9014   \n",
       "98384   Malcolm Grace  gave money to  Matthew 25 Network        18150   \n",
       "117240  UBS AG  gave money to  University of Pennsylva...       35085   \n",
       "\n",
       "       is_current            updated_at  entity2_id currency  start_date  \\\n",
       "72329        True  2008-11-17T07:34:44Z       28958      usd  2001-00-00   \n",
       "75750       False  2018-01-23T13:28:16Z       39301      usd  2007-00-00   \n",
       "77710       False  2009-08-10T23:19:25Z       39301      usd  2003-00-00   \n",
       "98384        True  2009-01-03T15:48:41Z       32872      usd  2008-00-00   \n",
       "117240       True  2009-02-10T19:16:36Z       14959      usd  2004-00-00   \n",
       "\n",
       "           amount goods           description1    end_date  filings  \n",
       "72329      1300.0  None  Campaign Contribution  2004-00-00      6.0  \n",
       "75750     10000.0  None  Campaign Contribution  2016-06-15      7.0  \n",
       "77710      9000.0  None  Campaign Contribution  2006-00-00      3.0  \n",
       "98384       250.0  None  Campaign Contribution  2008-00-00      1.0  \n",
       "117240  1250000.0  None               Donation  2004-00-00      NaN  "
      ]
     },
     "execution_count": 48,
     "metadata": {},
     "output_type": "execute_result"
    }
   ],
   "source": [
    "donation_rels.head()"
   ]
  },
  {
   "cell_type": "code",
   "execution_count": 49,
   "metadata": {},
   "outputs": [],
   "source": [
    "# count donation amounts excluding NaNs\n",
    "# find most common entities\n",
    "# look into description1/2\n",
    "# is_current??"
   ]
  },
  {
   "cell_type": "code",
   "execution_count": 50,
   "metadata": {},
   "outputs": [
    {
     "name": "stdout",
     "output_type": "stream",
     "text": [
      "5528 rows have None/NaN data\n",
      "\n",
      "Currency breakdown for remaining rows:\n",
      "usd    6680\n",
      "aud       2\n",
      "Name: currency, dtype: int64\n"
     ]
    }
   ],
   "source": [
    "print(donation_rels['amount'].isna().sum(), 'rows have None/NaN data')\n",
    "print('\\nCurrency breakdown for remaining rows:')  # 6682 remaining rows + 5528 None/NaN rows = 12,210\n",
    "print(donation_rels['currency'].value_counts())"
   ]
  },
  {
   "cell_type": "markdown",
   "metadata": {},
   "source": [
    "Mean donation amount by currency:"
   ]
  },
  {
   "cell_type": "code",
   "execution_count": 51,
   "metadata": {},
   "outputs": [
    {
     "data": {
      "text/plain": [
       "currency\n",
       "aud    9.350000e+04\n",
       "usd    4.342526e+06\n",
       "Name: amount, dtype: float64"
      ]
     },
     "execution_count": 51,
     "metadata": {},
     "output_type": "execute_result"
    }
   ],
   "source": [
    "donation_rels.groupby('currency')['amount'].mean()"
   ]
  },
  {
   "cell_type": "markdown",
   "metadata": {},
   "source": [
    "Median donation amount by currency:"
   ]
  },
  {
   "cell_type": "code",
   "execution_count": 52,
   "metadata": {},
   "outputs": [
    {
     "data": {
      "text/plain": [
       "currency\n",
       "aud    93500.0\n",
       "usd    51357.5\n",
       "Name: amount, dtype: float64"
      ]
     },
     "execution_count": 52,
     "metadata": {},
     "output_type": "execute_result"
    }
   ],
   "source": [
    "donation_rels.groupby('currency')['amount'].median()"
   ]
  },
  {
   "cell_type": "markdown",
   "metadata": {},
   "source": [
    "AUD mean is the same as median as both amounts are the same (donation_rels[donation_rels['currency'] == 'aud'])\n",
    "\n",
    "Max donation details:"
   ]
  },
  {
   "cell_type": "code",
   "execution_count": 53,
   "metadata": {},
   "outputs": [
    {
     "data": {
      "text/plain": [
       "category_id                                                     5\n",
       "description2                                                Grant\n",
       "id                                                         535587\n",
       "description     Bill & Melinda Gates Foundation Trust  gave mo...\n",
       "entity1_id                                                 114117\n",
       "is_current                                                   None\n",
       "updated_at                                   2013-02-07T11:37:54Z\n",
       "entity2_id                                                  33551\n",
       "currency                                                      usd\n",
       "start_date                                             2008-00-00\n",
       "amount                                                3.30726e+09\n",
       "goods                                                        None\n",
       "description1                                                Grant\n",
       "end_date                                               2008-00-00\n",
       "filings                                                       NaN\n",
       "Name: 535587, dtype: object"
      ]
     },
     "execution_count": 53,
     "metadata": {},
     "output_type": "execute_result"
    }
   ],
   "source": [
    "donation_rels.loc[donation_rels[donation_rels['currency'] == 'usd']['amount'].idxmax()]"
   ]
  },
  {
   "cell_type": "markdown",
   "metadata": {},
   "source": [
    "USD donation distributions:"
   ]
  },
  {
   "cell_type": "code",
   "execution_count": 54,
   "metadata": {},
   "outputs": [
    {
     "data": {
      "image/png": "[encoded data removed]",
      "text/plain": [
       "<Figure size 432x288 with 1 Axes>"
      ]
     },
     "metadata": {
      "needs_background": "light"
     },
     "output_type": "display_data"
    }
   ],
   "source": [
    "plt.scatter(range(1, 6681), np.log10(donation_rels[donation_rels['currency'] == 'usd']['amount'] + 1), alpha = 0.15, c = '#9433ff')\n",
    "plt.title('USD Donation Distribution')\n",
    "plt.xlabel('Index')\n",
    "plt.ylabel('Log Donation Amount')\n",
    "# plt.savefig(os.getcwd() + '/Graphs/relationshipGraphs/usdDonationDistroLogScatter')\n",
    "plt.show()\n",
    "plt.close()"
   ]
  },
  {
   "cell_type": "code",
   "execution_count": 123,
   "metadata": {},
   "outputs": [
    {
     "data": {
      "image/png": "[encoded data removed]",
      "text/plain": [
       "<Figure size 432x288 with 1 Axes>"
      ]
     },
     "metadata": {
      "needs_background": "light"
     },
     "output_type": "display_data"
    }
   ],
   "source": [
    "n_bins = int(np.around(np.sqrt(6680)))\n",
    "plt.hist(np.log10(donation_rels[donation_rels['currency'] == 'usd']['amount'] + 1), bins = n_bins, color = '#9433ff')\n",
    "plt.title('USD donation distribution with {} bins'.format(str(n_bins)))\n",
    "tick_locs = plt.xticks()[0]\n",
    "plt.xticks(tick_locs, ['', '0', '$10^2$', '$10^4$', '$10^6$', '$10^8$'])\n",
    "plt.xlabel('Donation Amount (USD)')\n",
    "plt.ylabel('Count')\n",
    "plt.savefig(os.getcwd() + '/Graphs/relationshipGraphs/usdDonationDistroLogHistoTicks')\n",
    "plt.show()\n",
    "plt.close()"
   ]
  },
  {
   "cell_type": "markdown",
   "metadata": {},
   "source": [
    "Next part of code is for the 2nd step of BFS, and has been commented out for now as discussed"
   ]
  },
  {
   "cell_type": "code",
   "execution_count": 11,
   "metadata": {},
   "outputs": [
    {
     "data": {
      "text/plain": [
       "65248"
      ]
     },
     "execution_count": 11,
     "metadata": {},
     "output_type": "execute_result"
    }
   ],
   "source": [
    "# nodes = pd.unique(pd.concat([base_rels['entity1_id'], base_rels['entity2_id']], ignore_index = True))  # list of unique entites from base rels\n",
    "# len(nodes)"
   ]
  },
  {
   "cell_type": "code",
   "execution_count": 12,
   "metadata": {},
   "outputs": [
    {
     "data": {
      "text/plain": [
       "(826509, 15)"
      ]
     },
     "execution_count": 12,
     "metadata": {},
     "output_type": "execute_result"
    }
   ],
   "source": [
    "# bfs_2step = rels[rels['entity1_id'].isin(nodes) | rels['entity2_id'].isin(nodes)]\n",
    "# bfs_2step.shape"
   ]
  },
  {
   "cell_type": "code",
   "execution_count": 13,
   "metadata": {},
   "outputs": [
    {
     "data": {
      "text/html": [
       "<div>\n",
       "<style scoped>\n",
       "    .dataframe tbody tr th:only-of-type {\n",
       "        vertical-align: middle;\n",
       "    }\n",
       "\n",
       "    .dataframe tbody tr th {\n",
       "        vertical-align: top;\n",
       "    }\n",
       "\n",
       "    .dataframe thead th {\n",
       "        text-align: right;\n",
       "    }\n",
       "</style>\n",
       "<table border=\"1\" class=\"dataframe\">\n",
       "  <thead>\n",
       "    <tr style=\"text-align: right;\">\n",
       "      <th></th>\n",
       "      <th>category_id</th>\n",
       "      <th>description2</th>\n",
       "      <th>id</th>\n",
       "      <th>description</th>\n",
       "      <th>entity1_id</th>\n",
       "      <th>is_current</th>\n",
       "      <th>updated_at</th>\n",
       "      <th>entity2_id</th>\n",
       "      <th>currency</th>\n",
       "      <th>start_date</th>\n",
       "      <th>amount</th>\n",
       "      <th>goods</th>\n",
       "      <th>description1</th>\n",
       "      <th>end_date</th>\n",
       "      <th>filings</th>\n",
       "    </tr>\n",
       "  </thead>\n",
       "  <tbody>\n",
       "    <tr>\n",
       "      <th>1</th>\n",
       "      <td>1</td>\n",
       "      <td>Director</td>\n",
       "      <td>1</td>\n",
       "      <td>Allen I Questrom  had a position (Director) at...</td>\n",
       "      <td>1006</td>\n",
       "      <td>False</td>\n",
       "      <td>2011-03-13T20:15:59Z</td>\n",
       "      <td>1</td>\n",
       "      <td>None</td>\n",
       "      <td>2007-00-00</td>\n",
       "      <td>NaN</td>\n",
       "      <td>None</td>\n",
       "      <td>Director</td>\n",
       "      <td>2010-06-00</td>\n",
       "      <td>NaN</td>\n",
       "    </tr>\n",
       "    <tr>\n",
       "      <th>2</th>\n",
       "      <td>1</td>\n",
       "      <td>Director</td>\n",
       "      <td>2</td>\n",
       "      <td>Linda S Wolf  has a position (Director) at  Wa...</td>\n",
       "      <td>1007</td>\n",
       "      <td>True</td>\n",
       "      <td>2008-11-05T17:05:10Z</td>\n",
       "      <td>1</td>\n",
       "      <td>None</td>\n",
       "      <td>2005-00-00</td>\n",
       "      <td>NaN</td>\n",
       "      <td>None</td>\n",
       "      <td>Director</td>\n",
       "      <td>None</td>\n",
       "      <td>NaN</td>\n",
       "    </tr>\n",
       "    <tr>\n",
       "      <th>3</th>\n",
       "      <td>1</td>\n",
       "      <td>Director</td>\n",
       "      <td>3</td>\n",
       "      <td>Aida M Alvarez  had a position (Director) at  ...</td>\n",
       "      <td>1008</td>\n",
       "      <td>False</td>\n",
       "      <td>2018-04-23T14:25:16Z</td>\n",
       "      <td>1</td>\n",
       "      <td>None</td>\n",
       "      <td>None</td>\n",
       "      <td>NaN</td>\n",
       "      <td>None</td>\n",
       "      <td>Director</td>\n",
       "      <td>2015-00-00</td>\n",
       "      <td>NaN</td>\n",
       "    </tr>\n",
       "    <tr>\n",
       "      <th>4</th>\n",
       "      <td>1</td>\n",
       "      <td>Chairman</td>\n",
       "      <td>4</td>\n",
       "      <td>Gregory Boyd Penner  has/had a position (Vice ...</td>\n",
       "      <td>1009</td>\n",
       "      <td>None</td>\n",
       "      <td>2018-04-23T14:54:35Z</td>\n",
       "      <td>1</td>\n",
       "      <td>None</td>\n",
       "      <td>None</td>\n",
       "      <td>NaN</td>\n",
       "      <td>None</td>\n",
       "      <td>Vice Chairman</td>\n",
       "      <td>None</td>\n",
       "      <td>NaN</td>\n",
       "    </tr>\n",
       "    <tr>\n",
       "      <th>6</th>\n",
       "      <td>1</td>\n",
       "      <td>Director</td>\n",
       "      <td>6</td>\n",
       "      <td>Christopher J Williams  had a position (Direct...</td>\n",
       "      <td>1011</td>\n",
       "      <td>False</td>\n",
       "      <td>2015-03-31T14:56:50Z</td>\n",
       "      <td>1</td>\n",
       "      <td>None</td>\n",
       "      <td>2004-00-00</td>\n",
       "      <td>NaN</td>\n",
       "      <td>None</td>\n",
       "      <td>Director</td>\n",
       "      <td>None</td>\n",
       "      <td>NaN</td>\n",
       "    </tr>\n",
       "  </tbody>\n",
       "</table>\n",
       "</div>"
      ],
      "text/plain": [
       "   category_id description2  id  \\\n",
       "1            1     Director   1   \n",
       "2            1     Director   2   \n",
       "3            1     Director   3   \n",
       "4            1     Chairman   4   \n",
       "6            1     Director   6   \n",
       "\n",
       "                                         description  entity1_id is_current  \\\n",
       "1  Allen I Questrom  had a position (Director) at...        1006      False   \n",
       "2  Linda S Wolf  has a position (Director) at  Wa...        1007       True   \n",
       "3  Aida M Alvarez  had a position (Director) at  ...        1008      False   \n",
       "4  Gregory Boyd Penner  has/had a position (Vice ...        1009       None   \n",
       "6  Christopher J Williams  had a position (Direct...        1011      False   \n",
       "\n",
       "             updated_at  entity2_id currency  start_date  amount goods  \\\n",
       "1  2011-03-13T20:15:59Z           1     None  2007-00-00     NaN  None   \n",
       "2  2008-11-05T17:05:10Z           1     None  2005-00-00     NaN  None   \n",
       "3  2018-04-23T14:25:16Z           1     None        None     NaN  None   \n",
       "4  2018-04-23T14:54:35Z           1     None        None     NaN  None   \n",
       "6  2015-03-31T14:56:50Z           1     None  2004-00-00     NaN  None   \n",
       "\n",
       "    description1    end_date  filings  \n",
       "1       Director  2010-06-00      NaN  \n",
       "2       Director        None      NaN  \n",
       "3       Director  2015-00-00      NaN  \n",
       "4  Vice Chairman        None      NaN  \n",
       "6       Director        None      NaN  "
      ]
     },
     "execution_count": 13,
     "metadata": {},
     "output_type": "execute_result"
    }
   ],
   "source": [
    "# bfs_2step.head()"
   ]
  },
  {
   "cell_type": "code",
   "execution_count": 14,
   "metadata": {},
   "outputs": [],
   "source": [
    "# G = nx.from_pandas_edgelist(bfs_2step, 'entity1_id', 'entity2_id', ['category_id', 'description', 'updated_at'])"
   ]
  },
  {
   "cell_type": "code",
   "execution_count": 15,
   "metadata": {},
   "outputs": [
    {
     "data": {
      "text/plain": [
       "AtlasView({1: {'category_id': 1, 'description': 'Allen I Questrom  had a position (Director) at  Walmart ', 'updated_at': '2018-04-23T14:55:54Z'}, 14212: {'category_id': 5, 'description': 'Allen I Questrom  gave money to  Sedgwick William Green ', 'updated_at': '2009-10-22T10:20:12Z'}, 13575: {'category_id': 5, 'description': 'Allen I Questrom  gave money to  Chuck Schumer ', 'updated_at': '2009-10-22T10:20:18Z'}, 13443: {'category_id': 5, 'description': 'Allen I Questrom  gave money to  John S. McCain III ', 'updated_at': '2016-11-23T14:57:14Z'}, 85951: {'category_id': 1, 'description': \"Allen I Questrom  had a position (Board Member) at  Sotheby's \", 'updated_at': '2015-04-01T17:44:47Z'}, 12980: {'category_id': 5, 'description': 'Allen I Questrom  gave money to  Michele Bachmann ', 'updated_at': '2016-11-23T14:57:10Z'}, 36382: {'category_id': 5, 'description': 'Allen I Questrom  gave money to  Scott Randall Tipton ', 'updated_at': '2016-11-23T14:57:11Z'}, 13681: {'category_id': 5, 'description': 'Allen I Questrom  gave money to  George Allen ', 'updated_at': '2013-04-15T11:38:02Z'}, 117824: {'category_id': 5, 'description': 'Allen I Questrom  gave money to  Tom Cotton ', 'updated_at': '2016-11-23T14:57:12Z'}, 13731: {'category_id': 5, 'description': 'Allen I Questrom  gave money to  Rob Portman ', 'updated_at': '2016-11-23T14:57:12Z'}, 13799: {'category_id': 5, 'description': 'Allen I Questrom  gave money to  Pat Toomey ', 'updated_at': '2016-11-23T14:57:11Z'}, 13137: {'category_id': 5, 'description': 'Allen I Questrom  gave money to  Richard Burr ', 'updated_at': '2016-11-23T14:57:11Z'}, 13385: {'category_id': 5, 'description': 'Allen I Questrom  gave money to  Mark Steven Kirk ', 'updated_at': '2016-11-23T14:57:11Z'}, 140380: {'category_id': 5, 'description': 'Allen I Questrom  gave money to  Tom Emmer ', 'updated_at': '2016-11-23T14:57:11Z'}, 118768: {'category_id': 5, 'description': 'Allen I Questrom  gave money to  Bruce Poliquin ', 'updated_at': '2016-11-23T14:57:11Z'}, 13082: {'category_id': 5, 'description': 'Allen I Questrom  gave money to  Roy Blunt ', 'updated_at': '2016-11-23T14:57:11Z'}, 143892: {'category_id': 5, 'description': 'Allen I Questrom  gave money to  Dan Sullivan ', 'updated_at': '2016-11-23T14:57:12Z'}, 91598: {'category_id': 5, 'description': 'Allen I Questrom  gave money to  Ron Johnson ', 'updated_at': '2016-11-23T14:57:13Z'}, 91555: {'category_id': 5, 'description': 'Allen I Questrom  gave money to  Kelly A Ayotte ', 'updated_at': '2016-11-23T14:57:12Z'}, 157014: {'category_id': 5, 'description': 'Allen I Questrom  gave money to  Elise Stefanik ', 'updated_at': '2016-11-23T14:57:12Z'}, 13212: {'category_id': 5, 'description': 'Allen I Questrom  gave money to  John Cornyn ', 'updated_at': '2016-11-23T14:57:14Z'}, 96583: {'category_id': 5, 'description': 'Allen I Questrom  gave money to  Ted Cruz ', 'updated_at': '2016-11-23T14:57:14Z'}, 208734: {'category_id': 5, 'description': 'Allen I Questrom  gave money to  French Hill ', 'updated_at': '2016-11-23T14:57:14Z'}, 21537: {'category_id': 5, 'description': 'Allen I Questrom  gave money to  Barbara Comstock ', 'updated_at': '2016-11-23T14:57:14Z'}})"
      ]
     },
     "execution_count": 15,
     "metadata": {},
     "output_type": "execute_result"
    }
   ],
   "source": [
    "# G[1006]"
   ]
  }
 ],
 "metadata": {
  "kernelspec": {
   "display_name": "Python 3",
   "language": "python",
   "name": "python3"
  },
  "language_info": {
   "codemirror_mode": {
    "name": "ipython",
    "version": 3
   },
   "file_extension": ".py",
   "mimetype": "text/x-python",
   "name": "python",
   "nbconvert_exporter": "python",
   "pygments_lexer": "ipython3",
   "version": "3.8.2"
  }
 },
 "nbformat": 4,
 "nbformat_minor": 4
}
