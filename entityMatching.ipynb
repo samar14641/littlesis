{
 "cells": [
  {
   "cell_type": "code",
   "execution_count": 1,
   "metadata": {},
   "outputs": [],
   "source": [
    "import networkx as nx\n",
    "import os\n",
    "import pandas as pd\n",
    "import pickle\n",
    "\n",
    "from datasketch import MinHash, MinHashLSH\n",
    "from nameparser import HumanName"
   ]
  },
  {
   "cell_type": "markdown",
   "metadata": {},
   "source": [
    "#### Read bipartite graph and extract names"
   ]
  },
  {
   "cell_type": "code",
   "execution_count": 2,
   "metadata": {},
   "outputs": [
    {
     "data": {
      "text/plain": [
       "4054832"
      ]
     },
     "execution_count": 2,
     "metadata": {},
     "output_type": "execute_result"
    }
   ],
   "source": [
    "bipartite_all = nx.read_gpickle(os.getcwd() + '/Pickle/bipartite-all010420.pickle')\n",
    "bipartite_all.number_of_nodes()"
   ]
  },
  {
   "cell_type": "markdown",
   "metadata": {},
   "source": [
    "Nodes from *bipartite_all* have the following attributes:\n",
    "1. degree: int\n",
    "2. name: string\n",
    "3. is_trusted: bool\n",
    "4. is_employee: bool\n",
    "5. bipartite: int\n",
    "\n",
    "Access: bipartite_all.nodes[0]"
   ]
  },
  {
   "cell_type": "code",
   "execution_count": 3,
   "metadata": {},
   "outputs": [
    {
     "data": {
      "text/plain": [
       "{'degree': 17,\n",
       " 'name': 'JOSEPH GALLO',\n",
       " 'is_trustee': True,\n",
       " 'is_employee': True,\n",
       " 'bipartite': 1}"
      ]
     },
     "execution_count": 3,
     "metadata": {},
     "output_type": "execute_result"
    }
   ],
   "source": [
    "bipartite_all.nodes[0]"
   ]
  },
  {
   "cell_type": "code",
   "execution_count": 4,
   "metadata": {},
   "outputs": [
    {
     "data": {
      "text/plain": [
       "[(0, 'JOSEPH GALLO'),\n",
       " (1, 'EMMA DUNCH'),\n",
       " (2, 'DONALD BORROR'),\n",
       " (3, 'LINDA MOFFITT'),\n",
       " (4, \"M'LISS DORRANCE\")]"
      ]
     },
     "execution_count": 4,
     "metadata": {},
     "output_type": "execute_result"
    }
   ],
   "source": [
    "bipartite_names = list(bipartite_all.nodes(data = 'name'))  # extract only names\n",
    "bipartite_names[: 5]"
   ]
  },
  {
   "cell_type": "markdown",
   "metadata": {},
   "source": [
    "#### Read LittleSis names"
   ]
  },
  {
   "cell_type": "code",
   "execution_count": 5,
   "metadata": {},
   "outputs": [
    {
     "data": {
      "text/plain": [
       "205548"
      ]
     },
     "execution_count": 5,
     "metadata": {},
     "output_type": "execute_result"
    }
   ],
   "source": [
    "littlesis_names = {}\n",
    "\n",
    "with open(os.getcwd() + '/Pickle/all_people.pickle', 'rb') as pkl:\n",
    "    littlesis_names = pickle.load(pkl)\n",
    "    \n",
    "len(littlesis_names)"
   ]
  },
  {
   "cell_type": "code",
   "execution_count": 6,
   "metadata": {},
   "outputs": [
    {
     "data": {
      "text/plain": [
       "'Roland A Hernandez'"
      ]
     },
     "execution_count": 6,
     "metadata": {},
     "output_type": "execute_result"
    }
   ],
   "source": [
    "littlesis_names['1024']  # key is an ent ID"
   ]
  },
  {
   "cell_type": "markdown",
   "metadata": {},
   "source": [
    "#### Clean names"
   ]
  },
  {
   "cell_type": "code",
   "execution_count": 7,
   "metadata": {},
   "outputs": [],
   "source": [
    "def cleanNames(names_dict):\n",
    "    clean_names = {}\n",
    "    error_count, error_list = 0, []\n",
    "    \n",
    "    for name_id in names_dict:\n",
    "        try:\n",
    "            name = names_dict[name_id].strip().upper()\n",
    "\n",
    "            human_name = HumanName(name)\n",
    "\n",
    "            names_list = [human_name.first, human_name.middle, human_name.last]\n",
    "            names_list = [n for n in names_list if len(n) > 0]\n",
    "\n",
    "            if type(name_id) == str:  # convert string ent IDs to int\n",
    "                name_id = int(name_id)\n",
    "                \n",
    "            clean_names[name_id] = ' '.join(names_list)\n",
    "        \n",
    "        except:\n",
    "            error_count += 1\n",
    "            error_list.append(name_id)\n",
    "            \n",
    "#     print(error_count, error_list[: 3])\n",
    "    print(error_count)\n",
    "    return clean_names"
   ]
  },
  {
   "cell_type": "code",
   "execution_count": 8,
   "metadata": {},
   "outputs": [
    {
     "name": "stdout",
     "output_type": "stream",
     "text": [
      "0\n"
     ]
    }
   ],
   "source": [
    "clean_littlesis_names = cleanNames(littlesis_names)"
   ]
  },
  {
   "cell_type": "code",
   "execution_count": 9,
   "metadata": {},
   "outputs": [
    {
     "data": {
      "text/plain": [
       "'ROLAND A HERNANDEZ'"
      ]
     },
     "execution_count": 9,
     "metadata": {},
     "output_type": "execute_result"
    }
   ],
   "source": [
    "clean_littlesis_names[1024]"
   ]
  },
  {
   "cell_type": "code",
   "execution_count": 15,
   "metadata": {},
   "outputs": [
    {
     "name": "stdout",
     "output_type": "stream",
     "text": [
      "0\n"
     ]
    }
   ],
   "source": [
    "max_num = 1000  # max number of names from bipartite_all, change this value to change the size of the bipartite_all subset!\n",
    "# max_num = len(bipartite_names)  # select this to run for all names in bipartite-all\n",
    "bipartite_names_temp = {item[0]: item[1] for item in bipartite_names[: max_num] if item[1] is not None}  # create dict with ID:name for bipartite-all people if their name is not None, ID is the same as node ID in the nx object\n",
    "clean_bipartite_names = cleanNames(bipartite_names_temp)\n",
    "clean_bipartite_names_reverse = {clean_bipartite_names[i]: i for i in clean_bipartite_names}\n",
    "remaining_bipartite = len(clean_bipartite_names)"
   ]
  },
  {
   "cell_type": "code",
   "execution_count": 16,
   "metadata": {},
   "outputs": [
    {
     "name": "stdout",
     "output_type": "stream",
     "text": [
      "205548 740 740\n"
     ]
    }
   ],
   "source": [
    "print(len(clean_littlesis_names), len(clean_bipartite_names), len(clean_bipartite_names_reverse))"
   ]
  },
  {
   "cell_type": "markdown",
   "metadata": {},
   "source": [
    "#### Hash"
   ]
  },
  {
   "cell_type": "code",
   "execution_count": 17,
   "metadata": {},
   "outputs": [
    {
     "name": "stdout",
     "output_type": "stream",
     "text": [
      "Inserting 100 out of 740\n",
      "Inserting 200 out of 740\n",
      "Inserting 300 out of 740\n",
      "Inserting 400 out of 740\n",
      "Inserting 500 out of 740\n",
      "Inserting 600 out of 740\n",
      "Inserting 700 out of 740\n"
     ]
    }
   ],
   "source": [
    "count = 0\n",
    "lsh = MinHashLSH(threshold = 0.5, num_perm = 128)\n",
    "\n",
    "for name_id in clean_bipartite_names:\n",
    "    count += 1\n",
    "    if count % 100 == 0:\n",
    "        print('Inserting', count, 'out of', remaining_bipartite)\n",
    "    \n",
    "    p = MinHash(num_perm = 128)\n",
    "    \n",
    "    name = clean_bipartite_names[name_id]\n",
    "    \n",
    "    for name_split in name.split():\n",
    "        p.update(name_split.encode('utf-8'))\n",
    "        \n",
    "    lsh.insert(name, p)"
   ]
  },
  {
   "cell_type": "code",
   "execution_count": 18,
   "metadata": {},
   "outputs": [
    {
     "name": "stdout",
     "output_type": "stream",
     "text": [
      "Inserted 740 names from bipartite-all\n"
     ]
    }
   ],
   "source": [
    "del clean_bipartite_names\n",
    "print('Inserted', count, 'names from bipartite-all')"
   ]
  },
  {
   "cell_type": "markdown",
   "metadata": {},
   "source": [
    "#### Compare names"
   ]
  },
  {
   "cell_type": "code",
   "execution_count": 19,
   "metadata": {},
   "outputs": [],
   "source": [
    "def compareNames(person1, person2):\n",
    "    same_person_flag = False\n",
    "    \n",
    "    if person1 != person2:\n",
    "        names1 = person1.split()\n",
    "        names2 = person2.split()\n",
    "        \n",
    "        common_names = list(set(names1) & set(names2))  # intersection\n",
    "        \n",
    "        # we need names of min len = 3 to be same\n",
    "        common_names_min_len = [n for n in common_names if len(n) >= 3]\n",
    "        \n",
    "        neither = None\n",
    "        \n",
    "        try:\n",
    "            if len(common_names_min_len) > 1:  # if at least 2 names satisfy min len condition\n",
    "                if len(common_names) == len(names1) or len(common_names) == len(names2):\n",
    "                    same_person_flag = True\n",
    "\n",
    "                elif (len(names1) - len(common_names) == 1 or len(names2) - len(common_names) == 1) and (len(names1) - len(common_names) <= 2 or len(names2) - len(common_names) <= 2) and names1[0] == names2[0] and names1[-1] == names2[-1]:\n",
    "                    neither = list(set(names1).union(set(names2)) - (set(names1) & set(names2)))  # neither i.e. complement = union - intersection\n",
    "\n",
    "                    if len(neither) == 2 and (len(neither[0]) == 1 or len(neither[1] == 1)) and neither[0][0] == neither[1][0]:\n",
    "                        same_person_flag = True\n",
    "\n",
    "        except:\n",
    "            print(neither, type(neither), person1)\n",
    "    \n",
    "    elif person1 == person2:\n",
    "        same_person_flag = True\n",
    "    \n",
    "    return same_person_flag"
   ]
  },
  {
   "cell_type": "code",
   "execution_count": 21,
   "metadata": {},
   "outputs": [
    {
     "name": "stdout",
     "output_type": "stream",
     "text": [
      "0\n",
      "Done\n"
     ]
    }
   ],
   "source": [
    "count = 0\n",
    "matched_names = {}\n",
    "\n",
    "for name_id in clean_littlesis_names:  # for each name in littlesis data, find matches in the hash\n",
    "    count += 1\n",
    "    if count % 500 == 0:\n",
    "        print('Comparing', count)\n",
    "        \n",
    "    p = MinHash(num_perm = 128)\n",
    "    \n",
    "    name = clean_littlesis_names[name_id]\n",
    "    \n",
    "    for name_split in name.split():\n",
    "        p.update(name_split.encode('utf-8'))\n",
    "    \n",
    "    res = lsh.query(p)\n",
    "    \n",
    "    for bip_name in res:\n",
    "        same_person = compareNames(name, bip_name)\n",
    "        \n",
    "        if same_person:\n",
    "#             matched_names[name_id] = clean_bipartite_names_reverse[bip_name]\n",
    "            # handling multiple matches\n",
    "            if name_id in matched_names:\n",
    "                matched_names[name_id].append(clean_bipartite_names_reverse[bip_name])  # append if we've seen at least one match for name_id before\n",
    "            else:\n",
    "                matched_names[name_id] = [clean_bipartite_names_reverse[bip_name]]  # create a new list if it's the first match for name_id\n",
    "\n",
    "print(len(matched_names))\n",
    "\n",
    "with open(os.getcwd() + '/Pickle/matched_names.pickle', 'wb') as pkl:\n",
    "    pickle.dump(matched_names, pkl, pickle.HIGHEST_PROTOCOL)\n",
    "    \n",
    "print('Done')"
   ]
  },
  {
   "cell_type": "markdown",
   "metadata": {},
   "source": [
    "#### Parse results"
   ]
  },
  {
   "cell_type": "code",
   "execution_count": 10,
   "metadata": {},
   "outputs": [
    {
     "data": {
      "text/plain": [
       "118659"
      ]
     },
     "execution_count": 10,
     "metadata": {},
     "output_type": "execute_result"
    }
   ],
   "source": [
    "matched_names_res = {}\n",
    "\n",
    "with open(os.getcwd() + '/Pickle/matched_names.pickle', 'rb') as pkl:\n",
    "    matched_names_res = pickle.load(pkl)\n",
    "    \n",
    "len(matched_names_res)"
   ]
  },
  {
   "cell_type": "code",
   "execution_count": 11,
   "metadata": {},
   "outputs": [
    {
     "data": {
      "text/plain": [
       "[934460, 3191192]"
      ]
     },
     "execution_count": 11,
     "metadata": {},
     "output_type": "execute_result"
    }
   ],
   "source": [
    "matched_names_res[262150]  # key: LittleSis ent ID, value: list with node IDs from bipartite-all"
   ]
  },
  {
   "cell_type": "code",
   "execution_count": 12,
   "metadata": {},
   "outputs": [
    {
     "data": {
      "text/plain": [
       "'THOMAS ROONEY'"
      ]
     },
     "execution_count": 12,
     "metadata": {},
     "output_type": "execute_result"
    }
   ],
   "source": [
    "clean_littlesis_names[262150]"
   ]
  },
  {
   "cell_type": "code",
   "execution_count": 13,
   "metadata": {},
   "outputs": [
    {
     "name": "stdout",
     "output_type": "stream",
     "text": [
      "THOMAS J ROONEY\n",
      "THOMAS M ROONEY\n"
     ]
    }
   ],
   "source": [
    "for i in matched_names_res[262150]:\n",
    "    print(bipartite_all.nodes[i]['name'])"
   ]
  },
  {
   "cell_type": "markdown",
   "metadata": {},
   "source": [
    "For every key i.e. LittleSis name in matched_names, we need the filtered LittleSis relations for that key"
   ]
  },
  {
   "cell_type": "code",
   "execution_count": 14,
   "metadata": {},
   "outputs": [
    {
     "data": {
      "text/plain": [
       "(1230815, 15)"
      ]
     },
     "execution_count": 14,
     "metadata": {},
     "output_type": "execute_result"
    }
   ],
   "source": [
    "rels = pd.read_pickle(os.getcwd() + '/Pickle/all_rels.pkl')  # read LittleSis relationships\n",
    "rels.shape"
   ]
  },
  {
   "cell_type": "code",
   "execution_count": 15,
   "metadata": {},
   "outputs": [
    {
     "data": {
      "text/plain": [
       "(284500, 13)"
      ]
     },
     "execution_count": 15,
     "metadata": {},
     "output_type": "execute_result"
    }
   ],
   "source": [
    "ents = pd.read_pickle(os.getcwd() + '/Pickle/all_entities.pkl')  # read LittleSis entities\n",
    "ents.shape"
   ]
  },
  {
   "cell_type": "code",
   "execution_count": 16,
   "metadata": {},
   "outputs": [
    {
     "data": {
      "text/plain": [
       "(118659, 13)"
      ]
     },
     "execution_count": 16,
     "metadata": {},
     "output_type": "execute_result"
    }
   ],
   "source": [
    "matched_ents = ents[ents['id'].isin(matched_names_res.keys())]  # keep only those ents that appear in matched_names_res\n",
    "matched_ents.shape  # same len as matched_names_res"
   ]
  },
  {
   "cell_type": "code",
   "execution_count": 17,
   "metadata": {},
   "outputs": [
    {
     "name": "stdout",
     "output_type": "stream",
     "text": [
      "Policy/Think Tank\n"
     ]
    }
   ],
   "source": [
    "type_val_counts = matched_ents.explode('types')['types'].value_counts()\n",
    "reqd_types = ['Philanthropy', 'Other Not-for-Profit', 'Academic Research Institute', 'School', 'Cultural/Arts', 'Policy/Think Tank']  # 'Academic' has been removed\n",
    "count = 0\n",
    "\n",
    "for i in type_val_counts.index:\n",
    "    if i in reqd_types:\n",
    "        print(i)\n",
    "        count += 1\n",
    "        \n",
    "if count == 0:\n",
    "    print('None present')"
   ]
  },
  {
   "cell_type": "code",
   "execution_count": 18,
   "metadata": {},
   "outputs": [
    {
     "data": {
      "text/html": [
       "<div>\n",
       "<style scoped>\n",
       "    .dataframe tbody tr th:only-of-type {\n",
       "        vertical-align: middle;\n",
       "    }\n",
       "\n",
       "    .dataframe tbody tr th {\n",
       "        vertical-align: top;\n",
       "    }\n",
       "\n",
       "    .dataframe thead th {\n",
       "        text-align: right;\n",
       "    }\n",
       "</style>\n",
       "<table border=\"1\" class=\"dataframe\">\n",
       "  <thead>\n",
       "    <tr style=\"text-align: right;\">\n",
       "      <th></th>\n",
       "      <th>summary</th>\n",
       "      <th>parent_id</th>\n",
       "      <th>extensions</th>\n",
       "      <th>website</th>\n",
       "      <th>name</th>\n",
       "      <th>primary_ext</th>\n",
       "      <th>aliases</th>\n",
       "      <th>blurb</th>\n",
       "      <th>types</th>\n",
       "      <th>updated_at</th>\n",
       "      <th>id</th>\n",
       "      <th>start_date</th>\n",
       "      <th>end_date</th>\n",
       "    </tr>\n",
       "  </thead>\n",
       "  <tbody>\n",
       "    <tr>\n",
       "      <th>339139</th>\n",
       "      <td>None</td>\n",
       "      <td>NaN</td>\n",
       "      <td>{'Person': {'name_nick': None, 'nationality': ...</td>\n",
       "      <td>None</td>\n",
       "      <td>Nicole Theis</td>\n",
       "      <td>Person</td>\n",
       "      <td>[Nicole Theis]</td>\n",
       "      <td>founder and president of the Delaware Family ...</td>\n",
       "      <td>[Person, Lobbyist, Lobbying Firm, Policy/Think...</td>\n",
       "      <td>2019-02-12T21:10:10Z</td>\n",
       "      <td>339139</td>\n",
       "      <td>None</td>\n",
       "      <td>None</td>\n",
       "    </tr>\n",
       "  </tbody>\n",
       "</table>\n",
       "</div>"
      ],
      "text/plain": [
       "       summary  parent_id                                         extensions  \\\n",
       "339139    None        NaN  {'Person': {'name_nick': None, 'nationality': ...   \n",
       "\n",
       "       website          name primary_ext         aliases  \\\n",
       "339139    None  Nicole Theis      Person  [Nicole Theis]   \n",
       "\n",
       "                                                    blurb  \\\n",
       "339139   founder and president of the Delaware Family ...   \n",
       "\n",
       "                                                    types  \\\n",
       "339139  [Person, Lobbyist, Lobbying Firm, Policy/Think...   \n",
       "\n",
       "                  updated_at      id start_date end_date  \n",
       "339139  2019-02-12T21:10:10Z  339139       None     None  "
      ]
     },
     "execution_count": 18,
     "metadata": {},
     "output_type": "execute_result"
    }
   ],
   "source": [
    "def filterByType(df):  # returns indices of rows that satisfy the filter by 'type' criterion\n",
    "    \n",
    "    df_exploded = df.explode('types')\n",
    "    \n",
    "    return df_exploded[df_exploded['types'].isin(reqd_types)].index\n",
    "\n",
    "index_to_keep = filterByType(matched_ents)\n",
    "filtered_ents = ents.loc[index_to_keep]\n",
    "filtered_ents"
   ]
  },
  {
   "cell_type": "markdown",
   "metadata": {},
   "source": [
    "^Only one of the matched_ents fits the filter we defined."
   ]
  },
  {
   "cell_type": "code",
   "execution_count": 19,
   "metadata": {},
   "outputs": [
    {
     "data": {
      "text/plain": [
       "(861244, 15)"
      ]
     },
     "execution_count": 19,
     "metadata": {},
     "output_type": "execute_result"
    }
   ],
   "source": [
    "matched_rels = rels[rels['entity1_id'].isin(matched_ents['id']) | rels['entity2_id'].isin(matched_ents['id'])]  # keep only relationships where at least one node appears in matched_ents\n",
    "matched_rels.shape"
   ]
  },
  {
   "cell_type": "code",
   "execution_count": 20,
   "metadata": {},
   "outputs": [
    {
     "data": {
      "text/plain": [
       "118659"
      ]
     },
     "execution_count": 20,
     "metadata": {},
     "output_type": "execute_result"
    }
   ],
   "source": [
    "matched_res_counter = {i: {j: 0 for j in matched_names_res[i]} for i in matched_names_res}  # {littlesis id: {bipartite-all id: 0, ...}, ...}\n",
    "len(matched_res_counter)"
   ]
  },
  {
   "cell_type": "code",
   "execution_count": 21,
   "metadata": {},
   "outputs": [],
   "source": [
    "# matched_names_res[262150]"
   ]
  },
  {
   "cell_type": "code",
   "execution_count": 23,
   "metadata": {},
   "outputs": [],
   "source": [
    "# matched_res_counter"
   ]
  },
  {
   "cell_type": "code",
   "execution_count": 22,
   "metadata": {},
   "outputs": [
    {
     "data": {
      "text/plain": [
       "{262150: {934460: 0, 3191192: 0},\n",
       " 262173: {5086: 0, 942152: 0, 3149304: 0, 695971: 0, 2827107: 0, 1095414: 0},\n",
       " 262197: {1670657: 0, 59093: 0, 1827625: 0, 1933255: 0, 298289: 0}}"
      ]
     },
     "execution_count": 22,
     "metadata": {},
     "output_type": "execute_result"
    }
   ],
   "source": [
    "# temp_d = {262150: {934460: 0, 3191192: 0}}\n",
    "temp_d = {\n",
    "    262150: {934460: 0, 3191192: 0},\n",
    "    262173: {5086: 0, 942152: 0, 3149304: 0, 695971: 0, 2827107: 0, 1095414: 0},\n",
    "    262197: {1670657: 0, 59093: 0, 1827625: 0, 1933255: 0, 298289: 0}\n",
    "         }\n",
    "\n",
    "temp_d"
   ]
  },
  {
   "cell_type": "code",
   "execution_count": 24,
   "metadata": {},
   "outputs": [
    {
     "name": "stdout",
     "output_type": "stream",
     "text": [
      "GREATER GUSTAVUS FUND\n",
      "GUSTAVUS ADOLPHUS COLLEGE\n",
      "NY POLICE AND FIRE WIDOWS & CHILDREN'S BENEFIT FUND, INC.\n",
      "POLISH FALCONS AID SOCIETY\n",
      "NATIONAL ASSOCIATION OF LETTER CARRIERS\n",
      "CHILDREN'S PLACE AT HOME SAFE, INC.\n"
     ]
    }
   ],
   "source": [
    "for i in bipartite_all[934460]:\n",
    "    print(bipartite_all.nodes[i]['Uppername'])"
   ]
  },
  {
   "cell_type": "code",
   "execution_count": 25,
   "metadata": {},
   "outputs": [
    {
     "data": {
      "text/html": [
       "<div>\n",
       "<style scoped>\n",
       "    .dataframe tbody tr th:only-of-type {\n",
       "        vertical-align: middle;\n",
       "    }\n",
       "\n",
       "    .dataframe tbody tr th {\n",
       "        vertical-align: top;\n",
       "    }\n",
       "\n",
       "    .dataframe thead th {\n",
       "        text-align: right;\n",
       "    }\n",
       "</style>\n",
       "<table border=\"1\" class=\"dataframe\">\n",
       "  <thead>\n",
       "    <tr style=\"text-align: right;\">\n",
       "      <th></th>\n",
       "      <th>category_id</th>\n",
       "      <th>description2</th>\n",
       "      <th>id</th>\n",
       "      <th>description</th>\n",
       "      <th>entity1_id</th>\n",
       "      <th>is_current</th>\n",
       "      <th>updated_at</th>\n",
       "      <th>entity2_id</th>\n",
       "      <th>currency</th>\n",
       "      <th>start_date</th>\n",
       "      <th>amount</th>\n",
       "      <th>goods</th>\n",
       "      <th>description1</th>\n",
       "      <th>end_date</th>\n",
       "      <th>filings</th>\n",
       "    </tr>\n",
       "  </thead>\n",
       "  <tbody>\n",
       "    <tr>\n",
       "      <th>1295038</th>\n",
       "      <td>1</td>\n",
       "      <td>None</td>\n",
       "      <td>1295038</td>\n",
       "      <td>Thomas Rooney  has/had a position (Board) at  ...</td>\n",
       "      <td>262150</td>\n",
       "      <td>None</td>\n",
       "      <td>2017-04-29T03:20:45Z</td>\n",
       "      <td>216413</td>\n",
       "      <td>None</td>\n",
       "      <td>None</td>\n",
       "      <td>NaN</td>\n",
       "      <td>None</td>\n",
       "      <td>Board</td>\n",
       "      <td>None</td>\n",
       "      <td>NaN</td>\n",
       "    </tr>\n",
       "    <tr>\n",
       "      <th>1295039</th>\n",
       "      <td>1</td>\n",
       "      <td>None</td>\n",
       "      <td>1295039</td>\n",
       "      <td>Thomas Rooney  has/had a position (Superintend...</td>\n",
       "      <td>262150</td>\n",
       "      <td>None</td>\n",
       "      <td>2017-04-29T03:22:33Z</td>\n",
       "      <td>262149</td>\n",
       "      <td>None</td>\n",
       "      <td>None</td>\n",
       "      <td>NaN</td>\n",
       "      <td>None</td>\n",
       "      <td>Superintendent</td>\n",
       "      <td>None</td>\n",
       "      <td>NaN</td>\n",
       "    </tr>\n",
       "  </tbody>\n",
       "</table>\n",
       "</div>"
      ],
      "text/plain": [
       "         category_id description2       id  \\\n",
       "1295038            1         None  1295038   \n",
       "1295039            1         None  1295039   \n",
       "\n",
       "                                               description  entity1_id  \\\n",
       "1295038  Thomas Rooney  has/had a position (Board) at  ...      262150   \n",
       "1295039  Thomas Rooney  has/had a position (Superintend...      262150   \n",
       "\n",
       "        is_current            updated_at  entity2_id currency start_date  \\\n",
       "1295038       None  2017-04-29T03:20:45Z      216413     None       None   \n",
       "1295039       None  2017-04-29T03:22:33Z      262149     None       None   \n",
       "\n",
       "         amount goods    description1 end_date  filings  \n",
       "1295038     NaN  None           Board     None      NaN  \n",
       "1295039     NaN  None  Superintendent     None      NaN  "
      ]
     },
     "execution_count": 25,
     "metadata": {},
     "output_type": "execute_result"
    }
   ],
   "source": [
    "x = matched_rels[matched_rels['entity1_id'].isin([262150]) | matched_rels['entity2_id'].isin([262150])]\n",
    "x  # all relationships with the LittleSis ID which is a key in matched_names_res"
   ]
  },
  {
   "cell_type": "code",
   "execution_count": 26,
   "metadata": {},
   "outputs": [
    {
     "data": {
      "text/plain": [
       "1295038    216413\n",
       "1295039    262149\n",
       "dtype: int64"
      ]
     },
     "execution_count": 26,
     "metadata": {},
     "output_type": "execute_result"
    }
   ],
   "source": [
    "y = x[x['entity1_id'] != 262150]['entity1_id'].append(x[x['entity2_id'] != 262150]['entity2_id'])\n",
    "y  # all related entity IDs to the above ent"
   ]
  },
  {
   "cell_type": "code",
   "execution_count": 27,
   "metadata": {},
   "outputs": [
    {
     "data": {
      "text/html": [
       "<div>\n",
       "<style scoped>\n",
       "    .dataframe tbody tr th:only-of-type {\n",
       "        vertical-align: middle;\n",
       "    }\n",
       "\n",
       "    .dataframe tbody tr th {\n",
       "        vertical-align: top;\n",
       "    }\n",
       "\n",
       "    .dataframe thead th {\n",
       "        text-align: right;\n",
       "    }\n",
       "</style>\n",
       "<table border=\"1\" class=\"dataframe\">\n",
       "  <thead>\n",
       "    <tr style=\"text-align: right;\">\n",
       "      <th></th>\n",
       "      <th>name</th>\n",
       "      <th>id</th>\n",
       "    </tr>\n",
       "  </thead>\n",
       "  <tbody>\n",
       "    <tr>\n",
       "      <th>262149</th>\n",
       "      <td>LINDSAY UNIFIED SCHOOL DISTRICT</td>\n",
       "      <td>262149</td>\n",
       "    </tr>\n",
       "  </tbody>\n",
       "</table>\n",
       "</div>"
      ],
      "text/plain": [
       "                                   name      id\n",
       "262149  LINDSAY UNIFIED SCHOOL DISTRICT  262149"
      ]
     },
     "execution_count": 27,
     "metadata": {},
     "output_type": "execute_result"
    }
   ],
   "source": [
    "z = ents[ents['id'].isin(y)][['name', 'id']]\n",
    "z['name'] = z['name'].apply(lambda x: x.upper())\n",
    "z"
   ]
  },
  {
   "cell_type": "code",
   "execution_count": 32,
   "metadata": {},
   "outputs": [],
   "source": [
    "def counting_rels_direct():  # compare LittleSis relations with bipartite-all relations\n",
    "    i = 0\n",
    "#     for ent_id in matched_res_counter:\n",
    "    for ent_id in temp_d:\n",
    "\n",
    "        i += 1\n",
    "        if i % 100 == 0:\n",
    "            print(i)\n",
    "        \n",
    "        relations = matched_rels[matched_rels['entity1_id'].isin([ent_id]) | matched_rels['entity2_id'].isin([ent_id])]\n",
    "        related_ents_id = relations[relations['entity1_id'] != ent_id]['entity1_id'].append(relations[relations['entity2_id'] != ent_id]['entity2_id'])\n",
    "        related_ents = ents[ents['id'].isin(related_ents_id)][['name', 'id']]\n",
    "        related_ents_names = set(related_ents['name'].apply(lambda x: x.upper()))  # convert names to uppercase\n",
    "        \n",
    "#         for bip_match in matched_res_counter[ent_id]:\n",
    "        for bip_match in temp_d[ent_id]:\n",
    "            names = set([bipartite_all.nodes[i]['Uppername'] for i in bipartite_all[bip_match]])\n",
    "            \n",
    "#             matched_res_counter[ent_id][bip_match] = len(related_ents_names.intersection(names))  # set count to number of common names\n",
    "            temp_d[ent_id][bip_match] = len(related_ents_names.intersection(names))  # set count to number of common names\n",
    "\n",
    "        print(i, related_ents_names)"
   ]
  },
  {
   "cell_type": "code",
   "execution_count": 35,
   "metadata": {},
   "outputs": [
    {
     "data": {
      "text/plain": [
       "{262150: {934460: 0, 3191192: 0},\n",
       " 262173: {5086: 0, 942152: 0, 3149304: 0, 695971: 0, 2827107: 0, 1095414: 0},\n",
       " 262197: {1670657: 0, 59093: 0, 1827625: 0, 1933255: 0, 298289: 0}}"
      ]
     },
     "execution_count": 35,
     "metadata": {},
     "output_type": "execute_result"
    }
   ],
   "source": [
    "temp_d = {262150: {934460: 0, 3191192: 0},\n",
    " 262173: {5086: 0, 942152: 0, 3149304: 0, 695971: 0, 2827107: 0, 1095414: 0},\n",
    " 262197: {1670657: 0, 59093: 0, 1827625: 0, 1933255: 0, 298289: 0}}\n",
    "\n",
    "temp_d"
   ]
  },
  {
   "cell_type": "code",
   "execution_count": 39,
   "metadata": {},
   "outputs": [],
   "source": [
    "def counting_rels_hash():  # compare LittleSis relations with bipartite-all relations using a hash\n",
    "    i = 0\n",
    "#     for ent_id in matched_res_counter:\n",
    "    for ent_id in temp_d:\n",
    "\n",
    "        i += 1\n",
    "        if i % 100 == 0:\n",
    "            print(i)\n",
    "        \n",
    "        relations = matched_rels[matched_rels['entity1_id'].isin([ent_id]) | matched_rels['entity2_id'].isin([ent_id])]\n",
    "        related_ents_id = relations[relations['entity1_id'] != ent_id]['entity1_id'].append(relations[relations['entity2_id'] != ent_id]['entity2_id'])\n",
    "        related_ents = ents[ents['id'].isin(related_ents_id)][['name', 'id']]\n",
    "        related_ents_names = set(related_ents['name'].apply(lambda x: x.upper()))  # convert names to uppercase\n",
    "        \n",
    "        lsh = MinHashLSH(threshold = 0.5, num_perm = 128)\n",
    "        \n",
    "        # insert LittleSis ents names related to current ent_id into hash\n",
    "        for n in related_ents_names:\n",
    "            p = MinHash(num_perm = 128)\n",
    "            \n",
    "            for n_split in n.split():\n",
    "                p.update(n_split.encode('utf-8'))\n",
    "                \n",
    "            lsh.insert(n, p)\n",
    "        \n",
    "#         for bip_match in matched_res_counter[ent_id]:\n",
    "        for bip_match in temp_d[ent_id]:\n",
    "            names = set([bipartite_all.nodes[i]['Uppername'] for i in bipartite_all[bip_match]])\n",
    "            \n",
    "#             matched_res_counter[ent_id][bip_match] = len(related_ents_names.intersection(names))  # set count to number of common names\n",
    "#             temp_d[ent_id][bip_match] = len(related_ents_names.intersection(names))  # set count to number of common names\n",
    "\n",
    "            for bip_name in names:\n",
    "                p = MinHash(num_perm = 128)\n",
    "            \n",
    "                for bip_name_split in bip_name.split():\n",
    "                    p.update(bip_name_split.encode('utf-8'))\n",
    "                    \n",
    "                res = lsh.query(p)\n",
    "                \n",
    "                for res_name in res:\n",
    "                    if bip_name == res_name:\n",
    "                        temp_d[ent_id][bip_match] += 1\n",
    "\n",
    "        print(i, related_ents_names)"
   ]
  },
  {
   "cell_type": "code",
   "execution_count": 33,
   "metadata": {},
   "outputs": [
    {
     "name": "stdout",
     "output_type": "stream",
     "text": [
      "1 {'LINDSAY UNIFIED SCHOOL DISTRICT'}\n",
      "2 {'BEN RHODES'}\n",
      "3 {'IDENTITY EVROPA', 'WILLIAM CLARK', 'CHAD TURNER'}\n"
     ]
    }
   ],
   "source": [
    "counting_rels_direct()"
   ]
  },
  {
   "cell_type": "code",
   "execution_count": 40,
   "metadata": {},
   "outputs": [
    {
     "name": "stdout",
     "output_type": "stream",
     "text": [
      "1 {'LINDSAY UNIFIED SCHOOL DISTRICT'}\n",
      "2 {'BEN RHODES'}\n",
      "3 {'IDENTITY EVROPA', 'WILLIAM CLARK', 'CHAD TURNER'}\n"
     ]
    }
   ],
   "source": [
    "counting_rels_hash()"
   ]
  },
  {
   "cell_type": "code",
   "execution_count": 41,
   "metadata": {},
   "outputs": [
    {
     "data": {
      "text/plain": [
       "{262150: {934460: 0, 3191192: 0},\n",
       " 262173: {5086: 0, 942152: 0, 3149304: 0, 695971: 0, 2827107: 0, 1095414: 0},\n",
       " 262197: {1670657: 0, 59093: 0, 1827625: 0, 1933255: 0, 298289: 0}}"
      ]
     },
     "execution_count": 41,
     "metadata": {},
     "output_type": "execute_result"
    }
   ],
   "source": [
    "temp_d"
   ]
  },
  {
   "cell_type": "code",
   "execution_count": 65,
   "metadata": {},
   "outputs": [],
   "source": [
    "# 33551 in matched_names_res  # Bill and Melinda Gates Foundation: False\n",
    "# 1526 in matched_names_res  # Bill Gates: True\n",
    "# matched_names_res[1526]\n",
    "# 15367 in matched_names_res\n",
    "# ents[ents['id'] == 15367]\n",
    "# a = [node for node in bipartite_all if 'Uppername' in bipartite_all.nodes[node] and bipartite_all.nodes[node]['Uppername']]\n",
    "a = [node for node in bipartite_all if 'Uppername' in bipartite_all.nodes[node] and  'NORTHEASTERN UNIVERSITY' in bipartite_all.nodes[node]['Uppername']]"
   ]
  },
  {
   "cell_type": "code",
   "execution_count": 68,
   "metadata": {},
   "outputs": [
    {
     "data": {
      "text/html": [
       "<div>\n",
       "<style scoped>\n",
       "    .dataframe tbody tr th:only-of-type {\n",
       "        vertical-align: middle;\n",
       "    }\n",
       "\n",
       "    .dataframe tbody tr th {\n",
       "        vertical-align: top;\n",
       "    }\n",
       "\n",
       "    .dataframe thead th {\n",
       "        text-align: right;\n",
       "    }\n",
       "</style>\n",
       "<table border=\"1\" class=\"dataframe\">\n",
       "  <thead>\n",
       "    <tr style=\"text-align: right;\">\n",
       "      <th></th>\n",
       "      <th>summary</th>\n",
       "      <th>parent_id</th>\n",
       "      <th>extensions</th>\n",
       "      <th>website</th>\n",
       "      <th>name</th>\n",
       "      <th>primary_ext</th>\n",
       "      <th>aliases</th>\n",
       "      <th>blurb</th>\n",
       "      <th>types</th>\n",
       "      <th>updated_at</th>\n",
       "      <th>id</th>\n",
       "      <th>start_date</th>\n",
       "      <th>end_date</th>\n",
       "    </tr>\n",
       "  </thead>\n",
       "  <tbody>\n",
       "    <tr>\n",
       "      <th>15367</th>\n",
       "      <td>None</td>\n",
       "      <td>NaN</td>\n",
       "      <td>{'Org': {'name_nick': None, 'name': 'Northeast...</td>\n",
       "      <td>None</td>\n",
       "      <td>Northeastern University</td>\n",
       "      <td>Org</td>\n",
       "      <td>[Northeastern University]</td>\n",
       "      <td>None</td>\n",
       "      <td>[Organization, School]</td>\n",
       "      <td>2020-06-15T21:58:42Z</td>\n",
       "      <td>15367</td>\n",
       "      <td>None</td>\n",
       "      <td>None</td>\n",
       "    </tr>\n",
       "  </tbody>\n",
       "</table>\n",
       "</div>"
      ],
      "text/plain": [
       "      summary  parent_id                                         extensions  \\\n",
       "15367    None        NaN  {'Org': {'name_nick': None, 'name': 'Northeast...   \n",
       "\n",
       "      website                     name primary_ext                    aliases  \\\n",
       "15367    None  Northeastern University         Org  [Northeastern University]   \n",
       "\n",
       "      blurb                   types            updated_at     id start_date  \\\n",
       "15367  None  [Organization, School]  2020-06-15T21:58:42Z  15367       None   \n",
       "\n",
       "      end_date  \n",
       "15367     None  "
      ]
     },
     "execution_count": 68,
     "metadata": {},
     "output_type": "execute_result"
    }
   ],
   "source": [
    "ents[ents['id'] == 15367]"
   ]
  },
  {
   "cell_type": "code",
   "execution_count": null,
   "metadata": {},
   "outputs": [],
   "source": [
    "[(9726710, 'BILL & MELINDA GATES MEDICAL RESEARCH INSTITUTE'),\n",
    " (7863433, 'BILL & MELINDA GATES FOUNDATION'),\n",
    " (8330328, 'BILL & MELINDA GATES FOUNDATION TRUST')]\n",
    "\n",
    "# also David Rubenstein, Sharon P Rockefeller <-- fix spellings"
   ]
  },
  {
   "cell_type": "code",
   "execution_count": 66,
   "metadata": {},
   "outputs": [
    {
     "data": {
      "text/plain": [
       "[6819740]"
      ]
     },
     "execution_count": 66,
     "metadata": {},
     "output_type": "execute_result"
    }
   ],
   "source": [
    "a"
   ]
  },
  {
   "cell_type": "code",
   "execution_count": 69,
   "metadata": {},
   "outputs": [
    {
     "data": {
      "text/plain": [
       "{'degree': 17,\n",
       " 'name': 'JOSEPH GALLO',\n",
       " 'is_trustee': True,\n",
       " 'is_employee': True,\n",
       " 'bipartite': 1}"
      ]
     },
     "execution_count": 69,
     "metadata": {},
     "output_type": "execute_result"
    }
   ],
   "source": [
    "bipartite_all.nodes[0]"
   ]
  },
  {
   "cell_type": "code",
   "execution_count": 67,
   "metadata": {},
   "outputs": [
    {
     "data": {
      "text/plain": [
       "{'degree': 69,\n",
       " 'assets_total': 2991273000.0,\n",
       " 'revenue_investments': '81124512.0',\n",
       " 'rev_govt_grants': 115396102.0,\n",
       " 'naics_code': '611310',\n",
       " 'year_founded': nan,\n",
       " 'address_line_1': '360 Huntington Avenue',\n",
       " 'num_employees': 4471.0,\n",
       " 'city': 'Boston',\n",
       " 'expenses_total': 1536933716.0,\n",
       " 'total_revenue': 1691438907.0,\n",
       " 'sic_code': '8221',\n",
       " 'deductibility_code': '1',\n",
       " 'zip': '02115',\n",
       " 'ntee_code': 'B40',\n",
       " 'bipartite': 0,\n",
       " 'state': 'MA',\n",
       " 'Uppername': 'NORTHEASTERN UNIVERSITY',\n",
       " 'num_volunteers': 1000.0,\n",
       " 'ein': '04-1679980',\n",
       " 'revenue_contributions': 64844898.0,\n",
       " 'employees_over_100k': 20.0}"
      ]
     },
     "execution_count": 67,
     "metadata": {},
     "output_type": "execute_result"
    }
   ],
   "source": [
    "bipartite_all.nodes[6819740]"
   ]
  },
  {
   "cell_type": "code",
   "execution_count": 57,
   "metadata": {},
   "outputs": [
    {
     "data": {
      "text/html": [
       "<div>\n",
       "<style scoped>\n",
       "    .dataframe tbody tr th:only-of-type {\n",
       "        vertical-align: middle;\n",
       "    }\n",
       "\n",
       "    .dataframe tbody tr th {\n",
       "        vertical-align: top;\n",
       "    }\n",
       "\n",
       "    .dataframe thead th {\n",
       "        text-align: right;\n",
       "    }\n",
       "</style>\n",
       "<table border=\"1\" class=\"dataframe\">\n",
       "  <thead>\n",
       "    <tr style=\"text-align: right;\">\n",
       "      <th></th>\n",
       "      <th>category_id</th>\n",
       "      <th>description2</th>\n",
       "      <th>id</th>\n",
       "      <th>description</th>\n",
       "      <th>entity1_id</th>\n",
       "      <th>is_current</th>\n",
       "      <th>updated_at</th>\n",
       "      <th>entity2_id</th>\n",
       "      <th>currency</th>\n",
       "      <th>start_date</th>\n",
       "      <th>amount</th>\n",
       "      <th>goods</th>\n",
       "      <th>description1</th>\n",
       "      <th>end_date</th>\n",
       "      <th>filings</th>\n",
       "    </tr>\n",
       "  </thead>\n",
       "  <tbody>\n",
       "    <tr>\n",
       "      <th>92982</th>\n",
       "      <td>1</td>\n",
       "      <td>Founder</td>\n",
       "      <td>92982</td>\n",
       "      <td>Bill Gates  had a position (Non-Independent Di...</td>\n",
       "      <td>1526</td>\n",
       "      <td>False</td>\n",
       "      <td>2018-04-23T14:38:26Z</td>\n",
       "      <td>44</td>\n",
       "      <td>None</td>\n",
       "      <td>None</td>\n",
       "      <td>NaN</td>\n",
       "      <td>None</td>\n",
       "      <td>Non-Independent Director (Board of Directors),...</td>\n",
       "      <td>2015-00-00</td>\n",
       "      <td>NaN</td>\n",
       "    </tr>\n",
       "    <tr>\n",
       "      <th>131383</th>\n",
       "      <td>8</td>\n",
       "      <td>Friend (bridge partner)</td>\n",
       "      <td>131383</td>\n",
       "      <td>Warren Buffett  and  Bill Gates  are/were Frie...</td>\n",
       "      <td>14923</td>\n",
       "      <td>None</td>\n",
       "      <td>2009-09-08T09:57:12Z</td>\n",
       "      <td>1526</td>\n",
       "      <td>None</td>\n",
       "      <td>None</td>\n",
       "      <td>NaN</td>\n",
       "      <td>None</td>\n",
       "      <td>Friend (bridge partner)</td>\n",
       "      <td>None</td>\n",
       "      <td>NaN</td>\n",
       "    </tr>\n",
       "    <tr>\n",
       "      <th>185527</th>\n",
       "      <td>1</td>\n",
       "      <td>Co-chair and Trustee</td>\n",
       "      <td>185527</td>\n",
       "      <td>Bill Gates  has a position (Co-chair and Trust...</td>\n",
       "      <td>1526</td>\n",
       "      <td>True</td>\n",
       "      <td>2009-11-19T15:46:32Z</td>\n",
       "      <td>33551</td>\n",
       "      <td>None</td>\n",
       "      <td>None</td>\n",
       "      <td>NaN</td>\n",
       "      <td>None</td>\n",
       "      <td>Co-chair and Trustee</td>\n",
       "      <td>None</td>\n",
       "      <td>NaN</td>\n",
       "    </tr>\n",
       "    <tr>\n",
       "      <th>185528</th>\n",
       "      <td>4</td>\n",
       "      <td>husband</td>\n",
       "      <td>185528</td>\n",
       "      <td>Melinda French Gates  and  Bill Gates  are in ...</td>\n",
       "      <td>7850</td>\n",
       "      <td>True</td>\n",
       "      <td>2009-11-19T15:48:29Z</td>\n",
       "      <td>1526</td>\n",
       "      <td>None</td>\n",
       "      <td>None</td>\n",
       "      <td>NaN</td>\n",
       "      <td>None</td>\n",
       "      <td>wife</td>\n",
       "      <td>None</td>\n",
       "      <td>NaN</td>\n",
       "    </tr>\n",
       "    <tr>\n",
       "      <th>185533</th>\n",
       "      <td>4</td>\n",
       "      <td>son</td>\n",
       "      <td>185533</td>\n",
       "      <td>William H Gates Sr  and  Bill Gates  are in a ...</td>\n",
       "      <td>1745</td>\n",
       "      <td>True</td>\n",
       "      <td>2009-11-19T15:52:15Z</td>\n",
       "      <td>1526</td>\n",
       "      <td>None</td>\n",
       "      <td>None</td>\n",
       "      <td>NaN</td>\n",
       "      <td>None</td>\n",
       "      <td>father</td>\n",
       "      <td>None</td>\n",
       "      <td>NaN</td>\n",
       "    </tr>\n",
       "    <tr>\n",
       "      <th>...</th>\n",
       "      <td>...</td>\n",
       "      <td>...</td>\n",
       "      <td>...</td>\n",
       "      <td>...</td>\n",
       "      <td>...</td>\n",
       "      <td>...</td>\n",
       "      <td>...</td>\n",
       "      <td>...</td>\n",
       "      <td>...</td>\n",
       "      <td>...</td>\n",
       "      <td>...</td>\n",
       "      <td>...</td>\n",
       "      <td>...</td>\n",
       "      <td>...</td>\n",
       "      <td>...</td>\n",
       "    </tr>\n",
       "    <tr>\n",
       "      <th>1651365</th>\n",
       "      <td>12</td>\n",
       "      <td>Attended / Co-Host</td>\n",
       "      <td>1651365</td>\n",
       "      <td>The Good Club  and  Bill Gates  have/had a gen...</td>\n",
       "      <td>368337</td>\n",
       "      <td>None</td>\n",
       "      <td>2020-02-26T14:22:41Z</td>\n",
       "      <td>1526</td>\n",
       "      <td>None</td>\n",
       "      <td>2009-00-00</td>\n",
       "      <td>NaN</td>\n",
       "      <td>None</td>\n",
       "      <td>Launched by</td>\n",
       "      <td>None</td>\n",
       "      <td>NaN</td>\n",
       "    </tr>\n",
       "    <tr>\n",
       "      <th>1659626</th>\n",
       "      <td>6</td>\n",
       "      <td>Purchased Stock</td>\n",
       "      <td>1659626</td>\n",
       "      <td>Crown Castle International Corp.  and  Bill Ga...</td>\n",
       "      <td>59519</td>\n",
       "      <td>None</td>\n",
       "      <td>2020-04-07T23:14:46Z</td>\n",
       "      <td>1526</td>\n",
       "      <td>usd</td>\n",
       "      <td>2019-02-00</td>\n",
       "      <td>627000000.0</td>\n",
       "      <td>\\r\\nADVERTISEMENT\\r\\n\\r\\n  RSS Feed \\r\\nHOME\\r...</td>\n",
       "      <td>Purchased by</td>\n",
       "      <td>None</td>\n",
       "      <td>NaN</td>\n",
       "    </tr>\n",
       "    <tr>\n",
       "      <th>1659627</th>\n",
       "      <td>12</td>\n",
       "      <td>Investment Via Crown Castle</td>\n",
       "      <td>1659627</td>\n",
       "      <td>Bill Gates  and  5G  have/had a generic relati...</td>\n",
       "      <td>1526</td>\n",
       "      <td>None</td>\n",
       "      <td>2020-04-07T23:15:23Z</td>\n",
       "      <td>353549</td>\n",
       "      <td>None</td>\n",
       "      <td>2019-02-00</td>\n",
       "      <td>NaN</td>\n",
       "      <td>None</td>\n",
       "      <td>Invested in Infrastructure</td>\n",
       "      <td>None</td>\n",
       "      <td>NaN</td>\n",
       "    </tr>\n",
       "    <tr>\n",
       "      <th>1676411</th>\n",
       "      <td>12</td>\n",
       "      <td>At Opening</td>\n",
       "      <td>1676411</td>\n",
       "      <td>Bill and Melinda Gates Center For Computer Sci...</td>\n",
       "      <td>375363</td>\n",
       "      <td>None</td>\n",
       "      <td>2020-05-14T21:07:04Z</td>\n",
       "      <td>1526</td>\n",
       "      <td>None</td>\n",
       "      <td>2019-00-00</td>\n",
       "      <td>NaN</td>\n",
       "      <td>None</td>\n",
       "      <td>At Opening</td>\n",
       "      <td>None</td>\n",
       "      <td>NaN</td>\n",
       "    </tr>\n",
       "    <tr>\n",
       "      <th>1682054</th>\n",
       "      <td>12</td>\n",
       "      <td>partner</td>\n",
       "      <td>1682054</td>\n",
       "      <td>Lucis Trust  and  Bill Gates  have a generic r...</td>\n",
       "      <td>376896</td>\n",
       "      <td>True</td>\n",
       "      <td>2020-05-31T03:42:00Z</td>\n",
       "      <td>1526</td>\n",
       "      <td>None</td>\n",
       "      <td>None</td>\n",
       "      <td>NaN</td>\n",
       "      <td>None</td>\n",
       "      <td>None</td>\n",
       "      <td>None</td>\n",
       "      <td>NaN</td>\n",
       "    </tr>\n",
       "  </tbody>\n",
       "</table>\n",
       "<p>127 rows × 15 columns</p>\n",
       "</div>"
      ],
      "text/plain": [
       "         category_id                 description2       id  \\\n",
       "92982              1                      Founder    92982   \n",
       "131383             8      Friend (bridge partner)   131383   \n",
       "185527             1         Co-chair and Trustee   185527   \n",
       "185528             4                      husband   185528   \n",
       "185533             4                          son   185533   \n",
       "...              ...                          ...      ...   \n",
       "1651365           12           Attended / Co-Host  1651365   \n",
       "1659626            6              Purchased Stock  1659626   \n",
       "1659627           12  Investment Via Crown Castle  1659627   \n",
       "1676411           12                   At Opening  1676411   \n",
       "1682054           12                      partner  1682054   \n",
       "\n",
       "                                               description  entity1_id  \\\n",
       "92982    Bill Gates  had a position (Non-Independent Di...        1526   \n",
       "131383   Warren Buffett  and  Bill Gates  are/were Frie...       14923   \n",
       "185527   Bill Gates  has a position (Co-chair and Trust...        1526   \n",
       "185528   Melinda French Gates  and  Bill Gates  are in ...        7850   \n",
       "185533   William H Gates Sr  and  Bill Gates  are in a ...        1745   \n",
       "...                                                    ...         ...   \n",
       "1651365  The Good Club  and  Bill Gates  have/had a gen...      368337   \n",
       "1659626  Crown Castle International Corp.  and  Bill Ga...       59519   \n",
       "1659627  Bill Gates  and  5G  have/had a generic relati...        1526   \n",
       "1676411  Bill and Melinda Gates Center For Computer Sci...      375363   \n",
       "1682054  Lucis Trust  and  Bill Gates  have a generic r...      376896   \n",
       "\n",
       "        is_current            updated_at  entity2_id currency  start_date  \\\n",
       "92982        False  2018-04-23T14:38:26Z          44     None        None   \n",
       "131383        None  2009-09-08T09:57:12Z        1526     None        None   \n",
       "185527        True  2009-11-19T15:46:32Z       33551     None        None   \n",
       "185528        True  2009-11-19T15:48:29Z        1526     None        None   \n",
       "185533        True  2009-11-19T15:52:15Z        1526     None        None   \n",
       "...            ...                   ...         ...      ...         ...   \n",
       "1651365       None  2020-02-26T14:22:41Z        1526     None  2009-00-00   \n",
       "1659626       None  2020-04-07T23:14:46Z        1526      usd  2019-02-00   \n",
       "1659627       None  2020-04-07T23:15:23Z      353549     None  2019-02-00   \n",
       "1676411       None  2020-05-14T21:07:04Z        1526     None  2019-00-00   \n",
       "1682054       True  2020-05-31T03:42:00Z        1526     None        None   \n",
       "\n",
       "              amount                                              goods  \\\n",
       "92982            NaN                                               None   \n",
       "131383           NaN                                               None   \n",
       "185527           NaN                                               None   \n",
       "185528           NaN                                               None   \n",
       "185533           NaN                                               None   \n",
       "...              ...                                                ...   \n",
       "1651365          NaN                                               None   \n",
       "1659626  627000000.0  \\r\\nADVERTISEMENT\\r\\n\\r\\n  RSS Feed \\r\\nHOME\\r...   \n",
       "1659627          NaN                                               None   \n",
       "1676411          NaN                                               None   \n",
       "1682054          NaN                                               None   \n",
       "\n",
       "                                              description1    end_date  \\\n",
       "92982    Non-Independent Director (Board of Directors),...  2015-00-00   \n",
       "131383                             Friend (bridge partner)        None   \n",
       "185527                                Co-chair and Trustee        None   \n",
       "185528                                                wife        None   \n",
       "185533                                              father        None   \n",
       "...                                                    ...         ...   \n",
       "1651365                                        Launched by        None   \n",
       "1659626                                       Purchased by        None   \n",
       "1659627                         Invested in Infrastructure        None   \n",
       "1676411                                         At Opening        None   \n",
       "1682054                                               None        None   \n",
       "\n",
       "         filings  \n",
       "92982        NaN  \n",
       "131383       NaN  \n",
       "185527       NaN  \n",
       "185528       NaN  \n",
       "185533       NaN  \n",
       "...          ...  \n",
       "1651365      NaN  \n",
       "1659626      NaN  \n",
       "1659627      NaN  \n",
       "1676411      NaN  \n",
       "1682054      NaN  \n",
       "\n",
       "[127 rows x 15 columns]"
      ]
     },
     "execution_count": 57,
     "metadata": {},
     "output_type": "execute_result"
    }
   ],
   "source": [
    "x = matched_rels[matched_rels['entity1_id'].isin([1526]) | matched_rels['entity2_id'].isin([1526])]\n",
    "x"
   ]
  },
  {
   "cell_type": "code",
   "execution_count": 58,
   "metadata": {},
   "outputs": [
    {
     "data": {
      "text/plain": [
       "131383      14923\n",
       "185528       7850\n",
       "185533       1745\n",
       "748852     119578\n",
       "1002476      1757\n",
       "            ...  \n",
       "1646091     13485\n",
       "1646092     13592\n",
       "1646093     13731\n",
       "1646094     29942\n",
       "1659627    353549\n",
       "Length: 127, dtype: int64"
      ]
     },
     "execution_count": 58,
     "metadata": {},
     "output_type": "execute_result"
    }
   ],
   "source": [
    "y = x[x['entity1_id'] != 1526]['entity1_id'].append(x[x['entity2_id'] != 1526]['entity2_id'])\n",
    "y  # all related entity IDs to the above ent"
   ]
  },
  {
   "cell_type": "code",
   "execution_count": 60,
   "metadata": {},
   "outputs": [
    {
     "data": {
      "text/plain": [
       "11                                  BERKSHIRE HATHAWAY INC.\n",
       "29                             COSTCO WHOLESALE CORPORATION\n",
       "44                                    MICROSOFT CORPORATION\n",
       "200                                  WASTE MANAGEMENT, INC.\n",
       "1745                                     WILLIAM H GATES SR\n",
       "                                ...                        \n",
       "282754                                          DOUG BURGUM\n",
       "325413    YES ON 1240: WASHINGTON COALITION FOR PUBLIC C...\n",
       "353549                                                   5G\n",
       "368337                                        THE GOOD CLUB\n",
       "375363    BILL AND MELINDA GATES CENTER FOR COMPUTER SCI...\n",
       "Name: name, Length: 118, dtype: object"
      ]
     },
     "execution_count": 60,
     "metadata": {},
     "output_type": "execute_result"
    }
   ],
   "source": [
    "z = ents[ents['id'].isin(y)][['name', 'id']]\n",
    "z['name'] = z['name'].apply(lambda x: x.upper())\n",
    "z['name']"
   ]
  },
  {
   "cell_type": "code",
   "execution_count": 49,
   "metadata": {},
   "outputs": [
    {
     "name": "stdout",
     "output_type": "stream",
     "text": [
      "VITALANT\n",
      "INTERVARSITY CHRISTIAN FELLOWSHIP/USA\n",
      "BIG BRUTUS INC\n",
      "FOUNDATION FOR BLIND CHILDREN\n",
      "BLOODSOURCE INC\n",
      "PHOENIX SYMPHONY ASSOCIATION\n",
      "LIFEWORKS INC\n",
      "CANADIAN INTER-VARSITY CHRISTIAN FELLOWSHIP INC\n",
      "DISABLED SPORTS USA\n",
      "BOYS AND GIRLS CLUB OF JACKSON COUNTY INC\n",
      "MIDWEST COMMUNITY CREDIT UNION\n"
     ]
    }
   ],
   "source": [
    "for i in bipartite_all[181906]:\n",
    "    print(bipartite_all.nodes[i]['Uppername'])"
   ]
  },
  {
   "cell_type": "code",
   "execution_count": 42,
   "metadata": {},
   "outputs": [],
   "source": [
    "matched_graph = nx.from_pandas_edgelist(matched_rels, 'entity1_id', 'entity2_id', ['category_id'], create_using = nx.MultiGraph())"
   ]
  },
  {
   "cell_type": "code",
   "execution_count": 43,
   "metadata": {},
   "outputs": [
    {
     "data": {
      "text/plain": [
       "170985"
      ]
     },
     "execution_count": 43,
     "metadata": {},
     "output_type": "execute_result"
    }
   ],
   "source": [
    "matched_graph.number_of_nodes()"
   ]
  },
  {
   "cell_type": "code",
   "execution_count": 44,
   "metadata": {},
   "outputs": [
    {
     "data": {
      "text/plain": [
       "861244"
      ]
     },
     "execution_count": 44,
     "metadata": {},
     "output_type": "execute_result"
    }
   ],
   "source": [
    "matched_graph.number_of_edges()"
   ]
  },
  {
   "cell_type": "code",
   "execution_count": 53,
   "metadata": {},
   "outputs": [
    {
     "name": "stdout",
     "output_type": "stream",
     "text": [
      "13191 9215\n"
     ]
    }
   ],
   "source": [
    "degrees = dict(matched_graph.degree())\n",
    "max_base_deg_key = max(degrees, key = degrees.get)\n",
    "print(max_base_deg_key, matched_graph.degree()[max_base_deg_key])"
   ]
  }
 ],
 "metadata": {
  "kernelspec": {
   "display_name": "Python 3",
   "language": "python",
   "name": "python3"
  },
  "language_info": {
   "codemirror_mode": {
    "name": "ipython",
    "version": 3
   },
   "file_extension": ".py",
   "mimetype": "text/x-python",
   "name": "python",
   "nbconvert_exporter": "python",
   "pygments_lexer": "ipython3",
   "version": "3.8.2"
  }
 },
 "nbformat": 4,
 "nbformat_minor": 4
}
