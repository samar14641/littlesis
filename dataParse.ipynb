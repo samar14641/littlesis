{
 "cells": [
  {
   "cell_type": "code",
   "execution_count": 1,
   "metadata": {},
   "outputs": [],
   "source": [
    "import json\n",
    "import os\n",
    "import pandas as pd\n",
    "import pickle"
   ]
  },
  {
   "cell_type": "code",
   "execution_count": 13,
   "metadata": {},
   "outputs": [],
   "source": [
    "def parseRelationship():\n",
    "    filePath = os.getcwd() + '/Data/relationship/relationship'\n",
    "    lastFile = 2463\n",
    "    rel_data = {}\n",
    "    error_files = set()\n",
    "    \n",
    "    # reading data\n",
    "    for i in range(1, lastFile + 1):\n",
    "            with open(filePath + str(i) + '.json', encoding = 'utf8') as jsonFile:\n",
    "                try:\n",
    "                    data = json.loads(jsonFile.read())\n",
    "                    rel_data.update(data)\n",
    "\n",
    "                except Exception as e:\n",
    "                    error_files.add(i)  # log only error files\n",
    "                    print(i, e)\n",
    "\n",
    "    print('Relationships:', len(rel_data))\n",
    "    print('Relationship error files:', len(error_files))    \n",
    "    \n",
    "    return rel_data    "
   ]
  },
  {
   "cell_type": "code",
   "execution_count": 14,
   "metadata": {},
   "outputs": [
    {
     "name": "stdout",
     "output_type": "stream",
     "text": [
      "Relationships: 1230815\n",
      "Relationship error files: 0\n"
     ]
    }
   ],
   "source": [
    "rel_data = parseRelationship()"
   ]
  },
  {
   "cell_type": "code",
   "execution_count": 15,
   "metadata": {},
   "outputs": [
    {
     "data": {
      "text/plain": [
       "{'category_id': 1,\n",
       " 'description2': 'Director',\n",
       " 'id': 1,\n",
       " 'description': 'Allen I Questrom  had a position (Director) at  Walmart ',\n",
       " 'entity1_id': 1006,\n",
       " 'is_current': False,\n",
       " 'updated_at': '2011-03-13T20:15:59Z',\n",
       " 'entity2_id': 1,\n",
       " 'currency': None,\n",
       " 'start_date': '2007-00-00',\n",
       " 'amount': None,\n",
       " 'goods': None,\n",
       " 'description1': 'Director',\n",
       " 'end_date': '2010-06-00',\n",
       " 'filings': None}"
      ]
     },
     "execution_count": 15,
     "metadata": {},
     "output_type": "execute_result"
    }
   ],
   "source": [
    "# all_data keys are strings of ints\n",
    "rel_data['1']"
   ]
  },
  {
   "cell_type": "markdown",
   "metadata": {},
   "source": [
    "category_id possible values:\n",
    "1. Position\n",
    "2. Education\n",
    "3. Membership\n",
    "4. Family\n",
    "5. Donation\n",
    "6. Transaction\n",
    "7. Lobbying\n",
    "8. Social\n",
    "9. Professional\n",
    "10. Ownership\n",
    "11. Hierarchy\n",
    "12. Generic"
   ]
  },
  {
   "cell_type": "markdown",
   "metadata": {},
   "source": [
    "Create the dataframe:"
   ]
  },
  {
   "cell_type": "code",
   "execution_count": 17,
   "metadata": {},
   "outputs": [],
   "source": [
    "rel_df = pd.DataFrame.from_dict(rel_data, orient = 'index')"
   ]
  },
  {
   "cell_type": "code",
   "execution_count": 18,
   "metadata": {},
   "outputs": [
    {
     "data": {
      "text/plain": [
       "(1230815, 15)"
      ]
     },
     "execution_count": 18,
     "metadata": {},
     "output_type": "execute_result"
    }
   ],
   "source": [
    "rel_df.shape"
   ]
  },
  {
   "cell_type": "code",
   "execution_count": 19,
   "metadata": {},
   "outputs": [
    {
     "data": {
      "text/plain": [
       "category_id                                                     1\n",
       "description2                                             Director\n",
       "id                                                              1\n",
       "description     Allen I Questrom  had a position (Director) at...\n",
       "entity1_id                                                   1006\n",
       "is_current                                                  False\n",
       "updated_at                                   2011-03-13T20:15:59Z\n",
       "entity2_id                                                      1\n",
       "currency                                                     None\n",
       "start_date                                             2007-00-00\n",
       "amount                                                        NaN\n",
       "goods                                                        None\n",
       "description1                                             Director\n",
       "end_date                                               2010-06-00\n",
       "filings                                                       NaN\n",
       "Name: 1, dtype: object"
      ]
     },
     "execution_count": 19,
     "metadata": {},
     "output_type": "execute_result"
    }
   ],
   "source": [
    "rel_df.loc['1', :]  # this is equivalent to rel_data['1']"
   ]
  },
  {
   "cell_type": "code",
   "execution_count": 20,
   "metadata": {},
   "outputs": [],
   "source": [
    "rel_df.to_pickle(os.getcwd() + '/Pickle/all_rels.pkl')"
   ]
  },
  {
   "cell_type": "code",
   "execution_count": 6,
   "metadata": {},
   "outputs": [],
   "source": [
    "def parseEntity():\n",
    "    filePath = os.getcwd() + '/Data/entity/entity'\n",
    "    lastFile = 568\n",
    "    entity_data = {}\n",
    "    error_files = set()\n",
    "    \n",
    "    # reading data\n",
    "    for i in range(0, lastFile + 1):\n",
    "            with open(filePath + str(i) + '.json', encoding = 'utf8') as jsonFile:\n",
    "                try:\n",
    "                    data = json.loads(jsonFile.read())\n",
    "                    entity_data.update(data)\n",
    "\n",
    "                except Exception as e:\n",
    "                    error_files.add(i)  # log only error files\n",
    "                    print(i, e)\n",
    "\n",
    "    print('Entities:', len(entity_data))\n",
    "    print('Entity error files:', len(error_files))    \n",
    "    \n",
    "    return entity_data"
   ]
  },
  {
   "cell_type": "code",
   "execution_count": 7,
   "metadata": {},
   "outputs": [
    {
     "name": "stdout",
     "output_type": "stream",
     "text": [
      "Entities: 284500\n",
      "Entity error files: 0\n"
     ]
    }
   ],
   "source": [
    "entity_data = parseEntity()"
   ]
  },
  {
   "cell_type": "code",
   "execution_count": 8,
   "metadata": {},
   "outputs": [
    {
     "data": {
      "text/plain": [
       "{'summary': None,\n",
       " 'parent_id': None,\n",
       " 'extensions': {'Org': {'name_nick': 'WAL-MART',\n",
       "   'name': 'Wal-Mart Stores, Inc.',\n",
       "   'fedspending_id': '336092',\n",
       "   'employees': None,\n",
       "   'lda_registrant_id': '40305',\n",
       "   'revenue': 482130000000},\n",
       "  'Business': {'marketcap': None,\n",
       "   'annual_profit': None,\n",
       "   'net_income': None,\n",
       "   'aum': None,\n",
       "   'assets': None},\n",
       "  'PublicCompany': {'ticker': 'WMT', 'sec_cik': 104169}},\n",
       " 'website': 'www.corporate.walmart.com',\n",
       " 'name': 'Walmart',\n",
       " 'primary_ext': 'Org',\n",
       " 'aliases': ['IRS EIN 71-0415188',\n",
       "  'Wal Mart',\n",
       "  'Wal-Mart',\n",
       "  'Wal-Mart Stores Inc',\n",
       "  'Wal-Mart Stores, Inc.',\n",
       "  'Walmart'],\n",
       " 'blurb': 'Retail merchandising',\n",
       " 'types': ['Organization', 'Business', 'Public Company'],\n",
       " 'updated_at': '2020-06-30T20:47:43Z',\n",
       " 'id': 1,\n",
       " 'start_date': None,\n",
       " 'end_date': None}"
      ]
     },
     "execution_count": 8,
     "metadata": {},
     "output_type": "execute_result"
    }
   ],
   "source": [
    "entity_data['1']"
   ]
  }
 ],
 "metadata": {
  "kernelspec": {
   "display_name": "Python 3",
   "language": "python",
   "name": "python3"
  },
  "language_info": {
   "codemirror_mode": {
    "name": "ipython",
    "version": 3
   },
   "file_extension": ".py",
   "mimetype": "text/x-python",
   "name": "python",
   "nbconvert_exporter": "python",
   "pygments_lexer": "ipython3",
   "version": "3.8.2"
  }
 },
 "nbformat": 4,
 "nbformat_minor": 4
}
