{
 "cells": [
  {
   "cell_type": "code",
   "execution_count": 23,
   "metadata": {},
   "outputs": [],
   "source": [
    "import matplotlib.pyplot as plt\n",
    "# import numpy as np\n",
    "import os\n",
    "import pandas as pd"
   ]
  },
  {
   "cell_type": "code",
   "execution_count": 3,
   "metadata": {},
   "outputs": [
    {
     "name": "stdout",
     "output_type": "stream",
     "text": [
      "(36, 7)\n"
     ]
    },
    {
     "data": {
      "text/html": [
       "<div>\n",
       "<style scoped>\n",
       "    .dataframe tbody tr th:only-of-type {\n",
       "        vertical-align: middle;\n",
       "    }\n",
       "\n",
       "    .dataframe tbody tr th {\n",
       "        vertical-align: top;\n",
       "    }\n",
       "\n",
       "    .dataframe thead th {\n",
       "        text-align: right;\n",
       "    }\n",
       "</style>\n",
       "<table border=\"1\" class=\"dataframe\">\n",
       "  <thead>\n",
       "    <tr style=\"text-align: right;\">\n",
       "      <th></th>\n",
       "      <th>bp_id</th>\n",
       "      <th>ls_id</th>\n",
       "      <th>name_ls</th>\n",
       "      <th>name_bp</th>\n",
       "      <th>Match</th>\n",
       "      <th>Repeated_bp</th>\n",
       "      <th>URL</th>\n",
       "    </tr>\n",
       "  </thead>\n",
       "  <tbody>\n",
       "    <tr>\n",
       "      <th>0</th>\n",
       "      <td>112459</td>\n",
       "      <td>1188</td>\n",
       "      <td>Charles K Gifford</td>\n",
       "      <td>CHARLES GIFFORD</td>\n",
       "      <td>Trustee</td>\n",
       "      <td>Yes</td>\n",
       "      <td>NaN</td>\n",
       "    </tr>\n",
       "    <tr>\n",
       "      <th>1</th>\n",
       "      <td>295562</td>\n",
       "      <td>1483</td>\n",
       "      <td>Ronald L Sargent</td>\n",
       "      <td>RONALD L SARGENT</td>\n",
       "      <td>Trustee</td>\n",
       "      <td>NaN</td>\n",
       "      <td>NaN</td>\n",
       "    </tr>\n",
       "    <tr>\n",
       "      <th>2</th>\n",
       "      <td>252548</td>\n",
       "      <td>2898</td>\n",
       "      <td>Sy Sternberg</td>\n",
       "      <td>SY STERNBERG</td>\n",
       "      <td>Board of Directors</td>\n",
       "      <td>NaN</td>\n",
       "      <td>NaN</td>\n",
       "    </tr>\n",
       "    <tr>\n",
       "      <th>3</th>\n",
       "      <td>946922</td>\n",
       "      <td>3709</td>\n",
       "      <td>Joseph M Tucci</td>\n",
       "      <td>JOSEPH TUCCI</td>\n",
       "      <td>Board of Directors</td>\n",
       "      <td>NaN</td>\n",
       "      <td>NaN</td>\n",
       "    </tr>\n",
       "    <tr>\n",
       "      <th>4</th>\n",
       "      <td>946900</td>\n",
       "      <td>4154</td>\n",
       "      <td>Carole J Uhrich Shapazian</td>\n",
       "      <td>CAROLE SHAPAZIAN</td>\n",
       "      <td>Trustee</td>\n",
       "      <td>NaN</td>\n",
       "      <td>NaN</td>\n",
       "    </tr>\n",
       "  </tbody>\n",
       "</table>\n",
       "</div>"
      ],
      "text/plain": [
       "    bp_id  ls_id                    name_ls           name_bp  \\\n",
       "0  112459   1188          Charles K Gifford   CHARLES GIFFORD   \n",
       "1  295562   1483           Ronald L Sargent  RONALD L SARGENT   \n",
       "2  252548   2898               Sy Sternberg      SY STERNBERG   \n",
       "3  946922   3709             Joseph M Tucci      JOSEPH TUCCI   \n",
       "4  946900   4154  Carole J Uhrich Shapazian  CAROLE SHAPAZIAN   \n",
       "\n",
       "                Match Repeated_bp  URL  \n",
       "0             Trustee         Yes  NaN  \n",
       "1             Trustee         NaN  NaN  \n",
       "2  Board of Directors         NaN  NaN  \n",
       "3  Board of Directors         NaN  NaN  \n",
       "4             Trustee         NaN  NaN  "
      ]
     },
     "execution_count": 3,
     "metadata": {},
     "output_type": "execute_result"
    }
   ],
   "source": [
    "data = pd.read_csv(os.getcwd() + '/Data/NEU_Matches.csv')\n",
    "print(data.shape)\n",
    "data.head()"
   ]
  },
  {
   "cell_type": "code",
   "execution_count": 7,
   "metadata": {},
   "outputs": [
    {
     "data": {
      "text/plain": [
       "Trustee               13\n",
       "No match               9\n",
       "Trustee, Alumni        7\n",
       "Board of Directors     4\n",
       "CPS Faculty            1\n",
       "General Counsel        1\n",
       "President              1\n",
       "Name: Match, dtype: int64"
      ]
     },
     "execution_count": 7,
     "metadata": {},
     "output_type": "execute_result"
    }
   ],
   "source": [
    "data['Match'] = data['Match'].apply(lambda x: 'No match' if x == 'X' else x)\n",
    "data['Match'].value_counts()"
   ]
  },
  {
   "cell_type": "code",
   "execution_count": 27,
   "metadata": {},
   "outputs": [
    {
     "data": {
      "text/plain": [
       "No     28\n",
       "Yes     8\n",
       "Name: Repeated_bp, dtype: int64"
      ]
     },
     "execution_count": 27,
     "metadata": {},
     "output_type": "execute_result"
    }
   ],
   "source": [
    "data['Repeated_bp'] = data['Repeated_bp'].apply(lambda x: 'No' if pd.isna(x) else x)\n",
    "data['Repeated_bp'].value_counts()"
   ]
  },
  {
   "cell_type": "code",
   "execution_count": 19,
   "metadata": {},
   "outputs": [
    {
     "data": {
      "image/png": "[encoded data removed]",
      "text/plain": [
       "<Figure size 432x288 with 1 Axes>"
      ]
     },
     "metadata": {
      "needs_background": "light"
     },
     "output_type": "display_data"
    }
   ],
   "source": [
    "match_counts = data['Match'].value_counts().sort_values(ascending = True)\n",
    "\n",
    "plt.barh(match_counts.index, match_counts, color = ['#9433ff', '#9433ff', '#9433ff', '#9433ff', '#9433ff', '#ff0000', '#9433ff'])\n",
    "plt.title('Distribution of Match Type')\n",
    "plt.xlabel('Count')\n",
    "plt.ylabel('Match Type')\n",
    "plt.xticks(range(0, match_counts.max() + 1))\n",
    "plt.show()\n",
    "plt.close()"
   ]
  },
  {
   "cell_type": "code",
   "execution_count": 29,
   "metadata": {},
   "outputs": [
    {
     "data": {
      "text/html": [
       "<div>\n",
       "<style scoped>\n",
       "    .dataframe tbody tr th:only-of-type {\n",
       "        vertical-align: middle;\n",
       "    }\n",
       "\n",
       "    .dataframe tbody tr th {\n",
       "        vertical-align: top;\n",
       "    }\n",
       "\n",
       "    .dataframe thead th {\n",
       "        text-align: right;\n",
       "    }\n",
       "</style>\n",
       "<table border=\"1\" class=\"dataframe\">\n",
       "  <thead>\n",
       "    <tr style=\"text-align: right;\">\n",
       "      <th></th>\n",
       "      <th>bp_id</th>\n",
       "      <th>ls_id</th>\n",
       "      <th>name_ls</th>\n",
       "      <th>name_bp</th>\n",
       "      <th>Match</th>\n",
       "      <th>Repeated_bp</th>\n",
       "      <th>URL</th>\n",
       "    </tr>\n",
       "  </thead>\n",
       "  <tbody>\n",
       "    <tr>\n",
       "      <th>0</th>\n",
       "      <td>112459</td>\n",
       "      <td>1188</td>\n",
       "      <td>Charles K Gifford</td>\n",
       "      <td>CHARLES GIFFORD</td>\n",
       "      <td>Trustee</td>\n",
       "      <td>Yes</td>\n",
       "      <td>NaN</td>\n",
       "    </tr>\n",
       "    <tr>\n",
       "      <th>7</th>\n",
       "      <td>178721</td>\n",
       "      <td>9196</td>\n",
       "      <td>M William Howard Jr</td>\n",
       "      <td>WILLIAM HOWARD</td>\n",
       "      <td>No match</td>\n",
       "      <td>Yes</td>\n",
       "      <td>NaN</td>\n",
       "    </tr>\n",
       "    <tr>\n",
       "      <th>8</th>\n",
       "      <td>178721</td>\n",
       "      <td>9725</td>\n",
       "      <td>William Howard Powell</td>\n",
       "      <td>WILLIAM HOWARD</td>\n",
       "      <td>No match</td>\n",
       "      <td>Yes</td>\n",
       "      <td>NaN</td>\n",
       "    </tr>\n",
       "    <tr>\n",
       "      <th>10</th>\n",
       "      <td>178721</td>\n",
       "      <td>12074</td>\n",
       "      <td>William G Howard Jr</td>\n",
       "      <td>WILLIAM HOWARD</td>\n",
       "      <td>No match</td>\n",
       "      <td>Yes</td>\n",
       "      <td>NaN</td>\n",
       "    </tr>\n",
       "    <tr>\n",
       "      <th>16</th>\n",
       "      <td>182465</td>\n",
       "      <td>320523</td>\n",
       "      <td>Ian Peter Cameron</td>\n",
       "      <td>PETER CAMERON</td>\n",
       "      <td>No match</td>\n",
       "      <td>No</td>\n",
       "      <td>NaN</td>\n",
       "    </tr>\n",
       "    <tr>\n",
       "      <th>18</th>\n",
       "      <td>112459</td>\n",
       "      <td>68713</td>\n",
       "      <td>Charles H Gifford</td>\n",
       "      <td>CHARLES GIFFORD</td>\n",
       "      <td>No match</td>\n",
       "      <td>Yes</td>\n",
       "      <td>NaN</td>\n",
       "    </tr>\n",
       "    <tr>\n",
       "      <th>19</th>\n",
       "      <td>178721</td>\n",
       "      <td>331170</td>\n",
       "      <td>William Howard Morris</td>\n",
       "      <td>WILLIAM HOWARD</td>\n",
       "      <td>No match</td>\n",
       "      <td>Yes</td>\n",
       "      <td>NaN</td>\n",
       "    </tr>\n",
       "    <tr>\n",
       "      <th>20</th>\n",
       "      <td>178721</td>\n",
       "      <td>333394</td>\n",
       "      <td>William H. Howard</td>\n",
       "      <td>WILLIAM HOWARD</td>\n",
       "      <td>No match</td>\n",
       "      <td>Yes</td>\n",
       "      <td>NaN</td>\n",
       "    </tr>\n",
       "    <tr>\n",
       "      <th>23</th>\n",
       "      <td>178721</td>\n",
       "      <td>78762</td>\n",
       "      <td>William Howard Taft</td>\n",
       "      <td>WILLIAM HOWARD</td>\n",
       "      <td>No match</td>\n",
       "      <td>Yes</td>\n",
       "      <td>NaN</td>\n",
       "    </tr>\n",
       "    <tr>\n",
       "      <th>34</th>\n",
       "      <td>205233</td>\n",
       "      <td>162652</td>\n",
       "      <td>William R Cotter</td>\n",
       "      <td>WILLIAM COTTER</td>\n",
       "      <td>No match</td>\n",
       "      <td>No</td>\n",
       "      <td>NaN</td>\n",
       "    </tr>\n",
       "  </tbody>\n",
       "</table>\n",
       "</div>"
      ],
      "text/plain": [
       "     bp_id   ls_id                name_ls          name_bp     Match  \\\n",
       "0   112459    1188      Charles K Gifford  CHARLES GIFFORD   Trustee   \n",
       "7   178721    9196    M William Howard Jr   WILLIAM HOWARD  No match   \n",
       "8   178721    9725  William Howard Powell   WILLIAM HOWARD  No match   \n",
       "10  178721   12074    William G Howard Jr   WILLIAM HOWARD  No match   \n",
       "16  182465  320523      Ian Peter Cameron    PETER CAMERON  No match   \n",
       "18  112459   68713      Charles H Gifford  CHARLES GIFFORD  No match   \n",
       "19  178721  331170  William Howard Morris   WILLIAM HOWARD  No match   \n",
       "20  178721  333394      William H. Howard   WILLIAM HOWARD  No match   \n",
       "23  178721   78762    William Howard Taft   WILLIAM HOWARD  No match   \n",
       "34  205233  162652       William R Cotter   WILLIAM COTTER  No match   \n",
       "\n",
       "   Repeated_bp  URL  \n",
       "0          Yes  NaN  \n",
       "7          Yes  NaN  \n",
       "8          Yes  NaN  \n",
       "10         Yes  NaN  \n",
       "16          No  NaN  \n",
       "18         Yes  NaN  \n",
       "19         Yes  NaN  \n",
       "20         Yes  NaN  \n",
       "23         Yes  NaN  \n",
       "34          No  NaN  "
      ]
     },
     "execution_count": 29,
     "metadata": {},
     "output_type": "execute_result"
    }
   ],
   "source": [
    "xyz = data[(data['Repeated_bp'] == 'Yes') | (data['Match'] == 'No match')]\n",
    "xyz"
   ]
  },
  {
   "cell_type": "code",
   "execution_count": 39,
   "metadata": {},
   "outputs": [
    {
     "data": {
      "text/plain": [
       "Repeated_bp  Match   \n",
       "No           No match    2\n",
       "Yes          No match    7\n",
       "             Trustee     1\n",
       "dtype: int64"
      ]
     },
     "execution_count": 39,
     "metadata": {},
     "output_type": "execute_result"
    }
   ],
   "source": [
    "xyz.groupby(['Repeated_bp', 'Match']).size()"
   ]
  }
 ],
 "metadata": {
  "kernelspec": {
   "display_name": "Python 3",
   "language": "python",
   "name": "python3"
  },
  "language_info": {
   "codemirror_mode": {
    "name": "ipython",
    "version": 3
   },
   "file_extension": ".py",
   "mimetype": "text/x-python",
   "name": "python",
   "nbconvert_exporter": "python",
   "pygments_lexer": "ipython3",
   "version": "3.8.2"
  }
 },
 "nbformat": 4,
 "nbformat_minor": 4
}
