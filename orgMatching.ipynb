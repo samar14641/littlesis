{
 "cells": [
  {
   "cell_type": "code",
   "execution_count": 1,
   "metadata": {},
   "outputs": [],
   "source": [
    "import networkx as nx\n",
    "import os\n",
    "import pandas as pd\n",
    "import pickle\n",
    "\n",
    "from datasketch import MinHash, MinHashLSH"
   ]
  },
  {
   "cell_type": "markdown",
   "metadata": {},
   "source": [
    "#### Read LittleSis orgs"
   ]
  },
  {
   "cell_type": "code",
   "execution_count": 2,
   "metadata": {},
   "outputs": [
    {
     "data": {
      "text/plain": [
       "78526"
      ]
     },
     "execution_count": 2,
     "metadata": {},
     "output_type": "execute_result"
    }
   ],
   "source": [
    "littlesis_orgs = {}\n",
    "\n",
    "with open(os.getcwd() + '/Pickle/all_orgs.pickle', 'rb') as pkl:\n",
    "    littlesis_orgs = pickle.load(pkl)\n",
    "    \n",
    "len(littlesis_orgs)"
   ]
  },
  {
   "cell_type": "code",
   "execution_count": 45,
   "metadata": {},
   "outputs": [
    {
     "data": {
      "text/html": [
       "<div>\n",
       "<style scoped>\n",
       "    .dataframe tbody tr th:only-of-type {\n",
       "        vertical-align: middle;\n",
       "    }\n",
       "\n",
       "    .dataframe tbody tr th {\n",
       "        vertical-align: top;\n",
       "    }\n",
       "\n",
       "    .dataframe thead th {\n",
       "        text-align: right;\n",
       "    }\n",
       "</style>\n",
       "<table border=\"1\" class=\"dataframe\">\n",
       "  <thead>\n",
       "    <tr style=\"text-align: right;\">\n",
       "      <th></th>\n",
       "      <th>id</th>\n",
       "      <th>org</th>\n",
       "    </tr>\n",
       "  </thead>\n",
       "  <tbody>\n",
       "    <tr>\n",
       "      <th>0</th>\n",
       "      <td>1</td>\n",
       "      <td>Walmart</td>\n",
       "    </tr>\n",
       "    <tr>\n",
       "      <th>1</th>\n",
       "      <td>2</td>\n",
       "      <td>ExxonMobil</td>\n",
       "    </tr>\n",
       "    <tr>\n",
       "      <th>2</th>\n",
       "      <td>3</td>\n",
       "      <td>Chevron</td>\n",
       "    </tr>\n",
       "    <tr>\n",
       "      <th>3</th>\n",
       "      <td>4</td>\n",
       "      <td>General Motors Company</td>\n",
       "    </tr>\n",
       "    <tr>\n",
       "      <th>4</th>\n",
       "      <td>5</td>\n",
       "      <td>ConocoPhillips</td>\n",
       "    </tr>\n",
       "  </tbody>\n",
       "</table>\n",
       "</div>"
      ],
      "text/plain": [
       "  id                     org\n",
       "0  1                 Walmart\n",
       "1  2              ExxonMobil\n",
       "2  3                 Chevron\n",
       "3  4  General Motors Company\n",
       "4  5          ConocoPhillips"
      ]
     },
     "execution_count": 45,
     "metadata": {},
     "output_type": "execute_result"
    }
   ],
   "source": [
    "littlesis_df = pd.DataFrame.from_dict(list(littlesis_orgs.items()))\n",
    "littlesis_df.rename(columns = {0: 'id', 1: 'org'}, inplace = True)\n",
    "littlesis_df.head()"
   ]
  },
  {
   "cell_type": "markdown",
   "metadata": {},
   "source": [
    "#### Read bipartite graph"
   ]
  },
  {
   "cell_type": "code",
   "execution_count": 3,
   "metadata": {},
   "outputs": [
    {
     "data": {
      "text/plain": [
       "4054832"
      ]
     },
     "execution_count": 3,
     "metadata": {},
     "output_type": "execute_result"
    }
   ],
   "source": [
    "bipartite_all = nx.read_gpickle(os.getcwd() + '/Pickle/bipartite-all010420.pickle')\n",
    "bipartite_all.number_of_nodes()"
   ]
  },
  {
   "cell_type": "code",
   "execution_count": 46,
   "metadata": {},
   "outputs": [
    {
     "data": {
      "text/plain": [
       "[(0, None), (1, None), (2, None), (3, None), (4, None)]"
      ]
     },
     "execution_count": 46,
     "metadata": {},
     "output_type": "execute_result"
    }
   ],
   "source": [
    "bipartite_orgs = list(bipartite_all.nodes(data = 'Uppername'))  # nodes which don't have this key return None eg. (bipartite_id, None)\n",
    "bipartite_orgs[: 5]"
   ]
  },
  {
   "cell_type": "code",
   "execution_count": 47,
   "metadata": {},
   "outputs": [
    {
     "data": {
      "text/plain": [
       "[(8388614, 'MISSIONS UNLIMITED'),\n",
       " (8388623, 'CORVALLIS-OSU SYMPHONY SOCIETY'),\n",
       " (8388624, 'OLD CHURCH SOCIETY INC'),\n",
       " (8388646, 'TVW INC'),\n",
       " (8388664, 'EDWARD F ARNOLD TRUST')]"
      ]
     },
     "execution_count": 47,
     "metadata": {},
     "output_type": "execute_result"
    }
   ],
   "source": [
    "bipartite_orgs = [(bipartite_id, uppername) for bipartite_id, uppername in bipartite_orgs if uppername is not None]  # remove nodes where uppername is None i.e. not organisations\n",
    "bipartite_orgs[: 5]"
   ]
  },
  {
   "cell_type": "code",
   "execution_count": 48,
   "metadata": {},
   "outputs": [
    {
     "data": {
      "text/plain": [
       "696376"
      ]
     },
     "execution_count": 48,
     "metadata": {},
     "output_type": "execute_result"
    }
   ],
   "source": [
    "len(bipartite_orgs)"
   ]
  },
  {
   "cell_type": "code",
   "execution_count": 49,
   "metadata": {},
   "outputs": [
    {
     "data": {
      "text/html": [
       "<div>\n",
       "<style scoped>\n",
       "    .dataframe tbody tr th:only-of-type {\n",
       "        vertical-align: middle;\n",
       "    }\n",
       "\n",
       "    .dataframe tbody tr th {\n",
       "        vertical-align: top;\n",
       "    }\n",
       "\n",
       "    .dataframe thead th {\n",
       "        text-align: right;\n",
       "    }\n",
       "</style>\n",
       "<table border=\"1\" class=\"dataframe\">\n",
       "  <thead>\n",
       "    <tr style=\"text-align: right;\">\n",
       "      <th></th>\n",
       "      <th>id</th>\n",
       "      <th>org</th>\n",
       "    </tr>\n",
       "  </thead>\n",
       "  <tbody>\n",
       "    <tr>\n",
       "      <th>0</th>\n",
       "      <td>8388614</td>\n",
       "      <td>MISSIONS UNLIMITED</td>\n",
       "    </tr>\n",
       "    <tr>\n",
       "      <th>1</th>\n",
       "      <td>8388623</td>\n",
       "      <td>CORVALLIS-OSU SYMPHONY SOCIETY</td>\n",
       "    </tr>\n",
       "    <tr>\n",
       "      <th>2</th>\n",
       "      <td>8388624</td>\n",
       "      <td>OLD CHURCH SOCIETY INC</td>\n",
       "    </tr>\n",
       "    <tr>\n",
       "      <th>3</th>\n",
       "      <td>8388646</td>\n",
       "      <td>TVW INC</td>\n",
       "    </tr>\n",
       "    <tr>\n",
       "      <th>4</th>\n",
       "      <td>8388664</td>\n",
       "      <td>EDWARD F ARNOLD TRUST</td>\n",
       "    </tr>\n",
       "  </tbody>\n",
       "</table>\n",
       "</div>"
      ],
      "text/plain": [
       "        id                             org\n",
       "0  8388614              MISSIONS UNLIMITED\n",
       "1  8388623  CORVALLIS-OSU SYMPHONY SOCIETY\n",
       "2  8388624          OLD CHURCH SOCIETY INC\n",
       "3  8388646                         TVW INC\n",
       "4  8388664           EDWARD F ARNOLD TRUST"
      ]
     },
     "execution_count": 49,
     "metadata": {},
     "output_type": "execute_result"
    }
   ],
   "source": [
    "bipartite_df = pd.DataFrame(bipartite_orgs, columns = ['id', 'org'])\n",
    "bipartite_df.head()"
   ]
  },
  {
   "cell_type": "markdown",
   "metadata": {},
   "source": [
    "#### Clean org names"
   ]
  },
  {
   "cell_type": "code",
   "execution_count": 50,
   "metadata": {},
   "outputs": [],
   "source": [
    "def cleanNames(df):\n",
    "    if df['id'].dtype != 'int64':  # convert ids to int\n",
    "        df['id'] = df['id'].apply(lambda x: int(x))\n",
    "        \n",
    "    # remove periods and commas, replace - with a single space, convert to upper case and strip leading and trailing whitespaces\n",
    "    df['org'] = df['org'].apply(lambda x: x.replace('.', '').replace(',', '').replace('-', ' ').upper().strip())\n",
    "    \n",
    "    # other things to do (potentially):\n",
    "    # 1. remove INC., LTD.\n",
    "    # 2. remove special chars\n",
    "    # also see Pyjanitor clean names: https://pyjanitor.readthedocs.io/reference/janitor.functions/janitor.clean_names.html\n",
    "    \n",
    "    return df"
   ]
  },
  {
   "cell_type": "code",
   "execution_count": 51,
   "metadata": {},
   "outputs": [
    {
     "data": {
      "text/html": [
       "<div>\n",
       "<style scoped>\n",
       "    .dataframe tbody tr th:only-of-type {\n",
       "        vertical-align: middle;\n",
       "    }\n",
       "\n",
       "    .dataframe tbody tr th {\n",
       "        vertical-align: top;\n",
       "    }\n",
       "\n",
       "    .dataframe thead th {\n",
       "        text-align: right;\n",
       "    }\n",
       "</style>\n",
       "<table border=\"1\" class=\"dataframe\">\n",
       "  <thead>\n",
       "    <tr style=\"text-align: right;\">\n",
       "      <th></th>\n",
       "      <th>id</th>\n",
       "      <th>org</th>\n",
       "    </tr>\n",
       "  </thead>\n",
       "  <tbody>\n",
       "    <tr>\n",
       "      <th>0</th>\n",
       "      <td>1</td>\n",
       "      <td>WALMART</td>\n",
       "    </tr>\n",
       "    <tr>\n",
       "      <th>1</th>\n",
       "      <td>2</td>\n",
       "      <td>EXXONMOBIL</td>\n",
       "    </tr>\n",
       "    <tr>\n",
       "      <th>2</th>\n",
       "      <td>3</td>\n",
       "      <td>CHEVRON</td>\n",
       "    </tr>\n",
       "    <tr>\n",
       "      <th>3</th>\n",
       "      <td>4</td>\n",
       "      <td>GENERAL MOTORS COMPANY</td>\n",
       "    </tr>\n",
       "    <tr>\n",
       "      <th>4</th>\n",
       "      <td>5</td>\n",
       "      <td>CONOCOPHILLIPS</td>\n",
       "    </tr>\n",
       "  </tbody>\n",
       "</table>\n",
       "</div>"
      ],
      "text/plain": [
       "   id                     org\n",
       "0   1                 WALMART\n",
       "1   2              EXXONMOBIL\n",
       "2   3                 CHEVRON\n",
       "3   4  GENERAL MOTORS COMPANY\n",
       "4   5          CONOCOPHILLIPS"
      ]
     },
     "execution_count": 51,
     "metadata": {},
     "output_type": "execute_result"
    }
   ],
   "source": [
    "littlesis_df = cleanNames(littlesis_df)\n",
    "littlesis_df.head()"
   ]
  },
  {
   "cell_type": "code",
   "execution_count": 52,
   "metadata": {},
   "outputs": [
    {
     "data": {
      "text/html": [
       "<div>\n",
       "<style scoped>\n",
       "    .dataframe tbody tr th:only-of-type {\n",
       "        vertical-align: middle;\n",
       "    }\n",
       "\n",
       "    .dataframe tbody tr th {\n",
       "        vertical-align: top;\n",
       "    }\n",
       "\n",
       "    .dataframe thead th {\n",
       "        text-align: right;\n",
       "    }\n",
       "</style>\n",
       "<table border=\"1\" class=\"dataframe\">\n",
       "  <thead>\n",
       "    <tr style=\"text-align: right;\">\n",
       "      <th></th>\n",
       "      <th>id</th>\n",
       "      <th>org</th>\n",
       "    </tr>\n",
       "  </thead>\n",
       "  <tbody>\n",
       "    <tr>\n",
       "      <th>0</th>\n",
       "      <td>8388614</td>\n",
       "      <td>MISSIONS UNLIMITED</td>\n",
       "    </tr>\n",
       "    <tr>\n",
       "      <th>1</th>\n",
       "      <td>8388623</td>\n",
       "      <td>CORVALLIS OSU SYMPHONY SOCIETY</td>\n",
       "    </tr>\n",
       "    <tr>\n",
       "      <th>2</th>\n",
       "      <td>8388624</td>\n",
       "      <td>OLD CHURCH SOCIETY INC</td>\n",
       "    </tr>\n",
       "    <tr>\n",
       "      <th>3</th>\n",
       "      <td>8388646</td>\n",
       "      <td>TVW INC</td>\n",
       "    </tr>\n",
       "    <tr>\n",
       "      <th>4</th>\n",
       "      <td>8388664</td>\n",
       "      <td>EDWARD F ARNOLD TRUST</td>\n",
       "    </tr>\n",
       "  </tbody>\n",
       "</table>\n",
       "</div>"
      ],
      "text/plain": [
       "        id                             org\n",
       "0  8388614              MISSIONS UNLIMITED\n",
       "1  8388623  CORVALLIS OSU SYMPHONY SOCIETY\n",
       "2  8388624          OLD CHURCH SOCIETY INC\n",
       "3  8388646                         TVW INC\n",
       "4  8388664           EDWARD F ARNOLD TRUST"
      ]
     },
     "execution_count": 52,
     "metadata": {},
     "output_type": "execute_result"
    }
   ],
   "source": [
    "bipartite_df = cleanNames(bipartite_df)\n",
    "bipartite_df.head()"
   ]
  },
  {
   "cell_type": "code",
   "execution_count": 67,
   "metadata": {},
   "outputs": [],
   "source": [
    "clean_littlesis_orgs = littlesis_df.set_index('id')['org'].to_dict()\n",
    "\n",
    "# max_num selects the bipartite subset size, select the second option to use the entire subset\n",
    "max_num = 1000\n",
    "# max_num = bipartite_df.shape[0]\n",
    "clean_bipartite_orgs = bipartite_df.set_index('id')['org'][: max_num].to_dict()\n",
    "clean_bipartite_orgs_rev = {clean_bipartite_orgs[i]: i for i in clean_bipartite_orgs}\n",
    "\n",
    "# print(len(clean_littlesis_orgs), len(clean_bipartite_orgs), len(clean_bipartite_orgs_rev))"
   ]
  },
  {
   "cell_type": "markdown",
   "metadata": {},
   "source": [
    "#### Hash"
   ]
  },
  {
   "cell_type": "code",
   "execution_count": 74,
   "metadata": {},
   "outputs": [
    {
     "name": "stdout",
     "output_type": "stream",
     "text": [
      "Inserting 100\n",
      "Inserting 200\n",
      "Inserting 300\n",
      "Inserting 400\n",
      "Inserting 500\n",
      "Inserting 600\n",
      "Inserting 700\n",
      "Inserting 800\n"
     ]
    }
   ],
   "source": [
    "remaining_bipartite = len(clean_bipartite_orgs)\n",
    "count, rep_count, reps = 0, 0, set()\n",
    "lsh = MinHashLSH(threshold = 0.5, num_perm = 128)\n",
    "\n",
    "for org_id in clean_bipartite_orgs:\n",
    "    p = MinHash(num_perm = 128)\n",
    "    \n",
    "    org = clean_bipartite_orgs[org_id]\n",
    "    \n",
    "    for org_split in org.split():\n",
    "        p.update(org_split.encode('utf-8'))\n",
    "        \n",
    "    try:\n",
    "        lsh.insert(org, p)\n",
    "        count += 1\n",
    "        if count % 100 == 0:\n",
    "            print('Inserting', count)  #, 'out of', remaining_bipartite)\n",
    "    except:\n",
    "#         print(org)\n",
    "        rep_count += 1\n",
    "        reps.add(org)\n",
    "    \n",
    "# print('Repeated orgs:', rep_count)\n",
    "# print(reps)"
   ]
  },
  {
   "cell_type": "markdown",
   "metadata": {},
   "source": [
    "#### Compare org names"
   ]
  },
  {
   "cell_type": "code",
   "execution_count": 76,
   "metadata": {},
   "outputs": [],
   "source": [
    "def compare(org1, org2):\n",
    "    same_flag = False\n",
    "    blacklist = ('INC', 'LTD')\n",
    "    \n",
    "    if org1 == org2:  # if strings match exactly\n",
    "        return True\n",
    "    \n",
    "    org1_split = org1.split()\n",
    "    org2_split = org2.split()\n",
    "    \n",
    "    common = list(set(org1_split) & set(org2_split))\n",
    "    common_min = [i for i in common if i not in blacklist and len(i) >= 3]  # min len of common word is 3, word shouldn't be in the blacklist\n",
    "    \n",
    "    try:\n",
    "        if len(common_min) > 1:  # if we have at least 2 common words from the above condition\n",
    "            if len(org_split1) == len(common) or len(org_split2) == len(common):\n",
    "                same_flag = True\n",
    "            else:  # potentially change this to elif when we work out the required conditions\n",
    "                pass\n",
    "            \n",
    "                # need to work out these conditions\n",
    "            \n",
    "    except:\n",
    "        pass\n",
    "    \n",
    "    return same_flag"
   ]
  },
  {
   "cell_type": "code",
   "execution_count": 82,
   "metadata": {},
   "outputs": [],
   "source": [
    "count = 0\n",
    "matched_orgs = {}  # {littlesis_id: [bipartite_id_1, bipartite_id_2, ...], ...}\n",
    "\n",
    "for org_id in clean_littlesis_orgs:\n",
    "    count += 1\n",
    "    if count % 500 == 0:\n",
    "        print('Comparing', count)\n",
    "        \n",
    "    p = MinHash(num_perm = 128)\n",
    "    \n",
    "    org = clean_littlesis_orgs[org_id]\n",
    "    \n",
    "    for org_split in org.split():\n",
    "        p.update(org_split.encode('utf-8'))\n",
    "        \n",
    "    res = lsh.query(p)\n",
    "    \n",
    "    for bip_org in res:\n",
    "        if compare(org, bip_org):  # if littlesis_org matches bipartite_org\n",
    "            if org_id in matched_orgs:\n",
    "                matched_orgs[org_id].append(clean_bipartite_orgs_rev[bip_org])\n",
    "            else: \n",
    "                matched_orgs[org_id] = [clean_bipartite_orgs_rev[bip_org]]\n",
    "                \n",
    "with open(os.getcwd() + '/Pickle/matched_orgs.pickle', 'wb') as pkl:\n",
    "    pickle.dump(matched_orgs, pkl, pickle.HIGHEST_PROTOCOL)\n",
    "    \n",
    "print('Done')"
   ]
  }
 ],
 "metadata": {
  "kernelspec": {
   "display_name": "Python 3",
   "language": "python",
   "name": "python3"
  },
  "language_info": {
   "codemirror_mode": {
    "name": "ipython",
    "version": 3
   },
   "file_extension": ".py",
   "mimetype": "text/x-python",
   "name": "python",
   "nbconvert_exporter": "python",
   "pygments_lexer": "ipython3",
   "version": "3.8.2"
  }
 },
 "nbformat": 4,
 "nbformat_minor": 4
}
